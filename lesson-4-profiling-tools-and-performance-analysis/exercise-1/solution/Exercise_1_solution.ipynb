{
 "cells": [
  {
   "cell_type": "code",
   "execution_count": 1,
   "id": "a1213822-bbcc-491d-8185-342f8ba9109d",
   "metadata": {},
   "outputs": [],
   "source": [
    "import os\n",
    "import torch\n",
    "import torch.nn as nn\n",
    "import torch.optim as optim\n",
    "import torchvision\n",
    "import torchvision.transforms as T\n",
    "from torch.utils.data import DataLoader\n",
    "from torch.profiler import profile, record_function, ProfilerActivity"
   ]
  },
  {
   "cell_type": "code",
   "execution_count": 2,
   "id": "2cc4bb82-2fc4-4e94-b4f5-2b587770589a",
   "metadata": {},
   "outputs": [],
   "source": [
    "def get_dataloaders(batch_size=128, num_workers=4):\n",
    "    \"\"\"\n",
    "    TODO:\n",
    "      - Compose transforms (Resize→32, ToTensor, Normalize)\n",
    "      - Load CIFAR10 train & test datasets with torchvision.datasets.CIFAR10\n",
    "      - Return train_loader and test_loader DataLoader objects\n",
    "    \"\"\"\n",
    "    transform = T.Compose([\n",
    "        T.Resize(32),\n",
    "        T.ToTensor(),\n",
    "        T.Normalize((0.5,0.5,0.5), (0.5,0.5,0.5)),\n",
    "    ])\n",
    "    train_ds = torchvision.datasets.CIFAR10(\n",
    "        root='./data', train=True, download=True, transform=transform\n",
    "    )\n",
    "    test_ds = torchvision.datasets.CIFAR10(\n",
    "        root='./data', train=False, download=True, transform=transform\n",
    "    )\n",
    "    train_loader = DataLoader(train_ds, batch_size=batch_size,\n",
    "                              shuffle=True, num_workers=num_workers)\n",
    "    test_loader  = DataLoader(test_ds,  batch_size=batch_size,\n",
    "                              shuffle=False, num_workers=num_workers)\n",
    "    return train_loader, test_loader"
   ]
  },
  {
   "cell_type": "code",
   "execution_count": 4,
   "id": "952e8719-cbc7-4da3-be47-a197780c91d2",
   "metadata": {},
   "outputs": [],
   "source": [
    "def build_model(device):\n",
    "    \"\"\"\n",
    "    TODO:\n",
    "      - Instantiate torchvision.models.resnet18(pretrained=False)\n",
    "      - Replace final fc layer with nn.Linear(in_features, 10)\n",
    "      - Move model to `device` and return it\n",
    "    \"\"\"\n",
    "    model = torchvision.models.resnet18(pretrained=False)\n",
    "    model.fc = nn.Linear(model.fc.in_features, 10)\n",
    "    return model.to(device)\n"
   ]
  },
  {
   "cell_type": "code",
   "execution_count": 5,
   "id": "2d9dc7c6-dfad-4f22-a9ac-60d425e27406",
   "metadata": {},
   "outputs": [],
   "source": [
    "def train_step(model, data, target, optimizer, criterion):\n",
    "    \"\"\"\n",
    "    TODO:\n",
    "      - Zero grads, do forward(model(data)), compute loss,\n",
    "        backward(), step optimizer\n",
    "      - Return the loss value (item)\n",
    "    \"\"\"\n",
    "    optimizer.zero_grad()\n",
    "    outputs = model(data)\n",
    "    loss = criterion(outputs, target)\n",
    "    loss.backward()\n",
    "    optimizer.step()\n",
    "    return loss.item()"
   ]
  },
  {
   "cell_type": "code",
   "execution_count": 6,
   "id": "77651d29-b534-417a-ba55-c31b6568489d",
   "metadata": {},
   "outputs": [],
   "source": [
    "def inference_step(model, data):\n",
    "    \"\"\"\n",
    "    TODO:\n",
    "      - Run a forward pass under torch.no_grad()\n",
    "    \"\"\"\n",
    "    with torch.no_grad():\n",
    "        _ = model(data)"
   ]
  },
  {
   "cell_type": "code",
   "execution_count": 7,
   "id": "9cbb9df6-c0ff-4fc3-a000-cbcdd1e1fd80",
   "metadata": {},
   "outputs": [],
   "source": [
    "def start():\n",
    "    # 1) Set device\n",
    "    device = torch.device(\"cuda\" if torch.cuda.is_available() else \"cpu\")\n",
    "\n",
    "    # 2) Load data\n",
    "    train_loader, test_loader = get_dataloaders(batch_size=128, num_workers=4)\n",
    "\n",
    "    # 3) Build model + optimizer + loss\n",
    "    model     = build_model(device)\n",
    "    optimizer = optim.SGD(model.parameters(), lr=0.01, momentum=0.9)\n",
    "    criterion = nn.CrossEntropyLoss()\n",
    "\n",
    "    # 4) Warm up on one batch\n",
    "    data, target = next(iter(train_loader))\n",
    "    data, target = data.to(device), target.to(device)\n",
    "    train_step(model, data, target, optimizer, criterion)\n",
    "    inference_step(model, data)\n",
    "\n",
    "    # 5) Prepare profiler logdir\n",
    "    logdir = \"./profiler_logs\"\n",
    "    os.makedirs(logdir, exist_ok=True)\n",
    "\n",
    "    # 6) Profile exactly one train + one inference\n",
    "    with profile(\n",
    "        activities=[ProfilerActivity.CPU, ProfilerActivity.CUDA],\n",
    "        record_shapes=True,\n",
    "        profile_memory=True,\n",
    "        with_stack=True,\n",
    "        on_trace_ready=torch.profiler.tensorboard_trace_handler(logdir)\n",
    "    ) as prof:\n",
    "        with record_function(\"train_batch\"):\n",
    "            train_step(model, data, target, optimizer, criterion)\n",
    "        with record_function(\"inference_batch\"):\n",
    "            inference_step(model, data)\n",
    "\n",
    "    # 7) Print top‐3 CPU ops\n",
    "    print(\"\\n=== Top 3 ops by CPU self time ===\")\n",
    "    print(prof.key_averages().table(\n",
    "        sort_by=\"self_cpu_time_total\", row_limit=3\n",
    "    ))\n",
    "\n",
    "    # 8) Print top‐3 CUDA ops\n",
    "    print(\"\\n=== Top 3 ops by CUDA self time ===\")\n",
    "    print(prof.key_averages().table(\n",
    "        sort_by=\"self_cuda_time_total\", row_limit=3\n",
    "    ))\n",
    "\n",
    "    print(f\"\\nTrace files written to: {logdir}\")\n",
    "    print(\"Run `tensorboard --logdir profiler_logs` and open the Profile dashboard.\")"
   ]
  },
  {
   "cell_type": "code",
   "execution_count": 8,
   "id": "190d7f65-7d68-4f4d-9d8c-2d778b418b05",
   "metadata": {},
   "outputs": [
    {
     "name": "stderr",
     "output_type": "stream",
     "text": [
      "/opt/conda/lib/python3.11/site-packages/torchvision/models/_utils.py:208: UserWarning: The parameter 'pretrained' is deprecated since 0.13 and may be removed in the future, please use 'weights' instead.\n",
      "  warnings.warn(\n",
      "/opt/conda/lib/python3.11/site-packages/torchvision/models/_utils.py:223: UserWarning: Arguments other than a weight enum or `None` for 'weights' are deprecated since 0.13 and may be removed in the future. The current behavior is equivalent to passing `weights=None`.\n",
      "  warnings.warn(msg)\n"
     ]
    },
    {
     "name": "stdout",
     "output_type": "stream",
     "text": [
      "\n",
      "=== Top 3 ops by CPU self time ===\n",
      "-------------------------------------------------------  ------------  ------------  ------------  ------------  ------------  ------------  ------------  ------------  ------------  ------------  ------------  ------------  ------------  ------------  \n",
      "                                                   Name    Self CPU %      Self CPU   CPU total %     CPU total  CPU time avg     Self CUDA   Self CUDA %    CUDA total  CUDA time avg       CPU Mem  Self CPU Mem      CUDA Mem  Self CUDA Mem    # of Calls  \n",
      "-------------------------------------------------------  ------------  ------------  ------------  ------------  ------------  ------------  ------------  ------------  ------------  ------------  ------------  ------------  ------------  ------------  \n",
      "                       Runtime Triggered Module Loading        31.44%      16.295ms        31.44%      16.295ms       8.148ms     761.836us         1.87%     761.836us     380.918us           0 b           0 b           0 b           0 b             2  \n",
      "                                            train_batch        20.35%      10.545ms        71.33%      36.963ms      36.963ms       0.000us         0.00%      11.467ms      11.467ms           0 b           0 b    -512.00 Kb     -14.39 Mb             1  \n",
      "                                       cudaLaunchKernel         5.89%       3.052ms        37.40%      19.383ms      44.764us       0.000us         0.00%       1.143ms       2.639us           0 b           0 b           0 b           0 b           433  \n",
      "-------------------------------------------------------  ------------  ------------  ------------  ------------  ------------  ------------  ------------  ------------  ------------  ------------  ------------  ------------  ------------  ------------  \n",
      "Self CPU time total: 51.823ms\n",
      "Self CUDA time total: 40.831ms\n",
      "\n",
      "\n",
      "=== Top 3 ops by CUDA self time ===\n",
      "-------------------------------------------------------  ------------  ------------  ------------  ------------  ------------  ------------  ------------  ------------  ------------  ------------  ------------  ------------  ------------  ------------  \n",
      "                                                   Name    Self CPU %      Self CPU   CPU total %     CPU total  CPU time avg     Self CUDA   Self CUDA %    CUDA total  CUDA time avg       CPU Mem  Self CPU Mem      CUDA Mem  Self CUDA Mem    # of Calls  \n",
      "-------------------------------------------------------  ------------  ------------  ------------  ------------  ------------  ------------  ------------  ------------  ------------  ------------  ------------  ------------  ------------  ------------  \n",
      "                                            train_batch         0.00%       0.000us         0.00%       0.000us       0.000us      33.745ms        82.65%      33.745ms      33.745ms           0 b           0 b           0 b           0 b             1  \n",
      "                             aten::convolution_backward         2.34%       1.213ms         4.32%       2.241ms     112.027us      20.489ms        50.18%      20.489ms       1.024ms           0 b           0 b      62.85 Mb      20.25 Mb            20  \n",
      "                                aten::cudnn_convolution         3.06%       1.585ms         9.63%       4.991ms     124.771us      14.595ms        35.75%      14.883ms     372.081us           0 b           0 b      49.75 Mb      49.75 Mb            40  \n",
      "-------------------------------------------------------  ------------  ------------  ------------  ------------  ------------  ------------  ------------  ------------  ------------  ------------  ------------  ------------  ------------  ------------  \n",
      "Self CPU time total: 51.823ms\n",
      "Self CUDA time total: 40.831ms\n",
      "\n",
      "\n",
      "Trace files written to: ./profiler_logs\n",
      "Run `tensorboard --logdir profiler_logs` and open the Profile dashboard.\n"
     ]
    }
   ],
   "source": [
    "start()"
   ]
  },
  {
   "cell_type": "code",
   "execution_count": null,
   "id": "37ff694c-1ad7-4059-b167-e57619055025",
   "metadata": {},
   "outputs": [],
   "source": []
  }
 ],
 "metadata": {
  "kernelspec": {
   "display_name": "Python 3 (ipykernel)",
   "language": "python",
   "name": "python3"
  },
  "language_info": {
   "codemirror_mode": {
    "name": "ipython",
    "version": 3
   },
   "file_extension": ".py",
   "mimetype": "text/x-python",
   "name": "python",
   "nbconvert_exporter": "python",
   "pygments_lexer": "ipython3",
   "version": "3.11.11"
  }
 },
 "nbformat": 4,
 "nbformat_minor": 5
}
