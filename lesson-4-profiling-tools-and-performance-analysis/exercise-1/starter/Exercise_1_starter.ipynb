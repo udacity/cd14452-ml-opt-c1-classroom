{
 "cells": [
  {
   "cell_type": "code",
   "execution_count": 1,
   "id": "62f5b794-053c-49ff-85d1-2bdffb2dc29b",
   "metadata": {},
   "outputs": [],
   "source": [
    "import os\n",
    "import torch\n",
    "import torch.nn as nn\n",
    "import torch.optim as optim\n",
    "import torchvision\n",
    "import torchvision.transforms as T\n",
    "from torch.utils.data import DataLoader\n",
    "from torch.profiler import profile, record_function, ProfilerActivity"
   ]
  },
  {
   "cell_type": "code",
   "execution_count": 2,
   "id": "9f61fffc-8fc7-41cc-9063-b894a075ba4c",
   "metadata": {},
   "outputs": [],
   "source": [
    "def get_dataloaders(batch_size=128, num_workers=4):\n",
    "    \"\"\"\n",
    "    TODO:\n",
    "      - Compose transforms (Resize→32, ToTensor, Normalize)\n",
    "      - Load CIFAR10 train & test datasets with torchvision.datasets.CIFAR10\n",
    "      - Return train_loader and test_loader DataLoader objects\n",
    "    \"\"\"\n",
    "    raise NotImplementedError"
   ]
  },
  {
   "cell_type": "code",
   "execution_count": 3,
   "id": "b568145b-ceae-48eb-82a3-f44d5722e9b5",
   "metadata": {},
   "outputs": [],
   "source": [
    "def build_model(device):\n",
    "    \"\"\"\n",
    "    TODO:\n",
    "      - Instantiate torchvision.models.resnet18(pretrained=False)\n",
    "      - Replace final fc layer with nn.Linear(in_features, 10)\n",
    "      - Move model to `device` and return it\n",
    "    \"\"\"\n",
    "    raise NotImplementedError\n"
   ]
  },
  {
   "cell_type": "code",
   "execution_count": 4,
   "id": "496db941-d1f8-41ca-911e-33d1a03f0131",
   "metadata": {},
   "outputs": [],
   "source": [
    "def train_step(model, data, target, optimizer, criterion):\n",
    "    \"\"\"\n",
    "    TODO:\n",
    "      - Zero grads, do forward(model(data)), compute loss,\n",
    "        backward(), step optimizer\n",
    "      - Return the loss value (item)\n",
    "    \"\"\"\n",
    "    raise NotImplementedError"
   ]
  },
  {
   "cell_type": "code",
   "execution_count": 5,
   "id": "8998dfb4-8681-44d2-80f8-07f756ed38cf",
   "metadata": {},
   "outputs": [],
   "source": [
    "def inference_step(model, data):\n",
    "    \"\"\"\n",
    "    TODO:\n",
    "      - Run a forward pass under torch.no_grad()\n",
    "    \"\"\"\n",
    "    raise NotImplementedError"
   ]
  },
  {
   "cell_type": "code",
   "execution_count": null,
   "id": "b205afc0-df66-4bb7-80a9-dee7fee9c01b",
   "metadata": {},
   "outputs": [],
   "source": [
    "def start():\n",
    "    # 1) Set device\n",
    "    device = torch.device(\"cuda\" if torch.cuda.is_available() else \"cpu\")\n",
    "\n",
    "    # 2) Load data\n",
    "    train_loader, test_loader = get_dataloaders(batch_size=128, num_workers=4)\n",
    "\n",
    "    # 3) Build model + optimizer + loss\n",
    "    model     = build_model(device)\n",
    "    optimizer = optim.SGD(model.parameters(), lr=0.01, momentum=0.9)\n",
    "    criterion = nn.CrossEntropyLoss()\n",
    "\n",
    "    # 4) Warm up on one batch\n",
    "    data, target = next(iter(train_loader))\n",
    "    data, target = data.to(device), target.to(device)\n",
    "    train_step(model, data, target, optimizer, criterion)\n",
    "    inference_step(model, data)\n",
    "\n",
    "    # 5) Prepare profiler logdir\n",
    "    logdir = \"./profiler_logs\"\n",
    "    os.makedirs(logdir, exist_ok=True)\n",
    "\n",
    "    # 6) Profile exactly one train + one inference\n",
    "    with profile(\n",
    "        activities=[ProfilerActivity.CPU, ProfilerActivity.CUDA],\n",
    "        record_shapes=True,\n",
    "        profile_memory=True,\n",
    "        with_stack=True,\n",
    "        on_trace_ready=torch.profiler.tensorboard_trace_handler(logdir)\n",
    "    ) as prof:\n",
    "        with record_function(\"train_batch\"):\n",
    "            train_step(model, data, target, optimizer, criterion)\n",
    "        with record_function(\"inference_batch\"):\n",
    "            inference_step(model, data)\n",
    "\n",
    "    # 7) Print top‐3 CPU ops\n",
    "    print(\"\\n=== Top 3 ops by CPU self time ===\")\n",
    "    print(prof.key_averages().table(\n",
    "        sort_by=\"self_cpu_time_total\", row_limit=3\n",
    "    ))\n",
    "\n",
    "    # 8) Print top‐3 CUDA ops\n",
    "    print(\"\\n=== Top 3 ops by CUDA self time ===\")\n",
    "    print(prof.key_averages().table(\n",
    "        sort_by=\"self_cuda_time_total\", row_limit=3\n",
    "    ))\n",
    "\n",
    "    print(f\"\\nTrace files written to: {logdir}\")\n",
    "    print(\"Run `tensorboard --logdir profiler_logs` and open the Profile dashboard.\")"
   ]
  },
  {
   "cell_type": "code",
   "execution_count": null,
   "id": "93ca0b89-27ce-48f1-8aca-0e7ab361bbae",
   "metadata": {},
   "outputs": [],
   "source": [
    "start()"
   ]
  }
 ],
 "metadata": {
  "kernelspec": {
   "display_name": "Python 3 (ipykernel)",
   "language": "python",
   "name": "python3"
  },
  "language_info": {
   "codemirror_mode": {
    "name": "ipython",
    "version": 3
   },
   "file_extension": ".py",
   "mimetype": "text/x-python",
   "name": "python",
   "nbconvert_exporter": "python",
   "pygments_lexer": "ipython3",
   "version": "3.11.11"
  }
 },
 "nbformat": 4,
 "nbformat_minor": 5
}
