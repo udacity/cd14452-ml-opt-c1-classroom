{
 "cells": [
  {
   "cell_type": "markdown",
   "id": "9c47127a-d8c2-40d5-b396-5e73e069887f",
   "metadata": {},
   "source": [
    "# Exercise: Measure Latency & Throughput\n",
    "**Objective:** Get hands‑on loading Llama 3.2-Text-1B and timing a simple generation so you understand raw latency and throughput.\n",
    "\n",
    "**Tasks:**\n",
    "1. Load the model & tokenizer  \n",
    "2. Prepare a prompt: Pick or write ~30–50 words; tokenize with tokenizer(...)\n",
    "3. Time your generation\n",
    "4. Record\n",
    "   - Latency (s)\n",
    "   - Throughput (tokens/s)"
   ]
  },
  {
   "cell_type": "code",
   "execution_count": null,
   "id": "26df9c6b-dc52-44d4-b96b-dff71bc0c93b",
   "metadata": {},
   "outputs": [],
   "source": [
    "import time\n",
    "import torch\n",
    "from transformers import AutoTokenizer, AutoModelForCausalLM"
   ]
  },
  {
   "cell_type": "code",
   "execution_count": null,
   "id": "93a152d1-4195-473f-b457-18f87e591465",
   "metadata": {},
   "outputs": [],
   "source": [
    "# 1. SETTINGS\n",
    "MODEL_NAME     = \"meta-llama/Llama-3.2-1B\"\n",
    "MAX_NEW_TOKENS = 50"
   ]
  },
  {
   "cell_type": "code",
   "execution_count": null,
   "id": "8b673513-46ef-41fb-9b72-dd8e89cf1b42",
   "metadata": {},
   "outputs": [],
   "source": [
    "def load_model_and_tokenizer(model_name: str):\n",
    "    \"\"\"\n",
    "    TODO:\n",
    "      - load and return (tokenizer, model)\n",
    "      - move model to GPU if available and set eval mode\n",
    "    \"\"\"\n",
    "    # tokenizer = ...\n",
    "    # model     = ...\n",
    "    # model.to(device).eval()\n",
    "    raise NotImplementedError"
   ]
  },
  {
   "cell_type": "code",
   "execution_count": null,
   "id": "3376c15d-6417-4e40-8a18-7e974bd45be1",
   "metadata": {},
   "outputs": [],
   "source": [
    "def prepare_prompt(tokenizer):\n",
    "    \"\"\"\n",
    "    TODO:\n",
    "      - choose or write ~30–50 word prompt\n",
    "      - tokenize: return inputs (dict) and input_length (int)\n",
    "    \"\"\"\n",
    "    # prompt = \"… your 30–50 word text …\"\n",
    "    # inputs = tokenizer(prompt, return_tensors=\"pt\")\n",
    "    # input_len = inputs.input_ids.size(1)\n",
    "    raise NotImplementedError"
   ]
  },
  {
   "cell_type": "code",
   "execution_count": null,
   "id": "c85da20e-cc9d-465b-a4b7-f0b8fa0b5778",
   "metadata": {},
   "outputs": [],
   "source": [
    "def warmup_model(model, inputs, device):\n",
    "    \"\"\"\n",
    "    TODO:\n",
    "      - run a small generate (e.g. max_new_tokens=5)\n",
    "      - torch.cuda.synchronize() if on CUDA\n",
    "    \"\"\"\n",
    "    raise NotImplementedError"
   ]
  },
  {
   "cell_type": "code",
   "execution_count": null,
   "id": "edda3578-9c0f-4433-a5ef-8393643f14a2",
   "metadata": {},
   "outputs": [],
   "source": [
    "def measure_generation(model, inputs, max_new_tokens, device):\n",
    "    \"\"\"\n",
    "    TODO:\n",
    "      - record start time\n",
    "      - call model.generate(**inputs, max_new_tokens=max_new_tokens)\n",
    "      - synchronize if CUDA\n",
    "      - record end time\n",
    "      - compute latency (s) and generated_tokens (int)\n",
    "      - return latency, generated_tokens\n",
    "    \"\"\"\n",
    "    raise NotImplementedError"
   ]
  },
  {
   "cell_type": "code",
   "execution_count": null,
   "id": "db6df4a1-3400-4a54-b8b2-294a49bd10c5",
   "metadata": {},
   "outputs": [],
   "source": [
    "def start():\n",
    "    # 0. Load\n",
    "    tokenizer, model, device = load_model_and_tokenizer(MODEL_NAME)\n",
    "    print(f\"Using device: {device}\")\n",
    "\n",
    "    # 1. Prepare prompt\n",
    "    inputs, input_len = prepare_prompt(tokenizer)\n",
    "    inputs = {k: v.to(device) for k, v in inputs.items()}\n",
    "    print(f\"Prompt token length: {input_len}\")\n",
    "\n",
    "    # 2. Warm-up\n",
    "    warmup_model(model, inputs, device)\n",
    "    print(\"Warm-up complete.\")\n",
    "\n",
    "    # 3. Measure\n",
    "    latency, gen_tokens = measure_generation(model, inputs, MAX_NEW_TOKENS, device)\n",
    "\n",
    "    # 4. Compute & report\n",
    "    throughput = gen_tokens / latency\n",
    "    print(f\"Generated tokens: {gen_tokens}\")\n",
    "    print(f\"Latency        : {latency:.3f} s\")\n",
    "    print(f\"Throughput     : {throughput:.1f} tokens/s\")"
   ]
  },
  {
   "cell_type": "code",
   "execution_count": null,
   "id": "404248d5-2f77-4aed-a4f3-def2063df1dd",
   "metadata": {},
   "outputs": [],
   "source": [
    "start()"
   ]
  },
  {
   "cell_type": "code",
   "execution_count": null,
   "id": "7851aece-4d80-484c-afb8-3e7daa1a0c2a",
   "metadata": {},
   "outputs": [],
   "source": []
  }
 ],
 "metadata": {
  "kernelspec": {
   "display_name": "Python 3 (ipykernel)",
   "language": "python",
   "name": "python3"
  },
  "language_info": {
   "codemirror_mode": {
    "name": "ipython",
    "version": 3
   },
   "file_extension": ".py",
   "mimetype": "text/x-python",
   "name": "python",
   "nbconvert_exporter": "python",
   "pygments_lexer": "ipython3",
   "version": "3.11.11"
  }
 },
 "nbformat": 4,
 "nbformat_minor": 5
}
