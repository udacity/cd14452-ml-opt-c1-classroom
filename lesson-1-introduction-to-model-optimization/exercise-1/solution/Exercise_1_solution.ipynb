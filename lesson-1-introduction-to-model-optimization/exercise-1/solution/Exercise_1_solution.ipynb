{
 "cells": [
  {
   "cell_type": "markdown",
   "id": "6b83e097-6e16-47f2-a52b-15bb3b236c6e",
   "metadata": {},
   "source": [
    "# Exercise: Measure Latency & Throughput\n",
    "**Objective:** Get hands‑on loading Llama 3.2-Text-1B and timing a simple generation so you understand raw latency and throughput.\n",
    "\n",
    "**Tasks:**\n",
    "1. Load the model & tokenizer  \n",
    "2. Prepare a prompt: Pick or write ~30–50 words; tokenize with tokenizer(...)\n",
    "3. Time your generation\n",
    "4. Record\n",
    "   - Latency (s)\n",
    "   - Throughput (tokens/s)"
   ]
  },
  {
   "cell_type": "code",
   "execution_count": 1,
   "id": "751457c1-58b5-4e22-8131-4ddb1e989b2e",
   "metadata": {},
   "outputs": [],
   "source": [
    "import time\n",
    "import torch\n",
    "from transformers import AutoTokenizer, AutoModelForCausalLM"
   ]
  },
  {
   "cell_type": "code",
   "execution_count": 2,
   "id": "5c2a1117-3a61-4a83-9574-00076c3075e8",
   "metadata": {},
   "outputs": [],
   "source": [
    "# 1. SETTINGS\n",
    "MODEL_NAME     = \"meta-llama/Llama-3.2-1B\"\n",
    "MAX_NEW_TOKENS = 50"
   ]
  },
  {
   "cell_type": "code",
   "execution_count": 3,
   "id": "cc2b3e86-c7d1-4e9d-840c-fe8910356c33",
   "metadata": {},
   "outputs": [],
   "source": [
    "def load_model_and_tokenizer(model_name: str):\n",
    "    \"\"\"\n",
    "    TODO:\n",
    "      - load and return (tokenizer, model)\n",
    "      - move model to GPU if available and set eval mode\n",
    "    \"\"\"\n",
    "    device = torch.device(\"cuda\" if torch.cuda.is_available() else \"cpu\")\n",
    "    tokenizer = AutoTokenizer.from_pretrained(MODEL_NAME, use_fast=True)\n",
    "    model = AutoModelForCausalLM.from_pretrained(\n",
    "        MODEL_NAME,\n",
    "        torch_dtype=torch.float16\n",
    "    )\n",
    "    model.to(device).eval()\n",
    "    return tokenizer, model, device"
   ]
  },
  {
   "cell_type": "code",
   "execution_count": 4,
   "id": "09510d3b-976e-4c67-ad3b-2ed55af6d328",
   "metadata": {},
   "outputs": [],
   "source": [
    "def prepare_prompt(tokenizer):\n",
    "    \"\"\"\n",
    "    TODO:\n",
    "      - choose or write ~30–50 word prompt\n",
    "      - tokenize: return inputs (dict) and input_length (int)\n",
    "    \"\"\"\n",
    "    prompt = (\n",
    "        \"The first two courses on Udacity started on 20 February 2012,[29] entitled 'CS 101: Building a Search Engine', taught by David Evans from the University of Virginia, and 'CS 373: Programming a Robotic Car' taught by Thrun. Both courses use Python.\"\n",
    "    )\n",
    "    inputs = tokenizer(prompt, return_tensors=\"pt\")\n",
    "    input_len = inputs[\"input_ids\"].size(1)\n",
    "    return inputs, input_len"
   ]
  },
  {
   "cell_type": "code",
   "execution_count": 5,
   "id": "8224ff6f-41b2-4465-9f77-8139695d2a78",
   "metadata": {},
   "outputs": [],
   "source": [
    "def warmup_model(model, inputs, device):\n",
    "    \"\"\"\n",
    "    TODO:\n",
    "      - run a small generate (e.g. max_new_tokens=5)\n",
    "      - torch.cuda.synchronize() if on CUDA\n",
    "    \"\"\"\n",
    "    _ = model.generate(**inputs, max_new_tokens=5)\n",
    "    if device.type == \"cuda\":\n",
    "        torch.cuda.synchronize()"
   ]
  },
  {
   "cell_type": "code",
   "execution_count": 11,
   "id": "7203c3b0-7ba4-4165-96e9-499cf7fcc08b",
   "metadata": {},
   "outputs": [],
   "source": [
    "def measure_generation(model, inputs, max_new_tokens, device):\n",
    "    \"\"\"\n",
    "    TODO:\n",
    "      - record start time\n",
    "      - call model.generate(**inputs, max_new_tokens=max_new_tokens)\n",
    "      - synchronize if CUDA\n",
    "      - record end time\n",
    "      - compute latency (s) and generated_tokens (int)\n",
    "      - return latency, generated_tokens\n",
    "    \"\"\"\n",
    "    inputs = {k: v.to(device) for k, v in inputs.items()}\n",
    "    input_len = inputs[\"input_ids\"].size(1)\n",
    "\n",
    "    start = time.time()\n",
    "    outputs = model.generate(**inputs, max_new_tokens=max_new_tokens)\n",
    "    if device.type == \"cuda\":\n",
    "        torch.cuda.synchronize()\n",
    "    end = time.time()\n",
    "\n",
    "    latency_s = end - start\n",
    "    gen_tokens = outputs.size(1) - input_len\n",
    "    return latency_s, gen_tokens"
   ]
  },
  {
   "cell_type": "code",
   "execution_count": 12,
   "id": "05a213b2-c29e-4d09-915e-51e5377ea30d",
   "metadata": {},
   "outputs": [],
   "source": [
    "def start():\n",
    "    # 0. Load\n",
    "    tokenizer, model, device = load_model_and_tokenizer(MODEL_NAME)\n",
    "    print(f\"Using device: {device}\")\n",
    "\n",
    "    # 1. Prepare prompt\n",
    "    inputs, input_len = prepare_prompt(tokenizer)\n",
    "    inputs = {k: v.to(device) for k, v in inputs.items()}\n",
    "    print(f\"Prompt token length: {input_len}\")\n",
    "\n",
    "    # 2. Warm-up\n",
    "    warmup_model(model, inputs, device)\n",
    "    print(\"Warm-up complete.\")\n",
    "\n",
    "    # 3. Measure\n",
    "    latency, gen_tokens = measure_generation(model, inputs, MAX_NEW_TOKENS, device)\n",
    "\n",
    "    # 4. Compute & report\n",
    "    throughput = gen_tokens / latency\n",
    "    print(f\"Generated tokens: {gen_tokens}\")\n",
    "    print(f\"Latency        : {latency:.3f} s\")\n",
    "    print(f\"Throughput     : {throughput:.1f} tokens/s\")"
   ]
  },
  {
   "cell_type": "code",
   "execution_count": 13,
   "id": "2bb84623-6337-4998-9eb2-9676ca58f8c0",
   "metadata": {},
   "outputs": [
    {
     "name": "stderr",
     "output_type": "stream",
     "text": [
      "Setting `pad_token_id` to `eos_token_id`:128001 for open-end generation.\n",
      "Setting `pad_token_id` to `eos_token_id`:128001 for open-end generation.\n"
     ]
    },
    {
     "name": "stdout",
     "output_type": "stream",
     "text": [
      "Using device: cuda\n",
      "Prompt token length: 62\n",
      "Warm-up complete.\n",
      "Generated tokens: 50\n",
      "Latency        : 0.874 s\n",
      "Throughput     : 57.2 tokens/s\n"
     ]
    }
   ],
   "source": [
    "start()"
   ]
  },
  {
   "cell_type": "code",
   "execution_count": null,
   "id": "81469e9f-55e3-45e6-8108-188f25192358",
   "metadata": {},
   "outputs": [],
   "source": []
  }
 ],
 "metadata": {
  "kernelspec": {
   "display_name": "Python 3 (ipykernel)",
   "language": "python",
   "name": "python3"
  },
  "language_info": {
   "codemirror_mode": {
    "name": "ipython",
    "version": 3
   },
   "file_extension": ".py",
   "mimetype": "text/x-python",
   "name": "python",
   "nbconvert_exporter": "python",
   "pygments_lexer": "ipython3",
   "version": "3.11.11"
  }
 },
 "nbformat": 4,
 "nbformat_minor": 5
}
