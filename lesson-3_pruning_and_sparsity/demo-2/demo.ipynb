{
 "cells": [
  {
   "cell_type": "markdown",
   "id": "0b867c52-87bd-4857-991a-64c78ac70312",
   "metadata": {},
   "source": [
    "# Multimodal Pruning + LoRA Recovery (T4 Demo)\n",
    "**Model:** Qwen/Qwen2-VL-2B-Instruct (text+vision)  \n",
    "**Pruning:** 30% attention heads _or_ 30% FFN channels (logical masking, shape-preserving)  \n",
    "**Fine-tune:** LoRA on attention + MLP to recover accuracy  \n",
    "**Eval:** Toy perplexity & a quick generation on colored squares\n"
   ]
  },
  {
   "cell_type": "markdown",
   "id": "e93cacff-c4e2-4cf0-829b-37efda9dc6d1",
   "metadata": {},
   "source": [
    "# 1) Setup (Installs & GPU check)"
   ]
  },
  {
   "cell_type": "code",
   "execution_count": 1,
   "id": "5aafe064-3225-4755-a37d-63c679060efb",
   "metadata": {},
   "outputs": [
    {
     "name": "stdout",
     "output_type": "stream",
     "text": [
      "Torch: 2.3.1+cu121 | CUDA: 12.1 | Py: 3.11.11\n",
      "GPU: Tesla T4\n"
     ]
    }
   ],
   "source": [
    "!pip -q install \"transformers>=4.43.3\" \"accelerate>=0.32.0\" \"peft>=0.11.1\" \"datasets\" \"pillow\" \"torchvision\"\n",
    "\n",
    "import os\n",
    "os.environ[\"TOKENIZERS_PARALLELISM\"] = \"false\"   # or \"true\" if you prefer\n",
    "\n",
    "import os, gc, math, random, platform, warnings\n",
    "import torch, torch.nn as nn\n",
    "from torch.utils.data import Dataset, DataLoader\n",
    "from typing import List\n",
    "\n",
    "print(\"Torch:\", torch.__version__, \"| CUDA:\", torch.version.cuda, \"| Py:\", platform.python_version())\n",
    "print(\"GPU:\", torch.cuda.get_device_name(0) if torch.cuda.is_available() else \"CPU only\")\n",
    "\n",
    "# Repro\n",
    "SEED = 42\n",
    "random.seed(SEED); torch.manual_seed(SEED); torch.cuda.manual_seed_all(SEED)"
   ]
  },
  {
   "cell_type": "markdown",
   "id": "b48e9413-d24c-4211-9477-1a8dcd4be7d0",
   "metadata": {},
   "source": [
    "# 2) Imports & Config"
   ]
  },
  {
   "cell_type": "code",
   "execution_count": 2,
   "id": "12f08605-1e4d-4878-a4d8-ee23a8ef1864",
   "metadata": {},
   "outputs": [
    {
     "name": "stderr",
     "output_type": "stream",
     "text": [
      "2025-08-25 00:16:49.783489: I tensorflow/core/util/port.cc:153] oneDNN custom operations are on. You may see slightly different numerical results due to floating-point round-off errors from different computation orders. To turn them off, set the environment variable `TF_ENABLE_ONEDNN_OPTS=0`.\n",
      "2025-08-25 00:16:49.797166: E external/local_xla/xla/stream_executor/cuda/cuda_fft.cc:485] Unable to register cuFFT factory: Attempting to register factory for plugin cuFFT when one has already been registered\n",
      "2025-08-25 00:16:49.814412: E external/local_xla/xla/stream_executor/cuda/cuda_dnn.cc:8454] Unable to register cuDNN factory: Attempting to register factory for plugin cuDNN when one has already been registered\n",
      "2025-08-25 00:16:49.819831: E external/local_xla/xla/stream_executor/cuda/cuda_blas.cc:1452] Unable to register cuBLAS factory: Attempting to register factory for plugin cuBLAS when one has already been registered\n",
      "2025-08-25 00:16:49.832526: I tensorflow/core/platform/cpu_feature_guard.cc:210] This TensorFlow binary is optimized to use available CPU instructions in performance-critical operations.\n",
      "To enable the following instructions: SSE4.1 SSE4.2 AVX AVX2 AVX512F AVX512_VNNI FMA, in other operations, rebuild TensorFlow with the appropriate compiler flags.\n"
     ]
    },
    {
     "name": "stdout",
     "output_type": "stream",
     "text": [
      "Device: cuda | Dtype: torch.float16 | Prune: ffn_channels @ 15%\n"
     ]
    }
   ],
   "source": [
    "from PIL import Image\n",
    "import torchvision\n",
    "import torchvision.transforms as T\n",
    "\n",
    "from transformers import (\n",
    "    AutoProcessor, AutoConfig, AutoModelForVision2Seq, get_linear_schedule_with_warmup\n",
    ")\n",
    "from peft import LoraConfig, get_peft_model\n",
    "\n",
    "# --- Demo knobs ---\n",
    "MODEL_NAME   = \"Qwen/Qwen2-VL-2B-Instruct\"\n",
    "PRUNE_MODE   = \"ffn_channels\"        # \"attn_heads\" (GQA-safe) or \"ffn_channels\"\n",
    "PRUNE_RATIO  = 0.15                  # try 0.15–0.30\n",
    "USE_FP32     = False                 # FP16 recommended on T4 (16 GB)\n",
    "\n",
    "# LoRA / Train knobs (tiny)\n",
    "LR                = 1e-4\n",
    "EPOCHS            = 1\n",
    "BATCH_SIZE        = 2\n",
    "GRAD_ACCUM_STEPS  = 4\n",
    "MAX_LENGTH        = 512\n",
    "WARMUP_STEPS      = 20\n",
    "N_TRAIN, N_VAL    = 800, 200\n",
    "\n",
    "OUTPUT_DIR        = \"./demo_pruned_lora_qwen2vl\"\n",
    "os.makedirs(OUTPUT_DIR, exist_ok=True)\n",
    "\n",
    "device = torch.device(\"cuda\" if torch.cuda.is_available() else \"cpu\")\n",
    "dtype  = torch.float32 if USE_FP32 else torch.float16\n",
    "print(f\"Device: {device} | Dtype: {dtype} | Prune: {PRUNE_MODE} @ {int(PRUNE_RATIO*100)}%\")\n"
   ]
  },
  {
   "cell_type": "markdown",
   "id": "846c9d64-541d-4a19-9e68-b05c758655fc",
   "metadata": {},
   "source": [
    "# 3) Load Model & Processor"
   ]
  },
  {
   "cell_type": "code",
   "execution_count": 3,
   "id": "60a365d7-dd39-4d5a-8bc4-686f54a2e0ab",
   "metadata": {},
   "outputs": [
    {
     "name": "stderr",
     "output_type": "stream",
     "text": [
      "Using a slow image processor as `use_fast` is unset and a slow processor was saved with this model. `use_fast=True` will be the default behavior in v4.52, even if the model was saved with a slow processor. This will result in minor differences in outputs. You'll still be able to use a slow processor with `use_fast=False`.\n"
     ]
    },
    {
     "data": {
      "application/vnd.jupyter.widget-view+json": {
       "model_id": "2f7db725bc96481da7239a89756907b9",
       "version_major": 2,
       "version_minor": 0
      },
      "text/plain": [
       "Loading checkpoint shards:   0%|          | 0/2 [00:00<?, ?it/s]"
      ]
     },
     "metadata": {},
     "output_type": "display_data"
    },
    {
     "name": "stdout",
     "output_type": "stream",
     "text": [
      "Total params: 2209.0M\n"
     ]
    }
   ],
   "source": [
    "processor = AutoProcessor.from_pretrained(MODEL_NAME, trust_remote_code=True)\n",
    "config    = AutoConfig.from_pretrained(MODEL_NAME, trust_remote_code=True)\n",
    "\n",
    "def load_model(dtype):\n",
    "    try:\n",
    "        m = AutoModelForVision2Seq.from_pretrained(\n",
    "            MODEL_NAME, torch_dtype=dtype, low_cpu_mem_usage=True, trust_remote_code=True\n",
    "        ).to(device)\n",
    "        return m, dtype\n",
    "    except torch.cuda.OutOfMemoryError:\n",
    "        print(\"OOM at requested dtype; falling back to FP16.\")\n",
    "        torch.cuda.empty_cache(); gc.collect()\n",
    "        m = AutoModelForVision2Seq.from_pretrained(\n",
    "            MODEL_NAME, torch_dtype=torch.float16, low_cpu_mem_usage=True, trust_remote_code=True\n",
    "        ).to(device)\n",
    "        return m, torch.float16\n",
    "\n",
    "model, dtype = load_model(dtype)\n",
    "model.gradient_checkpointing_enable()  # memory saver\n",
    "\n",
    "hidden_size        = getattr(config, \"hidden_size\", getattr(config, \"hidden_dim\", None))\n",
    "num_heads          = getattr(config, \"num_attention_heads\", getattr(config, \"num_heads\", None))\n",
    "intermediate_size  = getattr(config, \"intermediate_size\", getattr(config, \"ffn_hidden_size\", None))\n",
    "assert hidden_size and num_heads and intermediate_size, \"Missing key config dims.\"\n",
    "head_dim = hidden_size // num_heads\n",
    "\n",
    "total_params_m = sum(p.numel() for p in model.parameters())/1e6\n",
    "print(f\"Total params: {total_params_m:.1f}M\")"
   ]
  },
  {
   "cell_type": "markdown",
   "id": "de685bf9-e5a4-41b9-9969-82df53e3acdb",
   "metadata": {},
   "source": [
    "# 4) Module Finders (attention & MLP)"
   ]
  },
  {
   "cell_type": "code",
   "execution_count": 4,
   "id": "703e1bf8-6249-4e02-b16e-f7fab2263a32",
   "metadata": {},
   "outputs": [],
   "source": [
    "def find_attn_modules(module):\n",
    "    for name, m in module.named_modules():\n",
    "        if all(hasattr(m, x) for x in [\"q_proj\",\"k_proj\",\"v_proj\",\"o_proj\"]):\n",
    "            yield name, m\n",
    "\n",
    "def find_mlp_modules(module):\n",
    "    for name, m in module.named_modules():\n",
    "        if all(hasattr(m, x) for x in [\"gate_proj\",\"up_proj\",\"down_proj\"]):\n",
    "            yield name, m\n"
   ]
  },
  {
   "cell_type": "markdown",
   "id": "1add055c-7d10-44e1-974a-19363a8c2291",
   "metadata": {},
   "source": [
    "# 5) Pruning Utilities (Logical Masking)"
   ]
  },
  {
   "cell_type": "code",
   "execution_count": null,
   "id": "aa3b7389-04e5-4622-979f-66643da1c78b",
   "metadata": {},
   "outputs": [],
   "source": [
    "@torch.no_grad()\n",
    "def prune_attention_heads_logical_gqa(attn_mod, ratio: float):\n",
    "    n_q  = getattr(attn_mod, \"num_heads\", None) \\\n",
    "        or getattr(attn_mod, \"n_heads\", None) \\\n",
    "        or getattr(getattr(attn_mod, \"config\", None), \"num_attention_heads\", None)\n",
    "    n_kv = getattr(attn_mod, \"num_key_value_heads\", None) \\\n",
    "        or getattr(attn_mod, \"n_kv_heads\", None) \\\n",
    "        or getattr(getattr(attn_mod, \"config\", None), \"num_key_value_heads\", None) \\\n",
    "        or n_q\n",
    "    hd = getattr(attn_mod, \"head_dim\", None)\n",
    "    if hd is None:\n",
    "        q_rows = attn_mod.q_proj.weight.shape[0]\n",
    "        assert n_q and q_rows % n_q == 0, \"Cannot infer head_dim.\"\n",
    "        hd = q_rows // n_q\n",
    "    assert n_q and n_kv and n_q >= 1 and n_kv >= 1\n",
    "    assert n_q % n_kv == 0, \"Expected n_q divisible by n_kv for GQA.\"\n",
    "\n",
    "    n_keep_q = max(1, int(n_q * (1.0 - ratio)))\n",
    "    prune_q  = list(range(n_keep_q, n_q))\n",
    "    if not prune_q:\n",
    "        return\n",
    "\n",
    "    def rows_for_heads(head_ids, per_head):\n",
    "        rows = []\n",
    "        for h in head_ids:\n",
    "            s = h * per_head\n",
    "            rows.extend(range(s, s + per_head))\n",
    "        return rows\n",
    "\n",
    "    rows_q  = rows_for_heads(prune_q, hd)\n",
    "    group   = max(1, n_q // n_kv)\n",
    "    prune_kv = sorted(set(h // group for h in prune_q))\n",
    "    rows_kv = rows_for_heads(prune_kv, hd)\n",
    "\n",
    "    # q_proj rows -> mask multiply\n",
    "    Wq = attn_mod.q_proj.weight\n",
    "    mask_q = torch.ones(Wq.shape[0], device=Wq.device, dtype=Wq.dtype)\n",
    "    if rows_q:\n",
    "        idx_q = torch.tensor([r for r in rows_q if 0 <= r < Wq.shape[0]], device=Wq.device, dtype=torch.long)\n",
    "        if idx_q.numel() > 0:\n",
    "            mask_q.index_fill_(0, idx_q, 0)\n",
    "            Wq.mul_(mask_q[:, None])\n",
    "            bq = getattr(attn_mod.q_proj, \"bias\", None)\n",
    "            if bq is not None: bq.mul_(mask_q.to(bq.dtype))\n",
    "\n",
    "    # k_proj / v_proj rows\n",
    "    for pname, rows in ((\"k_proj\", rows_kv), (\"v_proj\", rows_kv)):\n",
    "        proj = getattr(attn_mod, pname)\n",
    "        W    = proj.weight\n",
    "        mask = torch.ones(W.shape[0], device=W.device, dtype=W.dtype)\n",
    "        if rows:\n",
    "            idx  = torch.tensor([r for r in rows if 0 <= r < W.shape[0]], device=W.device, dtype=torch.long)\n",
    "            if idx.numel() > 0:\n",
    "                mask.index_fill_(0, idx, 0)\n",
    "                W.mul_(mask[:, None])\n",
    "                b = getattr(proj, \"bias\", None)\n",
    "                if b is not None: b.mul_(mask.to(b.dtype))\n",
    "\n",
    "    # o_proj columns corresponding to pruned Q rows\n",
    "    Wo = attn_mod.o_proj.weight\n",
    "    col_mask = torch.ones(Wo.shape[1], device=Wo.device, dtype=Wo.dtype)\n",
    "    if rows_q:\n",
    "        idx_cols = torch.tensor([c for c in rows_q if 0 <= c < Wo.shape[1]], device=Wo.device, dtype=torch.long)\n",
    "        if idx_cols.numel() > 0:\n",
    "            col_mask.index_fill_(0, idx_cols, 0)\n",
    "            Wo.mul_(col_mask[None, :])"
   ]
  },
  {
   "cell_type": "code",
   "execution_count": 5,
   "id": "ad4a4839-09eb-4254-b589-5106bd03560f",
   "metadata": {},
   "outputs": [],
   "source": [
    "@torch.no_grad()\n",
    "def prune_ffn_channels_logical_mask(mlp_mod: nn.Module, ratio: float, intermediate_size: int):\n",
    "    n_prune = max(1, int(intermediate_size * ratio))\n",
    "    if n_prune <= 0: return\n",
    "    down_W = mlp_mod.down_proj.weight  # [hidden, inter]\n",
    "    col_norms = torch.norm(down_W, p=1, dim=0)\n",
    "    prune_idx = torch.topk(col_norms, k=n_prune, largest=False).indices\n",
    "\n",
    "    inter_dim = down_W.shape[1]\n",
    "    keep_mask = torch.ones(inter_dim, device=down_W.device, dtype=down_W.dtype)\n",
    "    if prune_idx.numel() > 0:\n",
    "        keep_mask.index_fill_(0, prune_idx, 0)\n",
    "\n",
    "    # down_proj: zero columns\n",
    "    mlp_mod.down_proj.weight.mul_(keep_mask[None, :])\n",
    "    # up_proj / gate_proj: zero rows\n",
    "    for name in [\"up_proj\",\"gate_proj\"]:\n",
    "        getattr(mlp_mod, name).weight.mul_(keep_mask[:, None])\n",
    "        b = getattr(getattr(mlp_mod, name), \"bias\", None)\n",
    "        if b is not None:\n",
    "            b.mul_(keep_mask.to(b.dtype))"
   ]
  },
  {
   "cell_type": "markdown",
   "id": "dd3f8871-d0e9-4084-b4ce-4c6b99514eaa",
   "metadata": {},
   "source": [
    "# 6) Build a Tiny Multimodal Toy Dataset"
   ]
  },
  {
   "cell_type": "code",
   "execution_count": 6,
   "id": "b782051c-8a73-439f-810a-ee6b7eff261e",
   "metadata": {},
   "outputs": [
    {
     "name": "stdout",
     "output_type": "stream",
     "text": [
      "Files already downloaded and verified\n",
      "Files already downloaded and verified\n"
     ]
    }
   ],
   "source": [
    "if processor.tokenizer.pad_token_id is None:\n",
    "    processor.tokenizer.pad_token = processor.tokenizer.eos_token\n",
    "PAD_ID   = processor.tokenizer.pad_token_id\n",
    "IGNOREID = -100\n",
    "EOS      = processor.tokenizer.eos_token\n",
    "\n",
    "root = \"./data_cifar10\"\n",
    "train_raw = torchvision.datasets.CIFAR10(root=root, train=True, download=True)\n",
    "test_raw  = torchvision.datasets.CIFAR10(root=root, train=False, download=True)\n",
    "label_names = train_raw.classes\n",
    "\n",
    "resize_to = 448\n",
    "resize_tf = T.Resize((resize_to, resize_to))\n",
    "\n",
    "def make_examples(ds, n_take):\n",
    "    items = []\n",
    "    for i in range(n_take):\n",
    "        img_pil, y = ds[i]\n",
    "        img = resize_tf(img_pil)\n",
    "        ans = label_names[y]\n",
    "        items.append({\n",
    "            \"image\": img,\n",
    "            \"question\": \"What is in this image?\",\n",
    "            \"answer\": ans,                  # clean answer\n",
    "            \"answer_with_eos\": ans + EOS,   # teach the model to STOP\n",
    "        })\n",
    "    return items\n",
    "\n",
    "N_TRAIN, N_VAL = 800, 200\n",
    "train_items = make_examples(train_raw, N_TRAIN)\n",
    "val_items   = make_examples(test_raw,  N_VAL)\n",
    "\n"
   ]
  },
  {
   "cell_type": "code",
   "execution_count": null,
   "id": "2e038153-df72-4d5e-9116-59e485a935a0",
   "metadata": {},
   "outputs": [],
   "source": [
    "def encode_example_vqa(ex):\n",
    "    # Train template: user + assistant(answer_with_eos)\n",
    "    messages_train = [\n",
    "        {\"role\":\"user\",\"content\":[\n",
    "            {\"type\":\"image\",\"image\": ex[\"image\"]},\n",
    "            {\"type\":\"text\",\"text\": ex[\"question\"]}\n",
    "        ]},\n",
    "        {\"role\":\"assistant\",\"content\":[{\"type\":\"text\",\"text\": ex[\"answer_with_eos\"]}]}\n",
    "    ]\n",
    "    # Generation template: user only (+ generation prompt)\n",
    "    messages_gen = [\n",
    "        {\"role\":\"user\",\"content\":[\n",
    "            {\"type\":\"image\",\"image\": ex[\"image\"]},\n",
    "            {\"type\":\"text\",\"text\": ex[\"question\"]}\n",
    "        ]}\n",
    "    ]\n",
    "    train_text = processor.apply_chat_template(messages_train, tokenize=False, add_generation_prompt=False)\n",
    "    gen_text   = processor.apply_chat_template(messages_gen,   tokenize=False, add_generation_prompt=True)\n",
    "\n",
    "    out = processor(\n",
    "        text=[train_text],\n",
    "        images=[ex[\"image\"]],\n",
    "        return_tensors=\"pt\",\n",
    "        max_length=MAX_LENGTH,\n",
    "        padding=\"longest\",\n",
    "        truncation=True\n",
    "    )\n",
    "\n",
    "    # Supervise only the answer_with_eos tokens (exact span match in tokenized sequence)\n",
    "    def mask_answer_only(input_ids_2d, answer_text):\n",
    "        full_ids = input_ids_2d[0].tolist()\n",
    "        ans_ids  = processor.tokenizer(answer_text, add_special_tokens=False, return_tensors=\"pt\")[\"input_ids\"][0].tolist()\n",
    "\n",
    "        def find_subseq(a, b):\n",
    "            L, M = len(a), len(b)\n",
    "            if M == 0 or M > L: return -1\n",
    "            for i in range(L - M + 1):\n",
    "                if a[i:i+M] == b: return i\n",
    "            return -1\n",
    "\n",
    "        labels = input_ids_2d.clone(); labels[:] = -100\n",
    "        start = find_subseq(full_ids, ans_ids)\n",
    "        if start >= 0:\n",
    "            end = start + len(ans_ids)\n",
    "            labels[:, start:end] = input_ids_2d[:, start:end]\n",
    "        else:\n",
    "            # fallback: supervise last few tokens\n",
    "            keep = min(8, input_ids_2d.shape[1])\n",
    "            labels[:, -keep:] = input_ids_2d[:, -keep:]\n",
    "        return labels\n",
    "\n",
    "    input_ids = out[\"input_ids\"]\n",
    "    labels    = mask_answer_only(input_ids, ex[\"answer_with_eos\"])\n",
    "\n",
    "    return {\n",
    "        \"pixel_values\": out[\"pixel_values\"].squeeze(0),\n",
    "        \"image_grid_thw\": out.get(\"image_grid_thw\", None).squeeze(0) if out.get(\"image_grid_thw\", None) is not None else None,\n",
    "        \"input_ids\": input_ids.squeeze(0),\n",
    "        \"attention_mask\": out[\"attention_mask\"].squeeze(0),\n",
    "        \"labels\": labels.squeeze(0),\n",
    "        # for eval\n",
    "        \"answer_text\": ex[\"answer\"],\n",
    "        \"raw_image\":   ex[\"image\"],\n",
    "        \"gen_prompt\":  gen_text,\n",
    "    }\n",
    "\n",
    "train_encoded = [encode_example_vqa(ex) for ex in train_items]\n",
    "val_encoded   = [encode_example_vqa(ex) for ex in val_items]\n",
    "\n",
    "class CIFARVQADataset(Dataset):\n",
    "    def __init__(self, encoded): self.encoded = encoded\n",
    "    def __len__(self): return len(self.encoded)\n",
    "    def __getitem__(self, i): return self.encoded[i]\n",
    "\n",
    "train_ds = CIFARVQADataset(train_encoded)\n",
    "val_ds   = CIFARVQADataset(val_encoded)"
   ]
  },
  {
   "cell_type": "code",
   "execution_count": 7,
   "id": "e1a1d002-6ac6-4dd0-84c9-ce3c83330fc4",
   "metadata": {},
   "outputs": [],
   "source": [
    "def pad_1d(seqs, pad_val):\n",
    "    maxlen = max(x.size(0) for x in seqs)\n",
    "    out = torch.full((len(seqs), maxlen), pad_val, dtype=seqs[0].dtype)\n",
    "    for i, s in enumerate(seqs):\n",
    "        out[i, :s.size(0)] = s\n",
    "    return out\n",
    "\n",
    "def collate_fn(batch):\n",
    "    out = {}\n",
    "    out[\"pixel_values\"]   = torch.stack([b[\"pixel_values\"] for b in batch], dim=0)\n",
    "    grids = [b[\"image_grid_thw\"] for b in batch]\n",
    "    out[\"image_grid_thw\"] = torch.stack(grids, dim=0) if all(g is not None for g in grids) else None\n",
    "\n",
    "    out[\"input_ids\"]      = pad_1d([b[\"input_ids\"] for b in batch], PAD_ID)\n",
    "    out[\"attention_mask\"] = pad_1d([b[\"attention_mask\"] for b in batch], 0)\n",
    "    out[\"labels\"]         = pad_1d([b[\"labels\"] for b in batch], IGNOREID)\n",
    "\n",
    "    out[\"answer_text\"] = [b[\"answer_text\"] for b in batch]\n",
    "    out[\"raw_images\"]  = [b[\"raw_image\"]   for b in batch]\n",
    "    out[\"gen_prompts\"] = [b[\"gen_prompt\"]  for b in batch]\n",
    "    return out\n",
    "\n",
    "train_loader = DataLoader(train_ds, batch_size=BATCH_SIZE, shuffle=True,  collate_fn=collate_fn)\n",
    "val_loader   = DataLoader(val_ds,   batch_size=2,          shuffle=False, collate_fn=collate_fn)"
   ]
  },
  {
   "cell_type": "markdown",
   "id": "a0e5b105-b7c3-4bdc-9625-95aa03689952",
   "metadata": {},
   "source": [
    "# 7) Baseline Toy Perplexity"
   ]
  },
  {
   "cell_type": "code",
   "execution_count": null,
   "id": "dd22041b-17a9-4a59-8d73-ffd032179ef2",
   "metadata": {},
   "outputs": [],
   "source": [
    "@torch.no_grad()\n",
    "def eval_loss(model, loader):\n",
    "    model.eval()\n",
    "    total_loss, total_tokens = 0.0, 0\n",
    "    for batch in loader:\n",
    "        moved = {}\n",
    "        for k, v in batch.items():\n",
    "            if k == \"pixel_values\" and v is not None:\n",
    "                moved[k] = v.to(device, dtype=dtype)\n",
    "            elif k in (\"input_ids\",\"attention_mask\",\"labels\") and v is not None:\n",
    "                moved[k] = v.to(device)\n",
    "        if batch.get(\"image_grid_thw\") is not None:\n",
    "            moved[\"image_grid_thw\"] = batch[\"image_grid_thw\"].to(device)\n",
    "        out = model(**moved)\n",
    "        n_tokens = (moved[\"labels\"] != -100).sum().item()\n",
    "        total_loss += out.loss.item() * max(1, n_tokens)\n",
    "        total_tokens += max(1, n_tokens)\n",
    "    model.train()\n",
    "    import math\n",
    "    return math.exp(total_loss / max(1, total_tokens))"
   ]
  },
  {
   "cell_type": "code",
   "execution_count": 8,
   "id": "22104830-6097-47e2-82b0-1fb494e6e921",
   "metadata": {},
   "outputs": [
    {
     "name": "stdout",
     "output_type": "stream",
     "text": [
      "Running quick baseline eval (pre-prune)...\n"
     ]
    },
    {
     "name": "stderr",
     "output_type": "stream",
     "text": [
      "/opt/conda/lib/python3.11/site-packages/transformers/generation/configuration_utils.py:631: UserWarning: `do_sample` is set to `False`. However, `temperature` is set to `0.01` -- this flag is only used in sample-based generation modes. You should set `do_sample=True` or unset `temperature`.\n",
      "  warnings.warn(\n",
      "/opt/conda/lib/python3.11/site-packages/transformers/generation/configuration_utils.py:636: UserWarning: `do_sample` is set to `False`. However, `top_p` is set to `0.001` -- this flag is only used in sample-based generation modes. You should set `do_sample=True` or unset `top_p`.\n",
      "  warnings.warn(\n",
      "/opt/conda/lib/python3.11/site-packages/transformers/generation/configuration_utils.py:653: UserWarning: `do_sample` is set to `False`. However, `top_k` is set to `1` -- this flag is only used in sample-based generation modes. You should set `do_sample=True` or unset `top_k`.\n",
      "  warnings.warn(\n",
      "/opt/conda/lib/python3.11/site-packages/transformers/generation/configuration_utils.py:698: UserWarning: `num_beams` is set to 1. However, `length_penalty` is set to `2.0` -- this flag is only used in beam-based generation modes. You should set `num_beams>1` or unset `length_penalty`.\n",
      "  warnings.warn(\n"
     ]
    },
    {
     "name": "stdout",
     "output_type": "stream",
     "text": [
      "Train PPL (pre-prune): 1531.34 | Val Gen@1 Acc (pre-prune): 0.00%\n"
     ]
    }
   ],
   "source": [
    "@torch.no_grad()\n",
    "def eval_gen_accuracy(model, processor, loader, k_samples=50, max_new_tokens=3):\n",
    "    model.eval()\n",
    "    correct, seen = 0, 0\n",
    "    for batch in loader:\n",
    "        for img, gp, gold in zip(batch[\"raw_images\"], batch[\"gen_prompts\"], batch[\"answer_text\"]):\n",
    "            if seen >= k_samples: break\n",
    "\n",
    "            enc = processor(text=[gp], images=[img], return_tensors=\"pt\")\n",
    "            enc = {k: v.to(device) for k, v in enc.items()}\n",
    "            gen_ids = model.generate(\n",
    "                **enc,\n",
    "                max_new_tokens=max_new_tokens,\n",
    "                do_sample=False,\n",
    "                num_beams=1,                           # <- avoid beam visual expansion issues\n",
    "                pad_token_id=processor.tokenizer.eos_token_id,\n",
    "                eos_token_id=processor.tokenizer.eos_token_id,\n",
    "                repetition_penalty=1.5,               # discourage \"catcatcat...\"\n",
    "                length_penalty=2.0,                   # shorter outputs preferred\n",
    "                use_cache=True,\n",
    "            )\n",
    "            new_tokens = gen_ids[:, enc[\"input_ids\"].shape[1]:]\n",
    "            text = processor.batch_decode(new_tokens, skip_special_tokens=True)[0].strip().lower()\n",
    "            pred = text.split()[0] if text else \"\"\n",
    "            if gold.lower() in pred:\n",
    "                correct += 1\n",
    "            seen += 1\n",
    "        if seen >= k_samples: break\n",
    "    model.train()\n",
    "    return correct / max(1, seen)\n",
    "\n",
    "print(\"Running quick baseline eval (pre-prune)...\")\n",
    "ppl_train = eval_loss(model, train_loader)\n",
    "acc_val0  = eval_gen_accuracy(model, processor, val_loader, k_samples=40)\n",
    "print(f\"Train PPL (pre-prune): {ppl_train:.2f} | Val Gen@1 Acc (pre-prune): {acc_val0:.2%}\")\n"
   ]
  },
  {
   "cell_type": "markdown",
   "id": "ad22ff35-683f-4c99-a94a-2891c6b01896",
   "metadata": {},
   "source": [
    "# 8) Apply Pruning (Pick mode via flag)"
   ]
  },
  {
   "cell_type": "code",
   "execution_count": 9,
   "id": "5d51451c-bc2e-4d66-9e54-eb1acc1c86c8",
   "metadata": {
    "scrolled": true
   },
   "outputs": [
    {
     "name": "stdout",
     "output_type": "stream",
     "text": [
      "Pruned channels in 28 MLP modules (mask-based).\n",
      "PPL (post-prune, pre-LoRA): 241760.61\n"
     ]
    }
   ],
   "source": [
    "if PRUNE_MODE == \"attn_heads\":\n",
    "    n = 0\n",
    "    for name, attn in find_attn_modules(model):\n",
    "        prune_attention_heads_logical_gqa(attn, PRUNE_RATIO)\n",
    "        n += 1\n",
    "    print(f\"Pruned heads in {n} attention modules (GQA-safe, mask-based).\")\n",
    "elif PRUNE_MODE == \"ffn_channels\":\n",
    "    n = 0\n",
    "    for name, mlp in find_mlp_modules(model):\n",
    "        prune_ffn_channels_logical_mask(mlp, PRUNE_RATIO, intermediate_size)\n",
    "        n += 1\n",
    "    print(f\"Pruned channels in {n} MLP modules (mask-based).\")\n",
    "else:\n",
    "    raise ValueError(\"PRUNE_MODE must be 'attn_heads' or 'ffn_channels'.\")\n",
    "\n",
    "ppl_after_prune = eval_loss(model, train_loader)\n",
    "print(f\"PPL (post-prune, pre-LoRA): {ppl_after_prune:.2f}\")"
   ]
  },
  {
   "cell_type": "markdown",
   "id": "e4c2ff37-4de5-41a5-96e2-12a8f33b4096",
   "metadata": {},
   "source": [
    "# 9) LoRA Setup (attention + MLP targets)"
   ]
  },
  {
   "cell_type": "code",
   "execution_count": 10,
   "id": "432e1189-29a8-439e-ab06-8c14f7ee8695",
   "metadata": {
    "scrolled": true
   },
   "outputs": [
    {
     "name": "stdout",
     "output_type": "stream",
     "text": [
      "LoRA targets: ['down_proj', 'gate_proj', 'k_proj', 'o_proj', 'q_proj', 'up_proj', 'v_proj']\n",
      "trainable params: 18,464,768 || all params: 2,227,450,368 || trainable%: 0.8290\n"
     ]
    }
   ],
   "source": [
    "def collect_lora_targets(m: nn.Module) -> List[str]:\n",
    "    names = set()\n",
    "    for n, mod in m.named_modules():\n",
    "        if isinstance(mod, nn.Linear):\n",
    "            for key in [\"q_proj\",\"k_proj\",\"v_proj\",\"o_proj\",\"up_proj\",\"down_proj\",\"gate_proj\"]:\n",
    "                if n.endswith(key): names.add(n.split(\".\")[-1])\n",
    "    return sorted(list(names)) or [\"q_proj\",\"k_proj\",\"v_proj\",\"o_proj\",\"up_proj\",\"down_proj\",\"gate_proj\"]\n",
    "\n",
    "targets = collect_lora_targets(model)\n",
    "print(\"LoRA targets:\", targets)\n",
    "\n",
    "lora_cfg = LoraConfig(\n",
    "    r=16, lora_alpha=32, lora_dropout=0.05,\n",
    "    bias=\"none\", task_type=\"CAUSAL_LM\",\n",
    "    target_modules=targets\n",
    ")\n",
    "model = get_peft_model(model, lora_cfg)\n",
    "model.print_trainable_parameters()"
   ]
  },
  {
   "cell_type": "markdown",
   "id": "e14fb020-5a7e-4103-959f-f45a20a379d6",
   "metadata": {},
   "source": [
    "# 10) Tiny Fine-Tune Loop (Mixed Precision)"
   ]
  },
  {
   "cell_type": "code",
   "execution_count": 11,
   "id": "2f08ea52-2eec-4405-8ff5-6cd28e73f94c",
   "metadata": {
    "scrolled": true
   },
   "outputs": [
    {
     "name": "stderr",
     "output_type": "stream",
     "text": [
      "/opt/conda/lib/python3.11/site-packages/torch/utils/checkpoint.py:91: UserWarning: None of the inputs have requires_grad=True. Gradients will be None\n",
      "  warnings.warn(\n",
      "`use_cache=True` is incompatible with gradient checkpointing. Setting `use_cache=False`...\n"
     ]
    },
    {
     "name": "stdout",
     "output_type": "stream",
     "text": [
      "step 1 | loss=12.2511\n",
      "step 2 | loss=13.1624\n",
      "step 3 | loss=12.0794\n",
      "step 4 | loss=11.3681\n",
      "step 5 | loss=9.6685\n",
      "step 6 | loss=10.9155\n",
      "step 7 | loss=10.4755\n",
      "step 8 | loss=9.2288\n",
      "step 9 | loss=6.3020\n",
      "step 10 | loss=6.9667\n",
      "step 11 | loss=5.9652\n",
      "step 12 | loss=5.4434\n",
      "step 13 | loss=4.3216\n",
      "step 14 | loss=3.4158\n",
      "step 15 | loss=2.8532\n",
      "step 16 | loss=5.8924\n",
      "step 17 | loss=2.5747\n",
      "step 18 | loss=1.6085\n",
      "step 19 | loss=3.1715\n",
      "step 20 | loss=3.4979\n",
      "step 21 | loss=0.6728\n",
      "step 22 | loss=0.8974\n",
      "step 23 | loss=0.5531\n",
      "step 24 | loss=0.1698\n",
      "step 25 | loss=0.6673\n",
      "step 26 | loss=0.3225\n",
      "step 27 | loss=1.4298\n",
      "step 28 | loss=0.1493\n",
      "step 29 | loss=0.0857\n",
      "step 30 | loss=0.1837\n",
      "step 31 | loss=0.2181\n",
      "step 32 | loss=0.0284\n",
      "step 33 | loss=0.0163\n",
      "step 34 | loss=0.0201\n",
      "step 35 | loss=0.0743\n",
      "step 36 | loss=0.0120\n",
      "step 37 | loss=0.0068\n",
      "step 38 | loss=0.0065\n",
      "step 39 | loss=0.0157\n",
      "step 40 | loss=0.0751\n",
      "step 41 | loss=0.0039\n",
      "step 42 | loss=0.2341\n",
      "step 43 | loss=0.0139\n",
      "step 44 | loss=0.0123\n",
      "step 45 | loss=0.0014\n",
      "step 46 | loss=0.0397\n",
      "step 47 | loss=0.4188\n",
      "step 48 | loss=0.0249\n",
      "step 49 | loss=0.1301\n",
      "step 50 | loss=0.4547\n",
      "step 51 | loss=0.1242\n",
      "step 52 | loss=0.0367\n",
      "step 53 | loss=1.5461\n",
      "step 54 | loss=0.0594\n",
      "step 55 | loss=0.0256\n",
      "step 56 | loss=0.1300\n",
      "step 57 | loss=0.1365\n",
      "step 58 | loss=0.0488\n",
      "step 59 | loss=0.0339\n",
      "step 60 | loss=0.0488\n",
      "step 61 | loss=0.0110\n",
      "step 62 | loss=0.0023\n",
      "step 63 | loss=0.0134\n",
      "step 64 | loss=0.0044\n",
      "step 65 | loss=0.1185\n",
      "step 66 | loss=0.0089\n",
      "step 67 | loss=0.0128\n",
      "step 68 | loss=0.0535\n",
      "step 69 | loss=0.0013\n",
      "step 70 | loss=0.0423\n",
      "step 71 | loss=0.0015\n",
      "step 72 | loss=0.0128\n",
      "step 73 | loss=0.0253\n",
      "step 74 | loss=0.0029\n",
      "step 75 | loss=0.2130\n",
      "step 76 | loss=0.0779\n",
      "step 77 | loss=0.0009\n",
      "step 78 | loss=0.0523\n",
      "step 79 | loss=0.0019\n",
      "step 80 | loss=0.0062\n",
      "step 81 | loss=0.0061\n",
      "step 82 | loss=0.0052\n",
      "step 83 | loss=0.0065\n",
      "step 84 | loss=0.7888\n",
      "step 85 | loss=0.0092\n",
      "step 86 | loss=0.2414\n",
      "step 87 | loss=0.1628\n",
      "step 88 | loss=0.0024\n",
      "step 89 | loss=0.0044\n",
      "step 90 | loss=0.0064\n",
      "step 91 | loss=0.0066\n",
      "step 92 | loss=0.0041\n",
      "step 93 | loss=0.4127\n",
      "step 94 | loss=0.0099\n",
      "step 95 | loss=0.0010\n",
      "step 96 | loss=0.0018\n",
      "step 97 | loss=0.0063\n",
      "step 98 | loss=0.0011\n",
      "step 99 | loss=0.0018\n",
      "step 100 | loss=0.0382\n"
     ]
    }
   ],
   "source": [
    "optimizer = torch.optim.AdamW((p for p in model.parameters() if p.requires_grad), lr=LR, weight_decay=0.0)\n",
    "steps_per_epoch  = math.ceil(len(train_loader) / GRAD_ACCUM_STEPS)\n",
    "num_training_steps = EPOCHS * steps_per_epoch\n",
    "sched = get_linear_schedule_with_warmup(optimizer, WARMUP_STEPS, num_training_steps)\n",
    "\n",
    "scaler = torch.cuda.amp.GradScaler(enabled=(dtype==torch.float16))\n",
    "model.train()\n",
    "global_step = 0\n",
    "\n",
    "for epoch in range(EPOCHS):\n",
    "    for step, batch in enumerate(train_loader):\n",
    "        moved = {}\n",
    "        for k, v in batch.items():\n",
    "            if k == \"pixel_values\":\n",
    "                moved[k] = v.to(device, dtype=dtype)\n",
    "            elif k in (\"input_ids\",\"attention_mask\",\"labels\"):\n",
    "                moved[k] = v.to(device)\n",
    "        if batch.get(\"image_grid_thw\") is not None:\n",
    "            moved[\"image_grid_thw\"] = batch[\"image_grid_thw\"].to(device)\n",
    "\n",
    "        with torch.cuda.amp.autocast(enabled=(dtype==torch.float16)):\n",
    "            out = model(**moved)\n",
    "            loss = out.loss / GRAD_ACCUM_STEPS\n",
    "\n",
    "        scaler.scale(loss).backward()\n",
    "\n",
    "        if (step + 1) % GRAD_ACCUM_STEPS == 0:\n",
    "            scaler.step(optimizer); scaler.update()\n",
    "            optimizer.zero_grad(set_to_none=True)\n",
    "            sched.step()\n",
    "            global_step += 1\n",
    "            print(f\"step {global_step} | loss={(loss.item()*GRAD_ACCUM_STEPS):.4f}\")\n",
    "\n",
    "torch.cuda.empty_cache()"
   ]
  },
  {
   "cell_type": "markdown",
   "id": "3bfc34a4-650c-4636-9273-97047de39d11",
   "metadata": {},
   "source": [
    "# 11) Evaluate After LoRA & Save Artifacts"
   ]
  },
  {
   "cell_type": "code",
   "execution_count": 12,
   "id": "b661111f-bd27-4ed0-956d-eb1d04324c02",
   "metadata": {},
   "outputs": [
    {
     "name": "stdout",
     "output_type": "stream",
     "text": [
      "PPL (post-LoRA): 1.10 | Val Gen@1 Acc (post-LoRA): 100.00%\n",
      "Saved LoRA adapter to: ./demo_pruned_lora_qwen2vl/lora_adapter\n",
      "Merging LoRA into base (uses extra VRAM)...\n",
      "Merged checkpoint saved to: ./demo_pruned_lora_qwen2vl/merged_full\n"
     ]
    }
   ],
   "source": [
    "ppl_after_lora = eval_loss(model, train_loader)\n",
    "acc_val1       = eval_gen_accuracy(model, processor, val_loader, k_samples=40)\n",
    "print(f\"PPL (post-LoRA): {ppl_after_lora:.2f} | Val Gen@1 Acc (post-LoRA): {acc_val1:.2%}\")\n",
    "\n",
    "# Save LoRA\n",
    "model.save_pretrained(os.path.join(OUTPUT_DIR, \"lora_adapter\"))\n",
    "processor.save_pretrained(OUTPUT_DIR)\n",
    "print(\"Saved LoRA adapter to:\", os.path.join(OUTPUT_DIR, \"lora_adapter\"))\n",
    "\n",
    "# Optional: merge LoRA into base (extra VRAM)\n",
    "print(\"Merging LoRA into base (uses extra VRAM)...\")\n",
    "merged = model.merge_and_unload()\n",
    "merged.save_pretrained(os.path.join(OUTPUT_DIR, \"merged_full\"))\n",
    "print(\"Merged checkpoint saved to:\", os.path.join(OUTPUT_DIR, \"merged_full\"))"
   ]
  },
  {
   "cell_type": "markdown",
   "id": "a14cd495-8c0b-4dfe-b2f8-23e852a05459",
   "metadata": {},
   "source": [
    "# 12) Quick Inference Demo (Visual QA)"
   ]
  },
  {
   "cell_type": "code",
   "execution_count": 13,
   "id": "d0d56919-e6b0-49c5-8943-43640ebc5358",
   "metadata": {},
   "outputs": [
    {
     "name": "stdout",
     "output_type": "stream",
     "text": [
      "\n",
      "--- Demo predictions (merged model) ---\n"
     ]
    },
    {
     "name": "stderr",
     "output_type": "stream",
     "text": [
      "/opt/conda/lib/python3.11/site-packages/transformers/generation/configuration_utils.py:631: UserWarning: `do_sample` is set to `False`. However, `temperature` is set to `0.01` -- this flag is only used in sample-based generation modes. You should set `do_sample=True` or unset `temperature`.\n",
      "  warnings.warn(\n",
      "/opt/conda/lib/python3.11/site-packages/transformers/generation/configuration_utils.py:636: UserWarning: `do_sample` is set to `False`. However, `top_p` is set to `0.001` -- this flag is only used in sample-based generation modes. You should set `do_sample=True` or unset `top_p`.\n",
      "  warnings.warn(\n",
      "/opt/conda/lib/python3.11/site-packages/transformers/generation/configuration_utils.py:653: UserWarning: `do_sample` is set to `False`. However, `top_k` is set to `1` -- this flag is only used in sample-based generation modes. You should set `do_sample=True` or unset `top_k`.\n",
      "  warnings.warn(\n",
      "/opt/conda/lib/python3.11/site-packages/transformers/generation/configuration_utils.py:698: UserWarning: `num_beams` is set to 1. However, `length_penalty` is set to `2.0` -- this flag is only used in beam-based generation modes. You should set `num_beams>1` or unset `length_penalty`.\n",
      "  warnings.warn(\n",
      "/opt/conda/lib/python3.11/site-packages/torch/utils/checkpoint.py:91: UserWarning: None of the inputs have requires_grad=True. Gradients will be None\n",
      "  warnings.warn(\n"
     ]
    },
    {
     "name": "stdout",
     "output_type": "stream",
     "text": [
      "GT: cat        | PRED: cat\n",
      "GT: ship       | PRED: shipp\n",
      "GT: ship       | PRED: shipp\n",
      "GT: airplane   | PRED: airplane\n",
      "GT: frog       | PRED: frog\n"
     ]
    }
   ],
   "source": [
    "def qwen_vl_infer(model, processor, pil_image, question: str, max_new_tokens=3):\n",
    "    pil_image = pil_image.resize((448, 448))\n",
    "    messages = [{\"role\":\"user\",\"content\":[\n",
    "        {\"type\":\"image\",\"image\": pil_image},\n",
    "        {\"type\":\"text\",\"text\": question}\n",
    "    ]}]\n",
    "    prompt = processor.apply_chat_template(messages, tokenize=False, add_generation_prompt=True)\n",
    "\n",
    "    inputs = processor(text=[prompt], images=[pil_image], return_tensors=\"pt\")\n",
    "    if \"image_grid_thw\" in inputs:\n",
    "        inputs[\"image_grid_thw\"] = inputs[\"image_grid_thw\"]\n",
    "\n",
    "    for k, v in list(inputs.items()):\n",
    "        if k == \"pixel_values\":\n",
    "            inputs[k] = v.to(device, dtype=dtype)\n",
    "        else:\n",
    "            inputs[k] = v.to(device)\n",
    "\n",
    "    gen_ids = model.generate(\n",
    "        **inputs,\n",
    "        max_new_tokens=max_new_tokens,\n",
    "        do_sample=False,\n",
    "        num_beams=1,\n",
    "        pad_token_id=processor.tokenizer.eos_token_id,\n",
    "        eos_token_id=processor.tokenizer.eos_token_id,\n",
    "        repetition_penalty=1.5,\n",
    "        length_penalty=2.0,\n",
    "        use_cache=True\n",
    "    )\n",
    "    new_tokens = gen_ids[:, inputs[\"input_ids\"].shape[1]:]\n",
    "    text = processor.batch_decode(new_tokens, skip_special_tokens=True)[0].strip()\n",
    "    return text\n",
    "\n",
    "def demo_val_predictions(model_to_use, k=5):\n",
    "    for i in range(k):\n",
    "        img_pil, y = test_raw[i]\n",
    "        ans = label_names[y]\n",
    "        pred = qwen_vl_infer(model_to_use, processor, img_pil, \"What is in this image?\")\n",
    "        print(f\"GT: {ans:<10s} | PRED: {pred}\")\n",
    "\n",
    "print(\"\\n--- Demo predictions (merged model) ---\")\n",
    "demo_val_predictions(merged, k=5)"
   ]
  },
  {
   "cell_type": "code",
   "execution_count": null,
   "id": "67dea553-441f-4319-a4f3-3bcc2f8c024f",
   "metadata": {},
   "outputs": [],
   "source": []
  },
  {
   "cell_type": "code",
   "execution_count": null,
   "id": "eedb5787-de0d-41d1-bac8-556a052a5809",
   "metadata": {},
   "outputs": [],
   "source": []
  }
 ],
 "metadata": {
  "kernelspec": {
   "display_name": "Python 3 (ipykernel)",
   "language": "python",
   "name": "python3"
  },
  "language_info": {
   "codemirror_mode": {
    "name": "ipython",
    "version": 3
   },
   "file_extension": ".py",
   "mimetype": "text/x-python",
   "name": "python",
   "nbconvert_exporter": "python",
   "pygments_lexer": "ipython3",
   "version": "3.11.11"
  }
 },
 "nbformat": 4,
 "nbformat_minor": 5
}
