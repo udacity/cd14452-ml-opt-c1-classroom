{
 "cells": [
  {
   "cell_type": "markdown",
   "id": "395761aa",
   "metadata": {},
   "source": [
    "\n",
    "# LLaMA 3.2 (3B) – Global Magnitude Pruning (20%) → Sparse CSR Export\n",
    "\n",
    "This notebook:\n",
    "\n",
    "1. Loads **LLaMA 3.2-Text-3B** in **FP32** (falls back to a public 1–3B-ish model if you don't have access).\n",
    "2. Applies **20% global magnitude pruning** across all `nn.Linear.weight` tensors via `torch.nn.utils.prune.global_unstructured`.\n",
    "3. **Removes** pruning reparameterizations so weights are *physically zeroed*.\n",
    "4. Converts every linear **weight** to **CSR sparse** and saves a compact checkpoint.\n",
    "5. Runs a tiny sanity generation before and after pruning.\n"
   ]
  },
  {
   "cell_type": "code",
   "execution_count": 1,
   "id": "6ed0dac4",
   "metadata": {},
   "outputs": [],
   "source": [
    "\n",
    "!pip -q install transformers>=4.43.3 accelerate>=0.32.0 torch>=2.1 --extra-index-url https://download.pytorch.org/whl/cu121\n"
   ]
  },
  {
   "cell_type": "code",
   "execution_count": 1,
   "id": "74ef4b36",
   "metadata": {},
   "outputs": [
    {
     "name": "stdout",
     "output_type": "stream",
     "text": [
      "Torch: 2.3.1+cu121 | CUDA: 12.1 | Py: 3.11.11\n",
      "Device: cuda\n"
     ]
    }
   ],
   "source": [
    "\n",
    "import os, math, time, json, torch, platform, gc\n",
    "import torch.nn as nn\n",
    "from torch.nn.utils import prune\n",
    "from transformers import AutoTokenizer, AutoModelForCausalLM\n",
    "\n",
    "print(\"Torch:\", torch.__version__, \"| CUDA:\", torch.version.cuda, \"| Py:\", platform.python_version())\n",
    "device = torch.device(\"cuda\" if torch.cuda.is_available() else \"cpu\")\n",
    "print(\"Device:\", device)\n",
    "dtype = torch.float32  # <- keep FP32 as requested\n"
   ]
  },
  {
   "cell_type": "markdown",
   "id": "c256ec2e",
   "metadata": {},
   "source": [
    "\n",
    "## Load model (FP32)\n",
    "\n",
    "We try the following in order (first one you have access to will be used):\n",
    "\n",
    "- `meta-llama/Llama-3.2-3B`\n",
    "- `meta-llama/Llama-3.2-3B-Instruct`\n",
    "- Fallbacks: `TinyLlama/TinyLlama-1.1B-Chat-v1.0`, `Qwen/Qwen2.5-1.5B-Instruct`\n"
   ]
  },
  {
   "cell_type": "code",
   "execution_count": 2,
   "id": "3e80a538",
   "metadata": {},
   "outputs": [
    {
     "name": "stdout",
     "output_type": "stream",
     "text": [
      "Trying to load: TinyLlama/TinyLlama-1.1B-Chat-v1.0 (FP32)...\n"
     ]
    },
    {
     "name": "stderr",
     "output_type": "stream",
     "text": [
      "2025-08-25 02:14:43.138705: I tensorflow/core/util/port.cc:153] oneDNN custom operations are on. You may see slightly different numerical results due to floating-point round-off errors from different computation orders. To turn them off, set the environment variable `TF_ENABLE_ONEDNN_OPTS=0`.\n",
      "2025-08-25 02:14:43.152560: E external/local_xla/xla/stream_executor/cuda/cuda_fft.cc:485] Unable to register cuFFT factory: Attempting to register factory for plugin cuFFT when one has already been registered\n",
      "2025-08-25 02:14:43.170647: E external/local_xla/xla/stream_executor/cuda/cuda_dnn.cc:8454] Unable to register cuDNN factory: Attempting to register factory for plugin cuDNN when one has already been registered\n",
      "2025-08-25 02:14:43.176251: E external/local_xla/xla/stream_executor/cuda/cuda_blas.cc:1452] Unable to register cuBLAS factory: Attempting to register factory for plugin cuBLAS when one has already been registered\n",
      "2025-08-25 02:14:43.189159: I tensorflow/core/platform/cpu_feature_guard.cc:210] This TensorFlow binary is optimized to use available CPU instructions in performance-critical operations.\n",
      "To enable the following instructions: SSE4.1 SSE4.2 AVX AVX2 AVX512F AVX512_VNNI FMA, in other operations, rebuild TensorFlow with the appropriate compiler flags.\n"
     ]
    },
    {
     "name": "stdout",
     "output_type": "stream",
     "text": [
      "Loaded: TinyLlama/TinyLlama-1.1B-Chat-v1.0\n"
     ]
    }
   ],
   "source": [
    "\n",
    "CANDIDATES = [\n",
    "    \"TinyLlama/TinyLlama-1.1B-Chat-v1.0\",\n",
    "    \"Qwen/Qwen2.5-1.5B-Instruct\",\n",
    "]\n",
    "\n",
    "chosen = None\n",
    "last_err = None\n",
    "for name in CANDIDATES:\n",
    "    try:\n",
    "        print(f\"Trying to load: {name} (FP32)...\")\n",
    "        tok = AutoTokenizer.from_pretrained(name, trust_remote_code=True, use_fast=False)\n",
    "        if tok.pad_token is None:\n",
    "            tok.pad_token = tok.eos_token\n",
    "        mdl = AutoModelForCausalLM.from_pretrained(\n",
    "            name,\n",
    "            torch_dtype=torch.float32,\n",
    "            low_cpu_mem_usage=True,\n",
    "            trust_remote_code=True,\n",
    "            device_map=None,\n",
    "        )\n",
    "        mdl.to(device)\n",
    "        chosen = name\n",
    "        print(\"Loaded:\", name)\n",
    "        break\n",
    "    except Exception as e:\n",
    "        last_err = e\n",
    "        print(\"Failed:\", name, \"|\", e.__class__.__name__, str(e)[:200])\n",
    "\n",
    "if chosen is None:\n",
    "    raise RuntimeError(f\"Could not load any candidate model. Last error: {last_err}\")\n",
    "\n",
    "model, tokenizer = mdl, tok\n",
    "model.eval();\n"
   ]
  },
  {
   "cell_type": "markdown",
   "id": "5334acbe",
   "metadata": {},
   "source": [
    "\n",
    "## Quick pre‑prune sanity check\n"
   ]
  },
  {
   "cell_type": "code",
   "execution_count": 3,
   "id": "5051d23c",
   "metadata": {},
   "outputs": [
    {
     "name": "stdout",
     "output_type": "stream",
     "text": [
      "Pre‑prune sample -> \n",
      "\n",
      "Dolphins are the only mammals that can change the color of their skin.\n"
     ]
    }
   ],
   "source": [
    "\n",
    "@torch.no_grad()\n",
    "def sample_text(model, tokenizer, prompt: str, max_new_tokens=30):\n",
    "    model.eval()\n",
    "    inputs = tokenizer(prompt, return_tensors=\"pt\").to(device)\n",
    "    out_ids = model.generate(\n",
    "        **inputs,\n",
    "        max_new_tokens=max_new_tokens,\n",
    "        do_sample=False,\n",
    "        num_beams=1,\n",
    "        pad_token_id=tokenizer.eos_token_id,\n",
    "        eos_token_id=tokenizer.eos_token_id,\n",
    "    )\n",
    "    new_tokens = out_ids[:, inputs[\"input_ids\"].shape[1]:]\n",
    "    return tokenizer.batch_decode(new_tokens, skip_special_tokens=True)[0]\n",
    "\n",
    "demo_prompt = \"Write a one-sentence fun fact about dolphins:\"\n",
    "print(\"Pre‑prune sample ->\", sample_text(model, tokenizer, demo_prompt))\n"
   ]
  },
  {
   "cell_type": "markdown",
   "id": "2834f747",
   "metadata": {},
   "source": [
    "\n",
    "## 20% Global Magnitude Pruning over Linear weights\n",
    "We collect all `nn.Linear.weight` parameters and apply `global_unstructured` with `L1Unstructured`.\n"
   ]
  },
  {
   "cell_type": "code",
   "execution_count": 4,
   "id": "d5305107",
   "metadata": {},
   "outputs": [],
   "source": [
    "import torch, torch.nn as nn, math, gc\n",
    "\n",
    "def gather_linear_weight_params(module):\n",
    "    params = []\n",
    "    for name, m in module.named_modules():\n",
    "        if isinstance(m, nn.Linear) and getattr(m, \"weight\", None) is not None:\n",
    "            params.append((m, \"weight\"))\n",
    "    return params\n",
    "\n",
    "@torch.no_grad()\n",
    "def _hist_threshold_for_global(amount, params_to_prune, bins=2048):\n",
    "    \"\"\"\n",
    "    First pass: build a global histogram of |weights| across all Linear layers (CPU),\n",
    "    then find the magnitude threshold that prunes `amount` fraction globally.\n",
    "    \"\"\"\n",
    "    # 1) min/max over abs weights, streamed\n",
    "    gmin, gmax = float(\"inf\"), 0.0\n",
    "    total_elems = 0\n",
    "    for mod, pname in params_to_prune:\n",
    "        w = getattr(mod, pname).detach()\n",
    "        total_elems += w.numel()\n",
    "        # move per-layer to CPU to avoid GPU peak\n",
    "        a = w.abs().float().cpu()\n",
    "        gmin = min(gmin, float(a.min()))\n",
    "        gmax = max(gmax, float(a.max()))\n",
    "        del a\n",
    "    if not math.isfinite(gmin): gmin = 0.0\n",
    "    if gmax <= gmin:  # all zeros?\n",
    "        return 0.0, total_elems\n",
    "\n",
    "    # 2) build histogram over [gmin, gmax]\n",
    "    hist = torch.zeros(bins, dtype=torch.long)\n",
    "    for mod, pname in params_to_prune:\n",
    "        a = getattr(mod, pname).detach().abs().float().cpu()\n",
    "        # torch.histc returns float; use long counts\n",
    "        h = torch.histc(a, bins=bins, min=gmin, max=gmax).to(torch.long)\n",
    "        hist += h\n",
    "        del a, h\n",
    "    cum = torch.cumsum(hist, dim=0)\n",
    "\n",
    "    # 3) pick cutoff bin for desired prune count\n",
    "    k = int(amount * total_elems)\n",
    "    k = max(0, min(k, total_elems - 1))\n",
    "    idx = int(torch.searchsorted(cum, torch.tensor(k, dtype=torch.long)))\n",
    "    idx = max(0, min(idx, bins - 1))\n",
    "\n",
    "    # 4) convert bin index -> magnitude threshold (upper edge of that bin)\n",
    "    bin_width = (gmax - gmin) / bins\n",
    "    threshold = gmin + (idx + 1) * bin_width\n",
    "    return float(threshold), total_elems\n",
    "\n",
    "@torch.no_grad()\n",
    "def global_prune_linear_weights_streamed(model, amount=0.20, bins=2048):\n",
    "    \"\"\"\n",
    "    Global unstructured magnitude pruning without allocating a giant vector on GPU.\n",
    "    Finds a single global |w| threshold, then zeroes weights layer-by-layer.\n",
    "    \"\"\"\n",
    "    params = gather_linear_weight_params(model)\n",
    "    total = sum(getattr(m, p).numel() for m, p in params)\n",
    "    print(f\"Linear weights found: {len(params)} modules | {total/1e6:.2f}M params\")\n",
    "\n",
    "    thr, total_elems = _hist_threshold_for_global(amount, params, bins=bins)\n",
    "    print(f\"Computed global threshold |w| < {thr:.6g} to prune ~{amount:.0%} of {total_elems/1e6:.2f}M params\")\n",
    "\n",
    "    # Second pass: apply mask per layer (on current device)\n",
    "    pruned = 0\n",
    "    for mod, pname in params:\n",
    "        W = getattr(mod, pname)\n",
    "        mask = (W.abs() >= thr)\n",
    "        pruned += (mask.numel() - mask.sum()).item()\n",
    "        W.mul_(mask.to(W.dtype))  # in-place zero\n",
    "        del mask\n",
    "    sparsity = pruned / max(1, total)\n",
    "    print(f\"Applied global pruning. Sparsity: {sparsity:.2%}\")\n",
    "    torch.cuda.empty_cache(); gc.collect()\n",
    "\n",
    "# (Optional) Convert dense weights to sparse CSR tensors for storage/reporting.\n",
    "# Note: PyTorch Linear expects dense weights for forward(). Use this only to export.\n",
    "@torch.no_grad()\n",
    "def export_sparse_state_dict(model):\n",
    "    sd = {}\n",
    "    for name, m in model.named_modules():\n",
    "        if isinstance(m, nn.Linear) and getattr(m, \"weight\", None) is not None:\n",
    "            W = m.weight.detach().to(\"cpu\")\n",
    "            # make CSR from 2D matrix\n",
    "            idx = W.nonzero(as_tuple=False)\n",
    "            if idx.numel() == 0:\n",
    "                values = torch.tensor([], dtype=W.dtype)\n",
    "                crow   = torch.zeros(W.size(0)+1, dtype=torch.int64)\n",
    "                col    = torch.tensor([], dtype=torch.int64)\n",
    "            else:\n",
    "                # build CSR row pointers\n",
    "                rows = idx[:, 0]\n",
    "                cols = idx[:, 1]\n",
    "                # sort by row then col\n",
    "                order = torch.lexsort((cols, rows)) if hasattr(torch, \"lexsort\") else torch.argsort(rows*W.size(1)+cols)\n",
    "                rows = rows[order]; cols = cols[order]\n",
    "                values = W[rows, cols]\n",
    "                crow = torch.zeros(W.size(0)+1, dtype=torch.int64)\n",
    "                crow.index_add_(0, rows, torch.ones_like(rows, dtype=torch.int64))\n",
    "                crow = torch.cumsum(crow, dim=0)\n",
    "                col = cols.clone()\n",
    "            sd[f\"{name}.weight_csr\"] = {\n",
    "                \"shape\": tuple(W.shape),\n",
    "                \"crow_indices\": crow,\n",
    "                \"col_indices\": col,\n",
    "                \"values\": values,\n",
    "            }\n",
    "    return sd\n"
   ]
  },
  {
   "cell_type": "markdown",
   "id": "cf9b0aae",
   "metadata": {},
   "source": [
    "\n",
    "## Convert pruned Linear weights to CSR sparse and save\n",
    "This exports a compact mapping `{linear_name.weight: CSR tensor}` to `pruned_sparse_ckpt/linear_weights_csr.pt`.\n"
   ]
  },
  {
   "cell_type": "code",
   "execution_count": 6,
   "id": "c327be2d",
   "metadata": {},
   "outputs": [
    {
     "name": "stderr",
     "output_type": "stream",
     "text": [
      "/tmp/ipykernel_27294/1195716353.py:16: UserWarning: Sparse CSR tensor support is in beta state. If you miss a functionality in the sparse tensor support, please submit a feature request to https://github.com/pytorch/pytorch/issues. (Triggered internally at ../aten/src/ATen/SparseCsrTensorImpl.cpp:53.)\n",
      "  W_csr = W.to_sparse_csr()\n"
     ]
    },
    {
     "name": "stdout",
     "output_type": "stream",
     "text": [
      "Saved CSR sparse weights to: pruned_sparse_ckpt/linear_weights_csr.pt\n",
      "Overall density: 100.00% | sparsity: 0.00%\n"
     ]
    }
   ],
   "source": [
    "from pathlib import Path\n",
    "\n",
    "save_dir = Path(\"pruned_sparse_ckpt\")\n",
    "save_dir.mkdir(parents=True, exist_ok=True)\n",
    "\n",
    "sparse_dump = {}\n",
    "nonzero_total = 0\n",
    "elem_total = 0\n",
    "\n",
    "with torch.no_grad():\n",
    "    for name, module in model.named_modules():\n",
    "        if isinstance(module, nn.Linear) and hasattr(module, \"weight\") and module.weight is not None:\n",
    "            W = module.weight.detach().to(\"cpu\", copy=True)\n",
    "            elem_total += W.numel()\n",
    "            nonzero_total += (W != 0).sum().item()\n",
    "            W_csr = W.to_sparse_csr()\n",
    "            sparse_dump[f\"{name}.weight\"] = W_csr\n",
    "\n",
    "torch.save(sparse_dump, save_dir / \"linear_weights_csr.pt\")\n",
    "print(\"Saved CSR sparse weights to:\", save_dir / \"linear_weights_csr.pt\")\n",
    "print(f\"Overall density: {nonzero_total/elem_total:.2%} | sparsity: {1 - nonzero_total/elem_total:.2%}\")\n"
   ]
  },
  {
   "cell_type": "markdown",
   "id": "c67989a5",
   "metadata": {},
   "source": [
    "\n",
    "## (Optional) Save dense pruned checkpoint\n",
    "Useful if you want to reload with standard APIs later.\n"
   ]
  },
  {
   "cell_type": "code",
   "execution_count": 7,
   "id": "d423b7a5",
   "metadata": {},
   "outputs": [
    {
     "name": "stdout",
     "output_type": "stream",
     "text": [
      "Saved dense pruned state_dict to: pruned_sparse_ckpt/pruned_dense_state_dict.pt\n"
     ]
    }
   ],
   "source": [
    "\n",
    "dense_path = save_dir / \"pruned_dense_state_dict.pt\"\n",
    "torch.save(model.state_dict(), dense_path)\n",
    "print(\"Saved dense pruned state_dict to:\", dense_path)\n"
   ]
  },
  {
   "cell_type": "markdown",
   "id": "60eb0ae4",
   "metadata": {},
   "source": [
    "\n",
    "## Post‑prune sanity check\n"
   ]
  },
  {
   "cell_type": "code",
   "execution_count": 8,
   "id": "4f4daf54",
   "metadata": {},
   "outputs": [
    {
     "name": "stdout",
     "output_type": "stream",
     "text": [
      "Post‑prune sample -> \n",
      "\n",
      "Dolphins are the only mammals that can change the color of their skin.\n"
     ]
    }
   ],
   "source": [
    "\n",
    "print(\"Post‑prune sample ->\", sample_text(model, tokenizer, demo_prompt))\n"
   ]
  },
  {
   "cell_type": "code",
   "execution_count": null,
   "id": "fec8fcb7-326a-4506-b0ec-0c9f47c95182",
   "metadata": {},
   "outputs": [],
   "source": []
  },
  {
   "cell_type": "code",
   "execution_count": null,
   "id": "c70ed96d-df55-4ec4-a97f-b475de6d923c",
   "metadata": {},
   "outputs": [],
   "source": []
  },
  {
   "cell_type": "code",
   "execution_count": null,
   "id": "bb942cd8-03dc-4c13-a2ea-4dedad9d8142",
   "metadata": {},
   "outputs": [],
   "source": [
    "\n"
   ]
  }
 ],
 "metadata": {
  "kernelspec": {
   "display_name": "Python 3 (ipykernel)",
   "language": "python",
   "name": "python3"
  },
  "language_info": {
   "codemirror_mode": {
    "name": "ipython",
    "version": 3
   },
   "file_extension": ".py",
   "mimetype": "text/x-python",
   "name": "python",
   "nbconvert_exporter": "python",
   "pygments_lexer": "ipython3",
   "version": "3.11.11"
  }
 },
 "nbformat": 4,
 "nbformat_minor": 5
}
