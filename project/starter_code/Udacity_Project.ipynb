{
 "cells": [
  {
   "cell_type": "markdown",
   "metadata": {},
   "source": [
    "# 🔍 Project Overview\n",
    "This notebook presents a complete end-to-end optimization and deployment pipeline for a GPT-2-style small language model (SLM), with the goal of achieving efficient inference on resource-constrained environments."
   ]
  },
  {
   "cell_type": "markdown",
   "metadata": {
    "id": "R9IPmaL3DLHq"
   },
   "source": [
    "## 📦 Part 1: Load & Profile GPT-2 in FP16 on GPU (NVIDIA T4)\n",
    "- **Objective**: Load the GPT-2 model with half-precision (FP16) to reduce memory footprint and accelerate inference.\n",
    "\n",
    "- **Hardware**: NVIDIA T4 GPU (16 GB GDDR6).\n",
    "\n",
    "- **Tasks**:\n",
    "    - Load a pretrained GPT-2 model using Hugging Face Transformers.\n",
    "    - Convert weights to FP16.\n",
    "    - Measure baseline performance: latency, throughput, VRAM usage.\n",
    "    - Use torch.profiler to generate flame graphs for bottleneck analysis.\n",
    " \n",
    "\n",
    "### Environment Setup\n",
    "#### Hardware & Software Requirements\n",
    "\n",
    "\n",
    "*   GPU: NVIDIA T4 (16 GB GDDR6 VRAM, 320 GB/s bandwidth, 320 Turing Tensor Cores)\n",
    "*   CPU: 2 vCPUs, 4 GB RAM for final inference stage\n",
    "*   Python Version: ≥ 3.8\n",
    "*   Libraries:\n",
    "    * torch\n",
    "    * transformers\n",
    "    * optimum\n",
    "    * datasets\n",
    "    * tqdm, matplotlib, and psutil for progress bars, plotting, and memory checks"
   ]
  },
  {
   "cell_type": "markdown",
   "metadata": {
    "id": "g_CYAK1jDaKH"
   },
   "source": [
    "### Install the libraries\n",
    "\n",
    "We run `nvidia-smi` to check if GPU is visible and ready to use. We then install the necessary libraries. "
   ]
  },
  {
   "cell_type": "code",
   "execution_count": null,
   "metadata": {
    "colab": {
     "base_uri": "https://localhost:8080/"
    },
    "id": "UqKxH0GxEHti",
    "outputId": "2eccf640-f42e-46f6-98b4-315cd0e7df31",
    "tags": []
   },
   "outputs": [],
   "source": [
    "!nvidia-smi"
   ]
  },
  {
   "cell_type": "markdown",
   "metadata": {},
   "source": [
    "### Logging into Huggingface and Authincating "
   ]
  },
  {
   "cell_type": "code",
   "execution_count": null,
   "metadata": {
    "colab": {
     "base_uri": "https://localhost:8080/"
    },
    "id": "9DQ2FRntOtR-",
    "outputId": "83fe3ca0-f254-4bdd-f935-e285d2312043",
    "tags": []
   },
   "outputs": [
    {
     "name": "stdout",
     "output_type": "stream",
     "text": [
      "Successfully logged in to Hugging Face!\n"
     ]
    }
   ],
   "source": [
    "from huggingface_hub import login\n",
    "HF_TOKEN='USER_TOKEN'  # Replace with your actual Hugging Face token\n",
    "\n",
    "if HF_TOKEN:\n",
    "    login(HF_TOKEN)\n",
    "    print(\"Successfully logged in to Hugging Face!\")\n",
    "else:\n",
    "    print(\"Token is not set. Please save the token first.\")"
   ]
  },
  {
   "cell_type": "markdown",
   "metadata": {
    "id": "Ozdr7YDwDQcE"
   },
   "source": [
    "### Check for GPU"
   ]
  },
  {
   "cell_type": "code",
   "execution_count": 2,
   "metadata": {
    "colab": {
     "base_uri": "https://localhost:8080/"
    },
    "id": "9zB3OeQeDImk",
    "outputId": "0c8ecaea-b614-47bc-85e0-574e0c66e874",
    "tags": []
   },
   "outputs": [
    {
     "name": "stdout",
     "output_type": "stream",
     "text": [
      "CUDA Device: Tesla T4\n",
      "Total GPU VRAM: 14.57 GB\n"
     ]
    }
   ],
   "source": [
    "# Check PyTorch GPU availability and VRAM\n",
    "import torch\n",
    "\n",
    "if torch.cuda.is_available():\n",
    "    gpu_name = torch.cuda.get_device_name(0)\n",
    "    total_mem = torch.cuda.get_device_properties(0).total_memory / (1024**3)\n",
    "    print(f\"CUDA Device: {gpu_name}\")\n",
    "    print(f\"Total GPU VRAM: {total_mem:.2f} GB\")\n",
    "else:\n",
    "    raise RuntimeError(\"CUDA GPU not available! Ensure a T4 is attached.\")\n"
   ]
  },
  {
   "cell_type": "markdown",
   "metadata": {
    "id": "iB9VZGp7Eorc"
   },
   "source": [
    "**Expected Output**\n",
    "\n",
    "\n",
    "\n",
    "```\n",
    "CUDA Device: Tesla T4\n",
    "Total GPU VRAM: 14.74 GB\n",
    "```\n",
    "\n"
   ]
  },
  {
   "cell_type": "markdown",
   "metadata": {
    "id": "pHR5JG7WE2cF"
   },
   "source": [
    "###  Load GPT2 & Tokenizer\n",
    "\n",
    "Loads a GPT-2 model and tokenizer in FP16 precision and moves the model to the appropriate device.\n",
    "\n",
    "    How to implement:\n",
    "    - Use the `transformers` library to load the tokenizer and model using the provided model ID.\n",
    "    - Set the model's data type to FP16 (float16).\n",
    "    - Use `torch` to detect whether a CUDA-compatible GPU is available.\n",
    "    - Move the model to the selected device (GPU if available, else CPU).\n",
    "    - Return both the tokenizer and model.\n",
    "\n",
    "    Args:\n",
    "        model_id (str): The model name or path to load from Hugging Face (default: \"gpt2\").\n",
    "\n",
    "    Returns:\n",
    "        tuple: A tuple containing the tokenizer and the model."
   ]
  },
  {
   "cell_type": "code",
   "execution_count": null,
   "metadata": {
    "colab": {
     "base_uri": "https://localhost:8080/"
    },
    "id": "G6XOXJFbE1ba",
    "outputId": "1d60dc62-9941-4774-cf22-1b307ce57069",
    "tags": []
   },
   "outputs": [
    {
     "name": "stderr",
     "output_type": "stream",
     "text": [
      "2025-06-14 16:11:15.900863: I tensorflow/core/util/port.cc:153] oneDNN custom operations are on. You may see slightly different numerical results due to floating-point round-off errors from different computation orders. To turn them off, set the environment variable `TF_ENABLE_ONEDNN_OPTS=0`.\n",
      "2025-06-14 16:11:15.917251: E external/local_xla/xla/stream_executor/cuda/cuda_fft.cc:467] Unable to register cuFFT factory: Attempting to register factory for plugin cuFFT when one has already been registered\n",
      "WARNING: All log messages before absl::InitializeLog() is called are written to STDERR\n",
      "E0000 00:00:1749917475.938123    9688 cuda_dnn.cc:8579] Unable to register cuDNN factory: Attempting to register factory for plugin cuDNN when one has already been registered\n",
      "E0000 00:00:1749917475.944367    9688 cuda_blas.cc:1407] Unable to register cuBLAS factory: Attempting to register factory for plugin cuBLAS when one has already been registered\n",
      "W0000 00:00:1749917475.960105    9688 computation_placer.cc:177] computation placer already registered. Please check linkage and avoid linking the same target more than once.\n",
      "W0000 00:00:1749917475.960128    9688 computation_placer.cc:177] computation placer already registered. Please check linkage and avoid linking the same target more than once.\n",
      "W0000 00:00:1749917475.960130    9688 computation_placer.cc:177] computation placer already registered. Please check linkage and avoid linking the same target more than once.\n",
      "W0000 00:00:1749917475.960132    9688 computation_placer.cc:177] computation placer already registered. Please check linkage and avoid linking the same target more than once.\n",
      "2025-06-14 16:11:15.965489: I tensorflow/core/platform/cpu_feature_guard.cc:210] This TensorFlow binary is optimized to use available CPU instructions in performance-critical operations.\n",
      "To enable the following instructions: AVX2 AVX512F AVX512_VNNI FMA, in other operations, rebuild TensorFlow with the appropriate compiler flags.\n"
     ]
    },
    {
     "name": "stdout",
     "output_type": "stream",
     "text": [
      "Loaded model 'gpt2' in FP16 on cuda\n"
     ]
    }
   ],
   "source": [
    "import torch\n",
    "from transformers import GPT2LMHeadModel, GPT2Tokenizer\n",
    "\n",
    "def load_fp16_model(model_id=\"gpt2\"):\n",
    "    \"\"\"\n",
    "    Loads a GPT-2 model and tokenizer in FP16 precision and moves the model to the appropriate device.\n",
    "\n",
    "    How to implement:\n",
    "    - Use the `transformers` library to load the tokenizer and model using the provided model ID.\n",
    "    - Set the model's data type to FP16 (float16).\n",
    "    - Use `torch` to detect whether a CUDA-compatible GPU is available.\n",
    "    - Move the model to the selected device (GPU if available, else CPU).\n",
    "    - Return both the tokenizer and model.\n",
    "\n",
    "    Args:\n",
    "        model_id (str): The model name or path to load from Hugging Face (default: \"gpt2\").\n",
    "\n",
    "    Returns:\n",
    "        tuple: A tuple containing the tokenizer and the model.\n",
    "    \"\"\"\n",
    "    # TODO: Implement this function following the hints above\n",
    "    pass"
   ]
  },
  {
   "cell_type": "markdown",
   "metadata": {},
   "source": [
    "#### Lets write a test case to see if we have successfully loaded the model. Run the below cell. **Do not change anything**"
   ]
  },
  {
   "cell_type": "code",
   "execution_count": 4,
   "metadata": {},
   "outputs": [
    {
     "name": "stderr",
     "output_type": "stream",
     "text": [
      "The attention mask and the pad token id were not set. As a consequence, you may observe unexpected behavior. Please pass your input's `attention_mask` to obtain reliable results.\n",
      "Setting `pad_token_id` to `eos_token_id`:50256 for open-end generation.\n",
      "The attention mask is not set and cannot be inferred from input because pad token is same as eos token. As a consequence, you may observe unexpected behavior. Please pass your input's `attention_mask` to obtain reliable results.\n"
     ]
    },
    {
     "name": "stdout",
     "output_type": "stream",
     "text": [
      "\n",
      "=== Test Output ===\n",
      "Prompt: The future of AI is\n",
      "Generated: The future of AI is uncertain.\n",
      "\n",
      "The future of AI is uncertain.\n",
      "\n",
      "The future\n",
      "\n",
      "Test passed ✅\n"
     ]
    }
   ],
   "source": [
    "def test_load_fp16_model():\n",
    "    # Simple test prompt\n",
    "    prompt = \"The future of AI is\"\n",
    "    inputs = tokenizer(prompt, return_tensors=\"pt\").to(model.device)\n",
    "\n",
    "    # Generate text\n",
    "    with torch.no_grad():\n",
    "        outputs = model.generate(\n",
    "            inputs[\"input_ids\"],\n",
    "            max_length=20,\n",
    "            do_sample=False\n",
    "        )\n",
    "\n",
    "    # Decode output\n",
    "    generated_text = tokenizer.decode(outputs[0], skip_special_tokens=True)\n",
    "\n",
    "    print(\"\\n=== Test Output ===\")\n",
    "    print(\"Prompt:\", prompt)\n",
    "    print(\"Generated:\", generated_text)\n",
    "\n",
    "    # Basic correctness checks\n",
    "    assert model.dtype == torch.float16, \"Model is not in FP16\"\n",
    "    assert str(model.device) == str(inputs[\"input_ids\"].device), \"Model and input are on different devices\"\n",
    "    assert prompt in generated_text, \"Generated text does not include the prompt\"\n",
    "    print(\"\\nTest passed ✅\")\n",
    "\n",
    "\n",
    "test_load_fp16_model()"
   ]
  },
  {
   "cell_type": "markdown",
   "metadata": {},
   "source": [
    "#### You should see an output like this\n",
    "\n",
    "Loaded model 'gpt2' in FP16 on cuda\n",
    "\n",
    "=== Test Output ===\n",
    "Prompt: The future of AI is\n",
    "Generated: The future of AI is uncertain.\n",
    "\n",
    "The future of AI is uncertain.\n",
    "\n",
    "The future\n",
    "\n",
    "Test passed ✅"
   ]
  },
  {
   "cell_type": "markdown",
   "metadata": {
    "id": "ASKDWltjLpQJ"
   },
   "source": [
    "### Load WikiTest-2 Dataset\n",
    "\n",
    "Loads a small subset of the WikiText-2 dataset for training and validation.\n",
    "\n",
    "    How to implement:\n",
    "    - Use the `load_dataset` function from the `datasets` library.\n",
    "    - Load the \"wikitext-2-raw-v1\" dataset.\n",
    "    - Specify the split using slice notation strings (e.g., \"train[:100]\").\n",
    "    - Return both the training and validation subsets.\n",
    "    - Optionally, print how many examples are loaded in each split.\n",
    "\n",
    "    Args:\n",
    "        train_split (str): Slice of the training data to load.\n",
    "        valid_split (str): Slice of the validation data to load.\n",
    "\n",
    "    Returns:\n",
    "        tuple: A tuple containing the training and validation datasets."
   ]
  },
  {
   "cell_type": "code",
   "execution_count": null,
   "metadata": {
    "colab": {
     "base_uri": "https://localhost:8080/"
    },
    "id": "HOeEZfDMLoIG",
    "outputId": "f7951e5e-e04a-41fd-b0a8-f4f8a618c738",
    "tags": []
   },
   "outputs": [
    {
     "name": "stdout",
     "output_type": "stream",
     "text": [
      "Validation samples: 200\n",
      "Fine-tune samples: 100\n"
     ]
    }
   ],
   "source": [
    "from datasets import load_dataset\n",
    "\n",
    "def load_wikitext_dataset(train_split=\"train[:100]\", valid_split=\"validation[:200]\"):\n",
    "    \"\"\"\n",
    "    Loads a small subset of the WikiText-2 dataset for training and validation.\n",
    "\n",
    "    How to implement:\n",
    "    - Use the `load_dataset` function from the `datasets` library.\n",
    "    - Load the \"wikitext-2-raw-v1\" dataset.\n",
    "    - Specify the split using slice notation strings (e.g., \"train[:100]\").\n",
    "    - Return both the training and validation subsets.\n",
    "    - Optionally, print how many examples are loaded in each split.\n",
    "\n",
    "    Args:\n",
    "        train_split (str): Slice of the training data to load.\n",
    "        valid_split (str): Slice of the validation data to load.\n",
    "\n",
    "    Returns:\n",
    "        tuple: A tuple containing the training and validation datasets.\n",
    "    \"\"\"\n",
    "    # TODO: Load and return the sliced WikiText-2 dataset as described above\n",
    "    pass"
   ]
  },
  {
   "cell_type": "markdown",
   "metadata": {},
   "source": [
    "#### Lets write a test case to see if we have successfully loaded the dataset. Run the below cell. **Do not change anything**"
   ]
  },
  {
   "cell_type": "code",
   "execution_count": 6,
   "metadata": {
    "scrolled": true
   },
   "outputs": [
    {
     "name": "stdout",
     "output_type": "stream",
     "text": [
      "\n",
      "=== Sample Examples ===\n",
      "Train[0]:  = Valkyria Chronicles III = \n",
      "\n",
      "Valid[0]:  = Homarus gammarus = \n",
      "\n",
      "\n",
      "Test passed ✅\n"
     ]
    }
   ],
   "source": [
    "def test_load_wikitext_dataset():\n",
    "    print(\"\\n=== Sample Examples ===\")\n",
    "    print(\"Train[0]:\", train_ds[1]['text'])\n",
    "    print(\"Valid[0]:\", valid_ds[1]['text'])\n",
    "\n",
    "    # Checks\n",
    "    assert len(train_ds) == 100, \"Train dataset does not contain 100000 samples\"\n",
    "    assert len(valid_ds) == 200, \"Validation dataset does not contain 200 samples\"\n",
    "    assert isinstance(train_ds[0]['text'], str), \"Train sample is not a string\"\n",
    "    assert isinstance(valid_ds[0]['text'], str), \"Validation sample is not a string\"\n",
    "\n",
    "    print(\"\\nTest passed ✅\")\n",
    "\n",
    "test_load_wikitext_dataset()"
   ]
  },
  {
   "cell_type": "markdown",
   "metadata": {},
   "source": [
    "#### You should see an output something like this\n",
    "\n",
    "=== Sample Examples === \\\n",
    "Train[0]:  = Valkyria Chronicles III = \n",
    "\n",
    "Valid[0]:  = Homarus gammarus = \n",
    "\n",
    "\n",
    "Test passed ✅"
   ]
  },
  {
   "cell_type": "markdown",
   "metadata": {
    "id": "1nj-V4IGPiHm"
   },
   "source": [
    "### Baseline FP16 GPU Profiling\n",
    "\n",
    "Measures the average inference latency on GPU in milliseconds per token.\n",
    "\n",
    "    How to implement:\n",
    "    1. Set the device using `torch.device`, based on CUDA availability.\n",
    "    2. Put the model in evaluation mode using `.eval()`.\n",
    "    3. Tokenize the input prompt and move it to the GPU.\n",
    "    4. Perform a short warm-up generation (e.g., 10 tokens) to stabilize performance.\n",
    "    5. Use `time.time()` to measure how long it takes to generate `max_new_tokens`.\n",
    "    6. Use `torch.cuda.synchronize()` before and after timing to ensure accurate GPU measurements.\n",
    "    7. Return the average time per token (in ms) by dividing elapsed time by `max_new_tokens`.\n",
    "\n",
    "    Args:\n",
    "        model: A causal language model loaded on GPU.\n",
    "        tokenizer: The tokenizer used for encoding the input prompt.\n",
    "        prompt (str): The prompt string for text generation.\n",
    "        max_new_tokens (int): Number of tokens to generate during measurement.\n",
    "\n",
    "    Returns:\n",
    "        float: Latency in milliseconds per generated token.\n",
    "\n",
    "Below this cell, implement `measure_latency_gpu(...)` step by step following the docstring hints."
   ]
  },
  {
   "cell_type": "code",
   "execution_count": null,
   "metadata": {
    "colab": {
     "base_uri": "https://localhost:8080/",
     "height": 99,
     "referenced_widgets": [
      "bf9f492bd7e94cb99eb668b15a9bec37",
      "3f894a8f2a7e4c5cb48ee11e34b98485",
      "21c21f9c16594677b961ab188f04a86d",
      "3fe20f63240643ea8b24191b36f0621d",
      "5f252d7fa2bb403880e5229406bae0e1",
      "fb5a946f89c3486e90c9ed9b503b2904",
      "383355ef48ce401b91fb7f00848b17f4",
      "7b64c6c8248c44b9a0a3d9beef9c3a28",
      "22fb4eefe3b34a009363aae2eb17c9d1",
      "dac99c6a9b09492a994a4a4b386d6fd0",
      "36dd702117e547a2af2b68f322f26580",
      "40d2d689d5b04b26ba7edc276868d988",
      "0340a6352ece4d57a64f15a0444816c7",
      "7185e966e86e44888d92b265b1eb9e0d",
      "253725d015e14cc2b1f78ccf53e8673e",
      "3fc62e2d21f24d21b22620302698507f",
      "a96989d7f8d747a59198266c43b7aed9",
      "40eb861b98e243edb91d01066628cac8",
      "c40f9b39565045c78aea18880d55139a",
      "8f4139472f57439f8da3ce3bfa956bbe",
      "4235b494c702431f9c6aff6bf7f9f40c",
      "347a6731d4604045ae5f5090e5ccf530"
     ]
    },
    "id": "lh9I445hDpa2",
    "outputId": "7ae1ae86-c1dc-41de-b010-22da35a58039",
    "tags": []
   },
   "outputs": [
    {
     "name": "stderr",
     "output_type": "stream",
     "text": [
      "Setting `pad_token_id` to `eos_token_id`:50256 for open-end generation.\n",
      "Setting `pad_token_id` to `eos_token_id`:50256 for open-end generation.\n"
     ]
    },
    {
     "name": "stdout",
     "output_type": "stream",
     "text": [
      "Greedy Generation with Progress: 10.66 ms/token\n"
     ]
    }
   ],
   "source": [
    "import time\n",
    "import torch\n",
    "import math\n",
    "from tqdm.auto import tqdm\n",
    "from torch.profiler import profile, record_function, ProfilerActivity\n",
    "\n",
    "def measure_latency_gpu(model, tokenizer, prompt, max_new_tokens=50):\n",
    "    \"\"\"\n",
    "    Measures the average inference latency on GPU in milliseconds per token.\n",
    "    How to implement:\n",
    "    \n",
    "    1. Set the device using `torch.device`, based on CUDA availability.\n",
    "    2. Put the model in evaluation mode using `.eval()`.\n",
    "    3. Tokenize the input prompt and move it to the GPU.\n",
    "    4. Perform a short warm-up generation (e.g., 10 tokens) to stabilize performance.\n",
    "    5. Use `time.time()` to measure how long it takes to generate `max_new_tokens`.\n",
    "    6. Use `torch.cuda.synchronize()` before and after timing to ensure accurate GPU measurements.\n",
    "    7. Return the average time per token (in ms) by dividing elapsed time by `max_new_tokens`.\n",
    "\n",
    "    Args:\n",
    "        model: A causal language model loaded on GPU.\n",
    "        tokenizer: The tokenizer used for encoding the input prompt.\n",
    "        prompt (str): The prompt string for text generation.\n",
    "        max_new_tokens (int): Number of tokens to generate during measurement.\n",
    "\n",
    "    Returns:\n",
    "        float: Latency in milliseconds per generated token.\n",
    "    \"\"\"\n",
    "    # TODO: Implement latency measurement using the steps described above\n",
    "    pass\n",
    "\n",
    "# Measure latency using the same token-by-token loop\n",
    "prompt = \"The future of AI is\"\n",
    "max_new_tokens = 50\n",
    "start_time = time.time()\n",
    "baseline_latency = measure_latency_gpu(model, tokenizer, prompt)\n",
    "torch.cuda.synchronize()\n",
    "elapsed = time.time() - start_time\n",
    "latency_per_token = (elapsed * 1000) / max_new_tokens\n",
    "print(f\"Greedy Generation with Progress: {latency_per_token:.2f} ms/token\")\n"
   ]
  },
  {
   "cell_type": "markdown",
   "metadata": {},
   "source": [
    "#### Next, lets measure the Perplexity, the following function computes the perplexity of a language model on a given dataset.\n",
    "\n",
    "    How to implement:\n",
    "    1. Set the device using `torch.device`, based on CUDA availability.\n",
    "    2. Put the model in evaluation mode using `.eval()`.\n",
    "    3. Loop through each example in the dataset.\n",
    "    4. For each example:\n",
    "        - Skip if the text is empty or just whitespace.\n",
    "        - Tokenize the text with truncation (max length = 512).\n",
    "        - Move input tensors to the appropriate device and ensure their dtype is Long.\n",
    "        - Set `labels = input_ids` to compute loss for causal LM.\n",
    "        - Perform a forward pass under `torch.no_grad()` to get the loss.\n",
    "        - Accumulate the total loss scaled by the sequence length.\n",
    "    5. After the loop, divide total loss by the total number of tokens.\n",
    "    6. Return the exponential of the average loss as perplexity.\n",
    "       (Avoid division by zero if all texts are skipped.)\n",
    "\n",
    "    Args:\n",
    "        model: A pretrained causal language model.\n",
    "        tokenizer: Corresponding tokenizer for the model.\n",
    "        dataset: A Hugging Face dataset containing a \"text\" field.\n",
    "\n",
    "    Returns:\n",
    "        float: The perplexity score (exp of average loss per token)."
   ]
  },
  {
   "cell_type": "code",
   "execution_count": null,
   "metadata": {
    "colab": {
     "base_uri": "https://localhost:8080/"
    },
    "id": "Y55b1_hURSEd",
    "outputId": "620863e6-0b51-4773-afd4-68c29b14c633",
    "tags": []
   },
   "outputs": [
    {
     "name": "stderr",
     "output_type": "stream",
     "text": [
      "`loss_type=None` was set in the config but it is unrecognised.Using the default loss: `ForCausalLMLoss`.\n"
     ]
    },
    {
     "name": "stdout",
     "output_type": "stream",
     "text": [
      "Baseline FP16 GPU Perplexity: 40.03\n"
     ]
    }
   ],
   "source": [
    "import time\n",
    "import torch\n",
    "import math\n",
    "from transformers import AutoModelForCausalLM, AutoTokenizer\n",
    "\n",
    "def compute_perplexity(model, tokenizer, dataset):\n",
    "    \"\"\"\n",
    "    Computes the perplexity of a language model on a given dataset.\n",
    "\n",
    "    How to implement:\n",
    "    1. Set the device using `torch.device`, based on CUDA availability.\n",
    "    2. Put the model in evaluation mode using `.eval()`.\n",
    "    3. Loop through each example in the dataset.\n",
    "    4. For each example:\n",
    "        - Skip if the text is empty or just whitespace.\n",
    "        - Tokenize the text with truncation (max length = 512).\n",
    "        - Move input tensors to the appropriate device and ensure their dtype is Long.\n",
    "        - Set `labels = input_ids` to compute loss for causal LM.\n",
    "        - Perform a forward pass under `torch.no_grad()` to get the loss.\n",
    "        - Accumulate the total loss scaled by the sequence length.\n",
    "    5. After the loop, divide total loss by the total number of tokens.\n",
    "    6. Return the exponential of the average loss as perplexity.\n",
    "       (Avoid division by zero if all texts are skipped.)\n",
    "\n",
    "    Args:\n",
    "        model: A pretrained causal language model.\n",
    "        tokenizer: Corresponding tokenizer for the model.\n",
    "        dataset: A Hugging Face dataset containing a \"text\" field.\n",
    "\n",
    "    Returns:\n",
    "        float: The perplexity score (exp of average loss per token).\n",
    "    \"\"\"\n",
    "    # TODO: Implement perplexity calculation using the steps described above\n",
    "    pass\n",
    "\n",
    "baseline_ppl = compute_perplexity(model, tokenizer, valid_ds)\n",
    "print(f\"Baseline FP16 GPU Perplexity: {baseline_ppl:.2f}\")\n"
   ]
  },
  {
   "cell_type": "markdown",
   "metadata": {},
   "source": [
    "#### Lets call the `mdoel.generate` function to see the  VRAM usage "
   ]
  },
  {
   "cell_type": "code",
   "execution_count": 9,
   "metadata": {
    "colab": {
     "base_uri": "https://localhost:8080/"
    },
    "id": "67JtjgJqP8R2",
    "outputId": "79785814-f351-45fd-d9c4-acdfdd9a5cdb",
    "tags": []
   },
   "outputs": [
    {
     "name": "stderr",
     "output_type": "stream",
     "text": [
      "Setting `pad_token_id` to `eos_token_id`:50256 for open-end generation.\n"
     ]
    },
    {
     "name": "stdout",
     "output_type": "stream",
     "text": [
      "Baseline FP16 GPU Peak VRAM: 0.45 GB\n"
     ]
    }
   ],
   "source": [
    "# 3. Check peak GPU memory usage\n",
    "device = torch.device(\"cuda\" if torch.cuda.is_available() else \"cpu\")\n",
    "_ = model.generate(**tokenizer(\"warm up\", return_tensors=\"pt\").to(device), max_new_tokens=5)\n",
    "peak_vram = torch.cuda.max_memory_allocated() / (1024**3)\n",
    "print(f\"Baseline FP16 GPU Peak VRAM: {peak_vram:.2f} GB\")\n"
   ]
  },
  {
   "cell_type": "markdown",
   "metadata": {},
   "source": [
    "#### Lets generate a flame graph and visualize it using Tensorboard "
   ]
  },
  {
   "cell_type": "code",
   "execution_count": null,
   "metadata": {},
   "outputs": [
    {
     "name": "stderr",
     "output_type": "stream",
     "text": [
      "Setting `pad_token_id` to `eos_token_id`:50256 for open-end generation.\n"
     ]
    },
    {
     "name": "stdout",
     "output_type": "stream",
     "text": [
      "✅ Profiling complete. View flame graph via:\n",
      "   tensorboard --logdir=tb_logs\n"
     ]
    }
   ],
   "source": [
    "import torch\n",
    "from torch.profiler import profile, record_function, ProfilerActivity\n",
    "from torch.profiler import tensorboard_trace_handler\n",
    "from datetime import datetime\n",
    "import os\n",
    "\n",
    "def profile_model_for_tensorboard(model, tokenizer, prompt, device, log_dir=\"tb_logs\", run_name=\"pruned_fp16\"):\n",
    "    \"\"\"\n",
    "    Profiles the inference of a PyTorch model and saves a trace for visualization in TensorBoard.\n",
    "\n",
    "    Args:\n",
    "        model (torch.nn.Module): The PyTorch model to profile.\n",
    "        tokenizer: The tokenizer used to process the prompt.\n",
    "        prompt (str): The input prompt string for model inference.\n",
    "        device (str or torch.device): Device to run the model on (\"cuda\" or \"cpu\").\n",
    "        log_dir (str): Directory where TensorBoard logs will be saved.\n",
    "        run_name (str): Subdirectory name for this profiling run.\n",
    "\n",
    "    Returns:\n",
    "        None. Writes profiling logs to disk and prints the save location.\n",
    "\n",
    "    TODO:\n",
    "        1. Tokenize the input prompt and move it to the specified device.\n",
    "        2. Use `torch.profiler.profile()` to record inference performance.\n",
    "        3. Export profiling data in TensorBoard-compatible format using `tensorboard_trace_handler`.\n",
    "    \"\"\"\n",
    "    # TODO: Implement profile_model_for_tensorboard using the steps described above\n",
    "    pass\n",
    "\n",
    "profile_model_for_tensorboard(model, tokenizer, prompt=\"The future of AI is\", device=\"cuda\", run_name=\"baseline_fp16\")"
   ]
  },
  {
   "cell_type": "markdown",
   "metadata": {},
   "source": [
    "#### We will also do a profiler trace to measure the baseline inference"
   ]
  },
  {
   "cell_type": "code",
   "execution_count": 11,
   "metadata": {
    "colab": {
     "base_uri": "https://localhost:8080/"
    },
    "id": "XTfer2NvSXhr",
    "outputId": "1f831a92-7f11-4fcd-dafd-b29d75288cd3",
    "tags": []
   },
   "outputs": [
    {
     "name": "stderr",
     "output_type": "stream",
     "text": [
      "Setting `pad_token_id` to `eos_token_id`:50256 for open-end generation.\n"
     ]
    },
    {
     "name": "stdout",
     "output_type": "stream",
     "text": [
      "Exported baseline_fp16_trace.json\n"
     ]
    }
   ],
   "source": [
    "# 4. Rrecord a torch.profiler trace for baseline inference\n",
    "with profile(activities=[ProfilerActivity.CUDA], record_shapes=True) as prof:\n",
    "    with record_function(\"baseline_fp16_inference\"):\n",
    "        _ = model.generate(**tokenizer(prompt, return_tensors=\"pt\").to(device), max_new_tokens=50)\n",
    "prof.export_chrome_trace(\"baseline_fp16_trace.json\")\n",
    "print(\"Exported baseline_fp16_trace.json\")\n"
   ]
  },
  {
   "cell_type": "markdown",
   "metadata": {
    "id": "d8qeryrROxeq"
   },
   "source": [
    "## ✂️ Part 2: Structured Attention Head Pruning & Fine-Tuning\n",
    "**Objective:** Reduce the number of parameters by pruning redundant attention heads while maintaining accuracy.\n",
    "\n",
    "**Methodology:**\n",
    "\n",
    "    - Prune a fixed percentage (e.g., 20%) of attention heads per layer.\n",
    "    - Fine-tune the pruned model on a small corpus to recover lost performance.\n",
    "\n",
    "- **Metrics Tracked:**\n",
    "\n",
    "    - Change in latency and memory usage.\n",
    "    - Perplexity before and after fine-tuning.\n",
    "\n",
    "\n",
    "## How do we Prune it?\n",
    "1. Prune 25 % of Heads in GPT-2\n",
    "GPT-2 architecture:\n",
    "\n",
    "- Hidden size: 768\n",
    "- Layers: 12 transformer blocks\n",
    "- Heads per layer: 12\n",
    "- Total heads: 12 × 12 = 144\n",
    "\n",
    "Pruning plan:\n",
    "\n",
    "- 25 % of heads ⇒ 0.25 × 12 = 3 heads removed per layer\n",
    "- Remaining heads: 12 − 3 = 9 per layer ⇒ 9 × 12 = 108 total heads\n",
    "- Rough parameter reduction:\n",
    "\n",
    "    - GPT-2 has ~117 M parameters overall\n",
    "    - Attention-head weights constitute ≈15 % of that (~17 M)\n",
    "    - Removing 25 % of head parameters cuts ~4 M weights → new model size ≈113 M (≈3 % total reduction)\n",
    "\n",
    "📈 Why head pruning?\n",
    "\n",
    "- Multi-head attention learns some heads that contribute very little—pruning them can cut compute and memory.\n",
    "- Warm-up and inference speed improve (often 10–20 %), with only minor losses in perplexity."
   ]
  },
  {
   "cell_type": "code",
   "execution_count": null,
   "metadata": {
    "colab": {
     "base_uri": "https://localhost:8080/"
    },
    "id": "t8Uv03AoRZvF",
    "outputId": "2238deab-5dc8-40c8-f3a2-175386920a13",
    "tags": []
   },
   "outputs": [
    {
     "name": "stdout",
     "output_type": "stream",
     "text": [
      "Pruned 20% of heads per layer\n"
     ]
    }
   ],
   "source": [
    "def prune_attention_heads(model, prune_fraction=0.2):\n",
    "    \"\"\"\n",
    "    Prunes a fraction of attention heads from each layer of the model and casts it back to FP16.\n",
    "\n",
    "    How to implement:\n",
    "    1. Retrieve the number of transformer layers and the number of attention heads per layer\n",
    "       using the model’s configuration (e.g., `model.config.n_layer` and `model.config.n_head`).\n",
    "    2. Compute how many heads to prune per layer (e.g., 20% of total heads).\n",
    "    3. Construct a dictionary where each key is a layer index, and the value is a list of\n",
    "       head indices to prune in that layer (e.g., [0, 1, 2, 3]).\n",
    "    4. Call the `prune_heads()` method on `model.base_model` and pass the dictionary.\n",
    "    5. After pruning, cast the model back to `float16` using `.half()` to reduce memory usage.\n",
    "\n",
    "    Args:\n",
    "        model: The transformer-based model with attention heads to prune.\n",
    "        prune_fraction (float): The fraction of heads to prune per layer (default is 0.2 for 20%).\n",
    "\n",
    "    Returns:\n",
    "        The pruned model in float16.\n",
    "    \"\"\"\n",
    "    # TODO: Implement pruning logic following the instructions above\n",
    "    pass\n",
    "\n",
    "model = prune_attention_heads(model)"
   ]
  },
  {
   "cell_type": "markdown",
   "metadata": {},
   "source": [
    "### Lets write a test case to see if we have successfully pruned the model. Run the below cell. Do not change anything"
   ]
  },
  {
   "cell_type": "code",
   "execution_count": 13,
   "metadata": {},
   "outputs": [
    {
     "name": "stdout",
     "output_type": "stream",
     "text": [
      "Pruned 20% of heads per layer\n",
      "test_prune_attention_heads passed ✅\n"
     ]
    }
   ],
   "source": [
    "import torch\n",
    "from transformers import GPT2LMHeadModel\n",
    "\n",
    "def test_prune_attention_heads():\n",
    "    # 1) Load GPT-2 small in FP16\n",
    "    model = GPT2LMHeadModel.from_pretrained(\"gpt2\").half().to(\"cpu\")\n",
    "    \n",
    "    orig_n_head  = model.config.n_head    # 12\n",
    "    orig_n_layer = model.config.n_layer   # 12\n",
    "    prune_fraction = 0.2                  # 20%\n",
    "    heads_pruned = int(orig_n_head * prune_fraction)  # floor(12 * 0.2) = 2\n",
    "    expected_heads = orig_n_head - heads_pruned       # 12 - 2 = 10\n",
    "    \n",
    "    # 2) Apply pruning\n",
    "    pruned_model = prune_attention_heads(model, prune_fraction=prune_fraction)\n",
    "    \n",
    "    # 3) All params still float16\n",
    "    for p in pruned_model.parameters():\n",
    "        assert p.dtype == torch.float16, \"⚠️ Parameter not in float16\"\n",
    "    \n",
    "    # 4) Check each layer’s Attention module\n",
    "    for i in range(orig_n_layer):\n",
    "        attn = pruned_model.transformer.h[i].attn\n",
    "        \n",
    "        # num_heads should be reduced\n",
    "        assert attn.num_heads == expected_heads, (\n",
    "            f\"Layer {i} has {attn.num_heads} heads, expected {expected_heads}\"\n",
    "        )\n",
    "        \n",
    "        # pruned_heads set should match {0, 1, …, heads_pruned-1}\n",
    "        assert attn.pruned_heads == set(range(heads_pruned)), (\n",
    "            f\"Layer {i} pruned {attn.pruned_heads}, expected {set(range(heads_pruned))}\"\n",
    "        )\n",
    "    \n",
    "    print(\"test_prune_attention_heads passed ✅\")\n",
    "\n",
    "# Run it\n",
    "test_prune_attention_heads()\n"
   ]
  },
  {
   "cell_type": "markdown",
   "metadata": {},
   "source": [
    "#### You should see an output something like this\n",
    "\n",
    "Pruned 20% of heads per layer\\\n",
    "test_prune_attention_heads passed ✅"
   ]
  },
  {
   "cell_type": "markdown",
   "metadata": {
    "id": "XUdjLbUGjsYg"
   },
   "source": [
    "### How do we Fine-Tune the Pruned Model for 1 Epoch :\n",
    "\n",
    "\n",
    "Here we will:\n",
    "\n",
    "1. **Configure the tokenizer & model**  \n",
    "   - Reuse the EOS token for padding so that causal LM padding behaves correctly.  \n",
    "   - Ensure `pad_token_id` is set in both the tokenizer and model config.\n",
    "\n",
    "2. **Prepare the data**  \n",
    "   - Tokenize and truncate each example to a fixed length (max 512 tokens).  \n",
    "   - Copy the inputs to `labels` for next-token prediction.  \n",
    "   - Use `DataCollatorForLanguageModeling` (with `mlm=False`) to dynamically batch sequences for causal LM.\n",
    "\n",
    "3. **Set up training arguments**  \n",
    "   - Disable external logging (`WANDB_DISABLED` and `report_to=\"none\"`).  \n",
    "   - Choose hyperparameters: epochs, batch size, learning rate, logging frequency.  \n",
    "   - Enable FP16 training via `fp16=True` under the hood.\n",
    "\n",
    "4. **Handle precision & device placement**  \n",
    "   - Cast the pruned model back to FP32 (`model.float()`) before handing off to the Trainer.  \n",
    "   - Let the Trainer automatically manage FP16 conversion, gradient scaling, and device transfers.\n",
    "\n",
    "5. **Launch training**  \n",
    "   - Instantiate a `Trainer` with the pruned model, tokenized dataset, and collator.  \n",
    "   - Call `trainer.train()` to fine-tune on your custom text split.\n",
    "\n",
    "> 🔧 **Learning Objectives**  \n",
    "> - See how to integrate pruned models into a standard 🤗 Trainer workflow  \n",
    "> - Understand padding for causal LMs and label shifting  \n",
    "> - Observe mixed-precision training setup and benefits  "
   ]
  },
  {
   "cell_type": "code",
   "execution_count": null,
   "metadata": {},
   "outputs": [],
   "source": [
    "from transformers import Trainer, TrainingArguments, DataCollatorForLanguageModeling\n",
    "import os\n",
    "import torch # Import torch explicitly\n",
    "\n",
    "os.environ[\"WANDB_DISABLED\"] = \"true\"\n",
    "\n",
    "def prepare_tokenizer_for_padding(tokenizer, model):\n",
    "    \"\"\"\n",
    "    Prepares the tokenizer and model for consistent padding behavior during fine-tuning.\n",
    "\n",
    "    How to implement:\n",
    "    - Set the tokenizer's pad token to be the same as its end-of-sequence (eos) token.\n",
    "    - Update the model's configuration to use this same pad token ID.\n",
    "\n",
    "    Args:\n",
    "        tokenizer: The Hugging Face tokenizer.\n",
    "        model: The language model whose config needs to be updated.\n",
    "\n",
    "    Returns:\n",
    "        None (modifies tokenizer and model in-place)\n",
    "    \"\"\"\n",
    "    # TODO: Implement as per instructions above\n",
    "    pass"
   ]
  },
  {
   "cell_type": "code",
   "execution_count": null,
   "metadata": {},
   "outputs": [],
   "source": [
    "def tokenize_dataset(dataset, tokenizer):\n",
    "    \"\"\"\n",
    "    Tokenizes a dataset of text examples for causal language modeling.\n",
    "\n",
    "    How to implement:\n",
    "    - Use `tokenizer` to tokenize the \"text\" field.\n",
    "    - Truncate examples to a maximum length (e.g., 512 tokens).\n",
    "    - Pad sequences using max length.\n",
    "    - Copy `input_ids` to a new key `labels` for causal language modeling.\n",
    "    - Remove the raw \"text\" column from the result.\n",
    "\n",
    "    Args:\n",
    "        dataset: Hugging Face Dataset containing a \"text\" field.\n",
    "        tokenizer: The tokenizer to use.\n",
    "\n",
    "    Returns:\n",
    "        A tokenized dataset suitable for training.\n",
    "    \"\"\"\n",
    "\n",
    "    # TODO: Map a tokenization function over the dataset with batching enabled\n",
    "    pass"
   ]
  },
  {
   "cell_type": "code",
   "execution_count": null,
   "metadata": {},
   "outputs": [],
   "source": [
    "def create_training_arguments(output_dir=\"gpt2_finetuned\", learning_rate=1e-5):\n",
    "    \"\"\"\n",
    "    Creates Hugging Face TrainingArguments for model fine-tuning.\n",
    "\n",
    "    How to implement:\n",
    "    - Set a small batch size (e.g., 1–2) to handle large models.\n",
    "    - Use 1 epoch for quick experimentation.\n",
    "    - Disable saving and logging to external tools (e.g., wandb).\n",
    "    - Disable column removal to retain all inputs.\n",
    "\n",
    "    Args:\n",
    "        output_dir (str): Directory to save model outputs.\n",
    "        learning_rate (float): Learning rate for fine-tuning.\n",
    "\n",
    "    Returns:\n",
    "        TrainingArguments object.\n",
    "    \"\"\"\n",
    "    # TODO: Create and return a TrainingArguments instance\n",
    "    pass \n"
   ]
  },
  {
   "cell_type": "code",
   "execution_count": null,
   "metadata": {
    "colab": {
     "base_uri": "https://localhost:8080/",
     "height": 263
    },
    "id": "JQqB4SOOSGw-",
    "outputId": "103c60bd-f82f-44fc-badf-201a8b983076",
    "tags": []
   },
   "outputs": [],
   "source": [
    "def run_fine_tuning(model, training_args, tokenized_train, tokenizer):\n",
    "    \"\"\"\n",
    "    Fine-tunes the given model using the Hugging Face Trainer.\n",
    "\n",
    "    How to implement:\n",
    "    - Set up a data collator for language modeling (no masked LM).\n",
    "    - Initialize the Trainer with model, args, dataset, and collator.\n",
    "    - Call `.train()` to begin fine-tuning.\n",
    "\n",
    "    Args:\n",
    "        model: The transformer model to fine-tune.\n",
    "        training_args: TrainingArguments object.\n",
    "        tokenized_train: Tokenized training dataset.\n",
    "        tokenizer: Tokenizer used to create the collator.\n",
    "\n",
    "    Returns:\n",
    "        Trainer instance after training.\n",
    "    \"\"\"\n",
    "    # # TODO: Configure the trainer and start training\n",
    "    # pass"
   ]
  },
  {
   "cell_type": "markdown",
   "metadata": {},
   "source": [
    "#### Lets call of these functions to finetune the pruned model"
   ]
  },
  {
   "cell_type": "code",
   "execution_count": 18,
   "metadata": {
    "scrolled": true
   },
   "outputs": [
    {
     "data": {
      "text/html": [
       "\n",
       "    <div>\n",
       "      \n",
       "      <progress value='500' max='500' style='width:300px; height:20px; vertical-align: middle;'></progress>\n",
       "      [500/500 01:27, Epoch 5/5]\n",
       "    </div>\n",
       "    <table border=\"1\" class=\"dataframe\">\n",
       "  <thead>\n",
       " <tr style=\"text-align: left;\">\n",
       "      <th>Step</th>\n",
       "      <th>Training Loss</th>\n",
       "    </tr>\n",
       "  </thead>\n",
       "  <tbody>\n",
       "    <tr>\n",
       "      <td>50</td>\n",
       "      <td>5.690800</td>\n",
       "    </tr>\n",
       "    <tr>\n",
       "      <td>100</td>\n",
       "      <td>4.216900</td>\n",
       "    </tr>\n",
       "    <tr>\n",
       "      <td>150</td>\n",
       "      <td>4.104000</td>\n",
       "    </tr>\n",
       "    <tr>\n",
       "      <td>200</td>\n",
       "      <td>3.920600</td>\n",
       "    </tr>\n",
       "    <tr>\n",
       "      <td>250</td>\n",
       "      <td>3.568000</td>\n",
       "    </tr>\n",
       "    <tr>\n",
       "      <td>300</td>\n",
       "      <td>3.368800</td>\n",
       "    </tr>\n",
       "    <tr>\n",
       "      <td>350</td>\n",
       "      <td>3.222700</td>\n",
       "    </tr>\n",
       "    <tr>\n",
       "      <td>400</td>\n",
       "      <td>3.357100</td>\n",
       "    </tr>\n",
       "    <tr>\n",
       "      <td>450</td>\n",
       "      <td>3.410300</td>\n",
       "    </tr>\n",
       "    <tr>\n",
       "      <td>500</td>\n",
       "      <td>3.204500</td>\n",
       "    </tr>\n",
       "  </tbody>\n",
       "</table><p>"
      ],
      "text/plain": [
       "<IPython.core.display.HTML object>"
      ]
     },
     "metadata": {},
     "output_type": "display_data"
    }
   ],
   "source": [
    "prepare_tokenizer_for_padding(tokenizer, model)\n",
    "tokenized_train = tokenize_dataset(train_ds, tokenizer)\n",
    "tokenized_valid = tokenize_dataset(valid_ds, tokenizer)\n",
    "training_args = create_training_arguments()\n",
    "trainer = run_fine_tuning(model, training_args, tokenized_train, tokenizer)"
   ]
  },
  {
   "cell_type": "markdown",
   "metadata": {
    "id": "9JroaPdXtU6l"
   },
   "source": [
    "### Benchmark Pruned Model on GPU:\n",
    "\n",
    "After fine-tuning, re-measure latency, perplexity, and GPU VRAM usage for the pruned FP16 model using the same functions we wrote above to measure latency etc."
   ]
  },
  {
   "cell_type": "code",
   "execution_count": 19,
   "metadata": {
    "id": "AbimL_0HiI3O",
    "tags": []
   },
   "outputs": [
    {
     "name": "stderr",
     "output_type": "stream",
     "text": [
      "Setting `pad_token_id` to `eos_token_id`:50256 for open-end generation.\n",
      "Setting `pad_token_id` to `eos_token_id`:50256 for open-end generation.\n"
     ]
    },
    {
     "name": "stdout",
     "output_type": "stream",
     "text": [
      "Greedy Generation with Progress: 12.91 ms/token\n"
     ]
    },
    {
     "name": "stderr",
     "output_type": "stream",
     "text": [
      "Setting `pad_token_id` to `eos_token_id`:50256 for open-end generation.\n",
      "Setting `pad_token_id` to `eos_token_id`:50256 for open-end generation.\n"
     ]
    },
    {
     "name": "stdout",
     "output_type": "stream",
     "text": [
      "Baseline FP16 GPU Perplexity: 37.20\n",
      "Baseline FP16 GPU Peak VRAM: 0.45 GB\n",
      "✅ Profiling complete. View flame graph via:\n",
      "   tensorboard --logdir=tb_logs\n"
     ]
    }
   ],
   "source": [
    "start_time = time.time()\n",
    "pruned_latency = measure_latency_gpu(model, tokenizer, prompt)\n",
    "torch.cuda.synchronize()\n",
    "elapsed = time.time() - start_time\n",
    "latency_per_token = (elapsed * 1000) / max_new_tokens\n",
    "print(f\"Greedy Generation with Progress: {latency_per_token:.2f} ms/token\")\n",
    "\n",
    "pruned_ppl = compute_perplexity(model, tokenizer, valid_ds)\n",
    "print(f\"Baseline FP16 GPU Perplexity: {pruned_ppl:.2f}\")\n",
    "\n",
    "_ = model.generate(**tokenizer(\"warm up\", return_tensors=\"pt\").to(device), max_new_tokens=5)\n",
    "pruned_vram = torch.cuda.max_memory_allocated() / (1024**3)\n",
    "print(f\"Baseline FP16 GPU Peak VRAM: {peak_vram:.2f} GB\")\n",
    "\n",
    "profile_model_for_tensorboard(model, tokenizer, prompt=\"The future of AI is\", device=\"cuda\", run_name=\"pruned_fp16\")"
   ]
  },
  {
   "cell_type": "code",
   "execution_count": 20,
   "metadata": {
    "id": "6eQ9Q6LAtnGS",
    "tags": []
   },
   "outputs": [
    {
     "name": "stderr",
     "output_type": "stream",
     "text": [
      "Setting `pad_token_id` to `eos_token_id`:50256 for open-end generation.\n"
     ]
    },
    {
     "name": "stdout",
     "output_type": "stream",
     "text": [
      "Exported pruned_fp16_trace.json\n"
     ]
    }
   ],
   "source": [
    "# 4. Torch profiler trace for pruned inference\n",
    "with profile(activities=[ProfilerActivity.CUDA], record_shapes=True) as prof:\n",
    "    with record_function(\"pruned_fp16_inference\"):\n",
    "        _ = model.generate(**tokenizer(prompt, return_tensors=\"pt\").to(device), max_new_tokens=50)\n",
    "prof.export_chrome_trace(\"pruned_fp16_trace.json\")\n",
    "print(\"Exported pruned_fp16_trace.json\")  # :contentReference[oaicite:12]{index=12}\n"
   ]
  },
  {
   "cell_type": "markdown",
   "metadata": {
    "id": "S9zCNbUQwL1m"
   },
   "source": [
    "## 🧮 Part 3: Post-Training Quantization (PTQ) to 8-bit\n",
    "\n",
    "- Objective: Further compress the pruned model using 8-bit quantization for CPU-friendly deployment.\n",
    "\n",
    "- Tools Used: Optimum Intel / Neural Compressor (INC).\n",
    "\n",
    "- Tasks:\n",
    "\n",
    "    - Apply static quantization to the fine-tuned model.\n",
    "\n"
   ]
  },
  {
   "cell_type": "markdown",
   "metadata": {
    "id": "Gn1k9RC7wVY9"
   },
   "source": [
    "#### Run PTQ with Hugging Face Optimum (Intel Backend)"
   ]
  },
  {
   "cell_type": "code",
   "execution_count": null,
   "metadata": {
    "id": "Vsq7_rX9wUPv",
    "scrolled": true,
    "tags": []
   },
   "outputs": [
    {
     "name": "stderr",
     "output_type": "stream",
     "text": [
      "/opt/conda/lib/python3.11/site-packages/neural_compressor/utils/utility.py:46: UserWarning: pkg_resources is deprecated as an API. See https://setuptools.pypa.io/en/latest/pkg_resources.html. The pkg_resources package is slated for removal as early as 2025-11-30. Refrain from using this package or pin to Setuptools<81.\n",
      "  from pkg_resources import parse_version\n",
      "2025-06-14 16:13:12 [WARNING][auto_accelerator.py:454] Auto detect accelerator: CUDA_Accelerator.\n"
     ]
    },
    {
     "data": {
      "application/vnd.jupyter.widget-view+json": {
       "model_id": "85ab6480958c45e58e16eb71398d491b",
       "version_major": 2,
       "version_minor": 0
      },
      "text/plain": [
       "Map:   0%|          | 0/133 [00:00<?, ? examples/s]"
      ]
     },
     "metadata": {},
     "output_type": "display_data"
    },
    {
     "name": "stderr",
     "output_type": "stream",
     "text": [
      "2025-06-14 16:13:13 [INFO][logger.py:114] Start auto tuning.\n",
      "2025-06-14 16:13:13 [INFO][logger.py:114] Execute the tuning process due to detect the evaluation function.\n",
      "2025-06-14 16:13:13 [INFO][logger.py:114] Adaptor has 5 recipes.\n",
      "2025-06-14 16:13:13 [INFO][logger.py:114] 0 recipes specified by user.\n",
      "2025-06-14 16:13:13 [INFO][logger.py:114] 3 recipes require future tuning.\n",
      "2025-06-14 16:13:13 [INFO][logger.py:114] *** Initialize auto tuning\n",
      "2025-06-14 16:13:13 [INFO][logger.py:112] {\n",
      "2025-06-14 16:13:13 [INFO][logger.py:112]     'PostTrainingQuantConfig': {\n",
      "2025-06-14 16:13:13 [INFO][logger.py:112]         'AccuracyCriterion': {\n",
      "2025-06-14 16:13:13 [INFO][logger.py:112]             'criterion': 'relative',\n",
      "2025-06-14 16:13:13 [INFO][logger.py:112]             'higher_is_better': True,\n",
      "2025-06-14 16:13:13 [INFO][logger.py:112]             'tolerable_loss': 0.01,\n",
      "2025-06-14 16:13:13 [INFO][logger.py:112]             'absolute': None,\n",
      "2025-06-14 16:13:13 [INFO][logger.py:112]             'keys': <bound method AccuracyCriterion.keys of <neural_compressor.config.AccuracyCriterion object at 0x7fd58813ab50>>,\n",
      "2025-06-14 16:13:13 [INFO][logger.py:112]             'relative': 0.01\n",
      "2025-06-14 16:13:13 [INFO][logger.py:112]         },\n",
      "2025-06-14 16:13:13 [INFO][logger.py:112]         'approach': 'post_training_static_quant',\n",
      "2025-06-14 16:13:13 [INFO][logger.py:112]         'backend': 'default',\n",
      "2025-06-14 16:13:13 [INFO][logger.py:112]         'calibration_sampling_size': [\n",
      "2025-06-14 16:13:13 [INFO][logger.py:112]             133\n",
      "2025-06-14 16:13:13 [INFO][logger.py:112]         ],\n",
      "2025-06-14 16:13:13 [INFO][logger.py:112]         'device': 'cpu',\n",
      "2025-06-14 16:13:13 [INFO][logger.py:112]         'domain': 'auto',\n",
      "2025-06-14 16:13:13 [INFO][logger.py:112]         'example_inputs': 'Not printed here due to large size tensors...',\n",
      "2025-06-14 16:13:13 [INFO][logger.py:112]         'excluded_precisions': [\n",
      "2025-06-14 16:13:13 [INFO][logger.py:112]         ],\n",
      "2025-06-14 16:13:13 [INFO][logger.py:112]         'framework': 'pytorch_fx',\n",
      "2025-06-14 16:13:13 [INFO][logger.py:112]         'inputs': [\n",
      "2025-06-14 16:13:13 [INFO][logger.py:112]         ],\n",
      "2025-06-14 16:13:13 [INFO][logger.py:112]         'model_name': '',\n",
      "2025-06-14 16:13:13 [INFO][logger.py:112]         'op_name_dict': None,\n",
      "2025-06-14 16:13:13 [INFO][logger.py:112]         'op_type_dict': None,\n",
      "2025-06-14 16:13:13 [INFO][logger.py:112]         'outputs': [\n",
      "2025-06-14 16:13:13 [INFO][logger.py:112]         ],\n",
      "2025-06-14 16:13:13 [INFO][logger.py:112]         'quant_format': 'default',\n",
      "2025-06-14 16:13:13 [INFO][logger.py:112]         'quant_level': 'auto',\n",
      "2025-06-14 16:13:13 [INFO][logger.py:112]         'recipes': {\n",
      "2025-06-14 16:13:13 [INFO][logger.py:112]             'smooth_quant': False,\n",
      "2025-06-14 16:13:13 [INFO][logger.py:112]             'smooth_quant_args': {\n",
      "2025-06-14 16:13:13 [INFO][logger.py:112]             },\n",
      "2025-06-14 16:13:13 [INFO][logger.py:112]             'layer_wise_quant': False,\n",
      "2025-06-14 16:13:13 [INFO][logger.py:112]             'layer_wise_quant_args': {\n",
      "2025-06-14 16:13:13 [INFO][logger.py:112]             },\n",
      "2025-06-14 16:13:13 [INFO][logger.py:112]             'fast_bias_correction': False,\n",
      "2025-06-14 16:13:13 [INFO][logger.py:112]             'weight_correction': False,\n",
      "2025-06-14 16:13:13 [INFO][logger.py:112]             'gemm_to_matmul': True,\n",
      "2025-06-14 16:13:13 [INFO][logger.py:112]             'graph_optimization_level': None,\n",
      "2025-06-14 16:13:13 [INFO][logger.py:112]             'first_conv_or_matmul_quantization': True,\n",
      "2025-06-14 16:13:13 [INFO][logger.py:112]             'last_conv_or_matmul_quantization': True,\n",
      "2025-06-14 16:13:13 [INFO][logger.py:112]             'pre_post_process_quantization': True,\n",
      "2025-06-14 16:13:13 [INFO][logger.py:112]             'add_qdq_pair_to_weight': False,\n",
      "2025-06-14 16:13:13 [INFO][logger.py:112]             'optypes_to_exclude_output_quant': [\n",
      "2025-06-14 16:13:13 [INFO][logger.py:112]             ],\n",
      "2025-06-14 16:13:13 [INFO][logger.py:112]             'dedicated_qdq_pair': False,\n",
      "2025-06-14 16:13:13 [INFO][logger.py:112]             'rtn_args': {\n",
      "2025-06-14 16:13:13 [INFO][logger.py:112]             },\n",
      "2025-06-14 16:13:13 [INFO][logger.py:112]             'awq_args': {\n",
      "2025-06-14 16:13:13 [INFO][logger.py:112]             },\n",
      "2025-06-14 16:13:13 [INFO][logger.py:112]             'gptq_args': {\n",
      "2025-06-14 16:13:13 [INFO][logger.py:112]             },\n",
      "2025-06-14 16:13:13 [INFO][logger.py:112]             'teq_args': {\n",
      "2025-06-14 16:13:13 [INFO][logger.py:112]             },\n",
      "2025-06-14 16:13:13 [INFO][logger.py:112]             'autoround_args': {\n",
      "2025-06-14 16:13:13 [INFO][logger.py:112]             }\n",
      "2025-06-14 16:13:13 [INFO][logger.py:112]         },\n",
      "2025-06-14 16:13:13 [INFO][logger.py:112]         'reduce_range': None,\n",
      "2025-06-14 16:13:13 [INFO][logger.py:112]         'TuningCriterion': {\n",
      "2025-06-14 16:13:13 [INFO][logger.py:112]             'max_trials': 100,\n",
      "2025-06-14 16:13:13 [INFO][logger.py:112]             'objective': [\n",
      "2025-06-14 16:13:13 [INFO][logger.py:112]                 'performance'\n",
      "2025-06-14 16:13:13 [INFO][logger.py:112]             ],\n",
      "2025-06-14 16:13:13 [INFO][logger.py:112]             'strategy': 'basic',\n",
      "2025-06-14 16:13:13 [INFO][logger.py:112]             'strategy_kwargs': None,\n",
      "2025-06-14 16:13:13 [INFO][logger.py:112]             'timeout': 0\n",
      "2025-06-14 16:13:13 [INFO][logger.py:112]         },\n",
      "2025-06-14 16:13:13 [INFO][logger.py:112]         'use_bf16': True,\n",
      "2025-06-14 16:13:13 [INFO][logger.py:112]         'ni_workload_name': 'quantization'\n",
      "2025-06-14 16:13:13 [INFO][logger.py:112]     }\n",
      "2025-06-14 16:13:13 [INFO][logger.py:112] }\n",
      "2025-06-14 16:13:13 [WARNING][logger.py:132] [Strategy] Please install `mpi4py` correctly if using distributed tuning; otherwise, ignore this warning.\n",
      "2025-06-14 16:13:14 [INFO][logger.py:114] Attention Blocks: 0\n",
      "2025-06-14 16:13:14 [INFO][logger.py:114] FFN Blocks: 0\n",
      "2025-06-14 16:13:14 [INFO][utility.py:348] Pass query framework capability elapsed time: 579.81 ms\n",
      "2025-06-14 16:13:14 [INFO][logger.py:114] Get FP32 model baseline.\n",
      "2025-06-14 16:13:14 [INFO][logger.py:114] Save tuning history to /mnt/custom-file-systems/efs/fs-f78d6f03_fsap-05c11d1ddb2faa6ae/research_stuff/Pruning/nc_workspace/2025-06-14_16-13-09/./history.snapshot.\n",
      "2025-06-14 16:13:14 [INFO][logger.py:114] FP32 baseline is: [Accuracy: 1.0000, Duration (seconds): 0.0000]\n",
      "2025-06-14 16:13:14 [INFO][logger.py:114] Quantize the model with default config.\n",
      "2025-06-14 16:13:14 [INFO][logger.py:114] Fx trace of the entire model failed, We will conduct auto quantization\n",
      "/opt/conda/lib/python3.11/site-packages/torch/ao/quantization/observer.py:1496: UserWarning: Please use `is_dynamic` instead of `compute_dtype`.                     `compute_dtype` will be deprecated in a future release                     of PyTorch.\n",
      "  warnings.warn(\n",
      "2025-06-14 16:13:15 [WARNING][logger.py:132] Please note that calibration sampling size 133 isn't divisible exactly by batch size 8. So the real sampling size is 136.\n",
      "/opt/conda/lib/python3.11/site-packages/torch/ao/quantization/observer.py:1496: UserWarning: Please use `is_dynamic` instead of `compute_dtype`.                     `compute_dtype` will be deprecated in a future release                     of PyTorch.\n",
      "  warnings.warn(\n",
      "2025-06-14 16:15:07 [INFO][logger.py:114] |*********Mixed Precision Statistics********|\n",
      "2025-06-14 16:15:07 [INFO][logger.py:114] +---------------------+-------+------+------+\n",
      "2025-06-14 16:15:07 [INFO][logger.py:114] |       Op Type       | Total | INT8 | FP32 |\n",
      "2025-06-14 16:15:07 [INFO][logger.py:114] +---------------------+-------+------+------+\n",
      "2025-06-14 16:15:07 [INFO][logger.py:114] |      Embedding      |   2   |  2   |  0   |\n",
      "2025-06-14 16:15:07 [INFO][logger.py:114] |      LayerNorm      |   25  |  0   |  25  |\n",
      "2025-06-14 16:15:07 [INFO][logger.py:114] |       Dropout       |   12  |  0   |  12  |\n",
      "2025-06-14 16:15:07 [INFO][logger.py:114] | quantize_per_tensor |   1   |  1   |  0   |\n",
      "2025-06-14 16:15:07 [INFO][logger.py:114] |        Linear       |   1   |  1   |  0   |\n",
      "2025-06-14 16:15:07 [INFO][logger.py:114] |      dequantize     |   1   |  1   |  0   |\n",
      "2025-06-14 16:15:07 [INFO][logger.py:114] +---------------------+-------+------+------+\n",
      "2025-06-14 16:15:07 [INFO][utility.py:348] Pass quantize model elapsed time: 112844.94 ms\n",
      "2025-06-14 16:15:07 [INFO][logger.py:114] Tune 1 result is: [Accuracy (int8|fp32): 1.0000|1.0000, Duration (seconds) (int8|fp32): 0.0000|0.0000], Best tune result is: [Accuracy: 1.0000, Duration (seconds): 0.0000]\n",
      "2025-06-14 16:15:07 [INFO][logger.py:114] |**********************Tune Result Statistics**********************|\n",
      "2025-06-14 16:15:07 [INFO][logger.py:114] +--------------------+----------+---------------+------------------+\n",
      "2025-06-14 16:15:07 [INFO][logger.py:114] |     Info Type      | Baseline | Tune 1 result | Best tune result |\n",
      "2025-06-14 16:15:07 [INFO][logger.py:114] +--------------------+----------+---------------+------------------+\n",
      "2025-06-14 16:15:07 [INFO][logger.py:114] |      Accuracy      | 1.0000   |    1.0000     |     1.0000       |\n",
      "2025-06-14 16:15:07 [INFO][logger.py:114] | Duration (seconds) | 0.0000   |    0.0000     |     0.0000       |\n",
      "2025-06-14 16:15:07 [INFO][logger.py:114] +--------------------+----------+---------------+------------------+\n",
      "2025-06-14 16:15:07 [INFO][logger.py:114] [Strategy] Found a model that meets the accuracy requirements.\n",
      "2025-06-14 16:15:07 [INFO][logger.py:114] Save tuning history to /mnt/custom-file-systems/efs/fs-f78d6f03_fsap-05c11d1ddb2faa6ae/research_stuff/Pruning/nc_workspace/2025-06-14_16-13-09/./history.snapshot.\n",
      "2025-06-14 16:15:07 [INFO][logger.py:114] [Strategy] Found the model meets accuracy requirements, ending the tuning process.\n",
      "2025-06-14 16:15:07 [INFO][logger.py:114] Specified timeout or max trials is reached! Found a quantized model which meet accuracy goal. Exit.\n",
      "2025-06-14 16:15:07 [INFO][logger.py:114] Save deploy yaml to /mnt/custom-file-systems/efs/fs-f78d6f03_fsap-05c11d1ddb2faa6ae/research_stuff/Pruning/nc_workspace/2025-06-14_16-13-09/deploy.yaml\n"
     ]
    }
   ],
   "source": [
    "from optimum.intel import INCQuantizer\n",
    "from datasets import load_dataset, Dataset\n",
    "import torch\n",
    "from neural_compressor.config import PostTrainingQuantConfig \n",
    "from datasets import Dataset \n",
    "\n",
    "# (A) Create the quantizer and export to OpenVINO IR\n",
    "model.to(\"cpu\")\n",
    "quantizer = INCQuantizer.from_pretrained(model) \n",
    "\n",
    "\n",
    "def prepare_calibration_dataset(valid_ds, tokenizer):\n",
    "    \"\"\"\n",
    "    Prepares a tokenized calibration dataset for INT8 post-training quantization.\n",
    "\n",
    "    How to implement:\n",
    "    - Filter out empty or whitespace-only text entries.\n",
    "    - Tokenize using `tokenizer` with truncation, padding to max length (e.g., 512).\n",
    "    - Remove the raw \"text\" column after tokenization.\n",
    "\n",
    "    Args:\n",
    "        valid_ds: A Hugging Face dataset with a \"text\" field.\n",
    "        tokenizer: Tokenizer used for encoding.\n",
    "\n",
    "    Returns:\n",
    "        Dataset: Tokenized and ready-to-use calibration dataset.\n",
    "    \"\"\"\n",
    "    # TODO: Implement the dataset filtering and tokenization\n",
    "    pass\n",
    "\n",
    "def run_post_training_quantization(quantizer, calibration_dataset, output_dir):\n",
    "    \"\"\"\n",
    "    Runs static 8-bit quantization using Intel Neural Compressor.\n",
    "\n",
    "    How to implement:\n",
    "    - Create a `PostTrainingQuantConfig` object with:\n",
    "        - `approach=\"static\"`\n",
    "        - `device=\"cpu\"`\n",
    "    - Call `quantizer.quantize(...)` with calibration data and save path.\n",
    "\n",
    "    Args:\n",
    "        quantizer (INCQuantizer): The quantizer object created from the model.\n",
    "        calibration_dataset: Tokenized dataset used for calibration.\n",
    "        output_dir (str): Directory to save the quantized model (OpenVINO IR format).\n",
    "\n",
    "    Returns:\n",
    "        None\n",
    "    \"\"\"\n",
    "    # TODO: Instantiate quant config and run the quantization\n",
    "    pass\n",
    "\n",
    "\n",
    "calibration_dataset = prepare_calibration_dataset(valid_ds, tokenizer)\n",
    "run_post_training_quantization(quantizer, calibration_dataset, output_dir='gpt2_pruned_int8')"
   ]
  },
  {
   "cell_type": "markdown",
   "metadata": {},
   "source": [
    "## 🚀 Part 4: Deploy on CPU-Only Machine (2 vCPUs, 4 GB RAM)\n",
    "Objective: Run the quantized GPT-2 on a low-resource edge device.\n",
    "\n",
    "Environment:\n",
    "\n",
    "2-core CPU\n",
    "\n",
    "4 GB RAM\n",
    "\n",
    "Tasks:\n",
    "\n",
    "Measure latency and throughput on CPU.\n",
    "\n",
    "Evaluate how memory-efficient the model is post-quantization.\n",
    "\n",
    "Generate flame graphs to analyze CPU bottlenecks."
   ]
  },
  {
   "cell_type": "markdown",
   "metadata": {},
   "source": [
    "### CPU-Only Inference Benchmark "
   ]
  },
  {
   "cell_type": "markdown",
   "metadata": {
    "scrolled": true
   },
   "source": [
    "#### Lets load the CPU model which we saved above\n",
    "\n",
    "Loads an INT8 quantized model for CPU inference from a local directory.\n",
    "\n",
    "    How to implement:\n",
    "    - Use `INCModelForCausalLM.from_pretrained(...)` to load the quantized model.\n",
    "    - Load the matching tokenizer using `AutoTokenizer.from_pretrained(...)`.\n",
    "    - Ensure the model remains on CPU (no `.to()` call needed).\n",
    "    - Return both the model and tokenizer.\n",
    "\n",
    "    Args:\n",
    "        model_dir (str): Path to the directory where the quantized model is saved.\n",
    "\n",
    "    Returns:\n",
    "        model: loaded for CPU inference."
   ]
  },
  {
   "cell_type": "code",
   "execution_count": null,
   "metadata": {},
   "outputs": [
    {
     "name": "stderr",
     "output_type": "stream",
     "text": [
      "/opt/conda/lib/python3.11/site-packages/torch/_utils.py:446: UserWarning: TypedStorage is deprecated. It will be removed in the future and UntypedStorage will be the only storage class. This should only matter to you if you are using storages directly.  To access UntypedStorage directly, use tensor.untyped_storage() instead of tensor.storage()\n",
      "  device=storage.device,\n",
      "/opt/conda/lib/python3.11/site-packages/torch/ao/quantization/observer.py:1496: UserWarning: Please use `is_dynamic` instead of `compute_dtype`.                     `compute_dtype` will be deprecated in a future release                     of PyTorch.\n",
      "  warnings.warn(\n",
      "/opt/conda/lib/python3.11/site-packages/torch/ao/quantization/observer.py:1333: UserWarning: must run observer before calling calculate_qparams.                                    Returning default scale and zero point \n",
      "  warnings.warn(\n"
     ]
    }
   ],
   "source": [
    "import psutil, os\n",
    "from optimum.intel import INCModelForCausalLM\n",
    "from transformers import AutoTokenizer\n",
    "\n",
    "def load_cpu_model(model_dir):\n",
    "    \"\"\"\n",
    "    Loads an INT8 quantized model for CPU inference from a local directory.\n",
    "\n",
    "    How to implement:\n",
    "    - Use `INCModelForCausalLM.from_pretrained(...)` to load the quantized model.\n",
    "    - Load the matching tokenizer using `AutoTokenizer.from_pretrained(...)`.\n",
    "    - Ensure the model remains on CPU (no `.to()` call needed).\n",
    "    - Return both the model and tokenizer.\n",
    "\n",
    "    Args:\n",
    "        model_dir (str): Path to the directory where the quantized model is saved.\n",
    "\n",
    "    Returns:\n",
    "        tuple: (tokenizer, model) loaded for CPU inference.\n",
    "    \"\"\"\n",
    "    # TODO: Load tokenizer and quantized model from directory\n",
    "    pass\n",
    "\n",
    "quant_model_cpu = load_cpu_model(model_dir=\"/home/sagemaker-user/user-default-efs/research_stuff/Pruning/gpt2_pruned_int8\")"
   ]
  },
  {
   "cell_type": "markdown",
   "metadata": {},
   "source": [
    "### Measure CPU Latency & RAM\n",
    "\n",
    "Define helper functions to measure CPU inference latency and peak RAM; then compute perplexity on CPU (which will be slow). \n",
    "\n",
    "#### Lets write a function to calculate latency on CPU which\n",
    "\n",
    "Measures average inference latency on CPU in milliseconds per token.\n",
    "\n",
    "    How to implement:\n",
    "    - Put the model in evaluation mode using `.eval()`.\n",
    "    - Tokenize the prompt and prepare input tensors.\n",
    "    - Run a short warm-up generation to stabilize performance.\n",
    "    - Use `time.time()` to time generation of `max_new_tokens`.\n",
    "    - Return average time per token (ms).\n",
    "\n",
    "    Args:\n",
    "        model: Quantized or float model on CPU.\n",
    "        tokenizer: Hugging Face tokenizer.\n",
    "        prompt (str): Input text prompt.\n",
    "        max_new_tokens (int): Number of tokens to generate.\n",
    "\n",
    "    Returns:\n",
    "        float: Latency in ms/token."
   ]
  },
  {
   "cell_type": "code",
   "execution_count": null,
   "metadata": {},
   "outputs": [],
   "source": [
    "import time, math\n",
    "\n",
    "def measure_latency_cpu(\n",
    "    model, tokenizer, prompt=\"The future of AI is\", max_new_tokens=50\n",
    "):\n",
    "    \"\"\"\n",
    "    Measures average inference latency on CPU in milliseconds per token.\n",
    "\n",
    "    How to implement:\n",
    "    - Put the model in evaluation mode using `.eval()`.\n",
    "    - Tokenize the prompt and prepare input tensors.\n",
    "    - Run a short warm-up generation to stabilize performance.\n",
    "    - Use `time.time()` to time generation of `max_new_tokens`.\n",
    "    - Return average time per token (ms).\n",
    "\n",
    "    Args:\n",
    "        model: Quantized or float model on CPU.\n",
    "        tokenizer: Hugging Face tokenizer.\n",
    "        prompt (str): Input text prompt.\n",
    "        max_new_tokens (int): Number of tokens to generate.\n",
    "\n",
    "    Returns:\n",
    "        float: Latency in ms/token.\n",
    "    \"\"\"\n",
    "    # TODO: Implement latency measurement with warm-up and timing\n",
    "    pass"
   ]
  },
  {
   "cell_type": "markdown",
   "metadata": {},
   "source": [
    "#### Lets write another function to calculate peak RAM usage which \n",
    "\n",
    "Measures the peak RAM usage of the current Python process in GB.\n",
    "\n",
    "    How to implement:\n",
    "    - Use the `psutil` library to get current process memory info.\n",
    "    - Convert the result from bytes to gigabytes.\n",
    "\n",
    "    Returns:\n",
    "        float: Peak RAM usage in gigabytes."
   ]
  },
  {
   "cell_type": "code",
   "execution_count": null,
   "metadata": {},
   "outputs": [],
   "source": [
    "def peak_ram_usage_gb():\n",
    "    \"\"\"\n",
    "    Measures the peak RAM usage of the current Python process in GB.\n",
    "\n",
    "    How to implement:\n",
    "    - Use the `psutil` library to get current process memory info.\n",
    "    - Convert the result from bytes to gigabytes.\n",
    "\n",
    "    Returns:\n",
    "        float: Peak RAM usage in gigabytes.\n",
    "    \"\"\"\n",
    "    # TODO: Use psutil.Process().memory_info().rss\n",
    "    pass"
   ]
  },
  {
   "cell_type": "markdown",
   "metadata": {},
   "source": [
    "#### Lets write a function which will calculate the Perplexity of the model on a given dataset on CPU. \n",
    "\n",
    "This function will \n",
    "Compute perplexity of a model on CPU over a given dataset.\n",
    "\n",
    "    How to implement:\n",
    "    - Put the model in evaluation mode using `.eval()`.\n",
    "    - Loop over examples in the dataset.\n",
    "    - Skip empty or whitespace-only texts.\n",
    "    - Tokenize each example and skip if tokenized length is 0.\n",
    "    - Compute loss using `input_ids` as both input and label.\n",
    "    - Accumulate total loss and total tokens.\n",
    "    - Return exponential of average loss per token.\n",
    "\n",
    "    Args:\n",
    "        model: CPU-based language model.\n",
    "        tokenizer: Tokenizer for encoding.\n",
    "        dataset: A dataset containing \"text\" entries.\n",
    "\n",
    "    Returns:\n",
    "        float: Perplexity score."
   ]
  },
  {
   "cell_type": "code",
   "execution_count": null,
   "metadata": {},
   "outputs": [],
   "source": [
    "def compute_ppl_cpu(model, tokenizer, dataset):\n",
    "    \"\"\"\n",
    "    Computes perplexity of a model on CPU over a given dataset.\n",
    "\n",
    "    How to implement:\n",
    "    - Put the model in evaluation mode using `.eval()`.\n",
    "    - Loop over examples in the dataset.\n",
    "    - Skip empty or whitespace-only texts.\n",
    "    - Tokenize each example and skip if tokenized length is 0.\n",
    "    - Compute loss using `input_ids` as both input and label.\n",
    "    - Accumulate total loss and total tokens.\n",
    "    - Return exponential of average loss per token.\n",
    "\n",
    "    Args:\n",
    "        model: CPU-based language model.\n",
    "        tokenizer: Tokenizer for encoding.\n",
    "        dataset: A dataset containing \"text\" entries.\n",
    "\n",
    "    Returns:\n",
    "        float: Perplexity score.\n",
    "    \"\"\"\n",
    "    # TODO: Iterate through the dataset and compute average loss\n",
    "    pass"
   ]
  },
  {
   "cell_type": "code",
   "execution_count": 26,
   "metadata": {},
   "outputs": [
    {
     "name": "stdout",
     "output_type": "stream",
     "text": [
      "CPU INT8 Latency: 26.54 ms/token\n",
      "CPU Peak RAM: 4.73 GB\n",
      "CPU Perplexity: 83.01\n"
     ]
    }
   ],
   "source": [
    "cpu_latency = measure_latency_cpu(quant_model_cpu, tokenizer)\n",
    "cpu_ram = peak_ram_usage_gb()\n",
    "cpu_ppl = compute_ppl_cpu(quant_model_cpu, tokenizer, valid_ds)\n",
    "\n",
    "print(f\"CPU INT8 Latency: {cpu_latency:.2f} ms/token\")  # expect ~ 5 ms/token (≈ 250 ms/50 tokens) \n",
    "print(f\"CPU Peak RAM: {cpu_ram:.2f} GB\")               # expect ~ 1 GB \n",
    "print(f\"CPU Perplexity: {cpu_ppl:.2f}\")             # expect ~ 11–12 (≤ 10 % ↑)"
   ]
  },
  {
   "cell_type": "markdown",
   "metadata": {},
   "source": [
    "## 🚀 Part 4: Deploy on CPU-Only Machine (2 vCPUs, 4 GB RAM)\n",
    "-\tObjective: Run the quantized GPT-2 on a low-resource edge device.\n",
    "-\tEnvironment:\n",
    "-\t2-core CPU\n",
    "-\t4 GB RAM\n",
    "-\tTasks:  \n",
    "    - Measure latency and throughput on CPU.  \n",
    "    -\tEvaluate how memory-efficient the model is post-quantization.  \n",
    "\t-\tGenerate flame graphs to analyze CPU bottlenecks.  \n",
    "\n",
    "\n",
    "### 📊 Metrics Tracked Throughout the Pipeline\n",
    "-\tLatency: Time taken per generation step.\n",
    "-\tThroughput: Tokens per second.\n",
    "-\tMemory Usage: GPU and CPU memory footprints.\n",
    "-\tPerplexity: As a proxy for model accuracy.\n",
    "-\tFlame Graphs: For performance bottleneck analysis."
   ]
  },
  {
   "cell_type": "markdown",
   "metadata": {},
   "source": [
    " ### Compile Metrics\n",
    "\n",
    "Aggregate all measured metrics into a single dictionary for easy plotting ."
   ]
  },
  {
   "cell_type": "code",
   "execution_count": 27,
   "metadata": {},
   "outputs": [
    {
     "data": {
      "text/plain": [
       "{'Baseline (FP16 GPU)': {'latency': 8.810129165649414,\n",
       "  'ppl': 40.03270401369621,\n",
       "  'vram': 0.44705772399902344},\n",
       " 'Pruned (FP16 GPU)': {'latency': 10.559501647949219,\n",
       "  'ppl': 37.197306570801494,\n",
       "  'vram': 2.2750134468078613},\n",
       " 'Quant (INT8 CPU)': {'latency': 26.538190841674805,\n",
       "  'ppl': 83.00798251660107,\n",
       "  'ram': 4.725250244140625}}"
      ]
     },
     "execution_count": 27,
     "metadata": {},
     "output_type": "execute_result"
    }
   ],
   "source": [
    "metrics = {\n",
    "    \"Baseline (FP16 GPU)\":   {\"latency\": baseline_latency, \"ppl\": baseline_ppl, \"vram\": peak_vram},\n",
    "    \"Pruned (FP16 GPU)\":     {\"latency\": pruned_latency,   \"ppl\": pruned_ppl,   \"vram\": pruned_vram},\n",
    "    \"Quant (INT8 CPU)\":      {\"latency\": cpu_latency,      \"ppl\": cpu_ppl,      \"ram\": cpu_ram}\n",
    "}\n",
    "metrics  "
   ]
  },
  {
   "cell_type": "markdown",
   "metadata": {},
   "source": [
    "### Plot Latency Comparisons"
   ]
  },
  {
   "cell_type": "code",
   "execution_count": null,
   "metadata": {},
   "outputs": [
    {
     "data": {
      "image/png": "[encoded data removed]",
      "text/plain": [
       "<Figure size 800x500 with 1 Axes>"
      ]
     },
     "metadata": {},
     "output_type": "display_data"
    }
   ],
   "source": [
    "import matplotlib.pyplot as plt\n",
    "\n",
    "def plot_latency(metrics):\n",
    "    \"\"\"\n",
    "    Plots a horizontal bar chart of latency values from different optimization stages.\n",
    "\n",
    "    Args:\n",
    "        metrics (dict): A dictionary containing model stages as keys and dictionaries as values.\n",
    "                        Each inner dictionary should contain a 'latency' field indicating the\n",
    "                        latency in milliseconds per token. For example:\n",
    "                        \n",
    "                        {\n",
    "                            \"Baseline (FP16 GPU)\": {\"latency\": 12.5, \"ppl\": 40.03, \"vram\": 7.5},\n",
    "                            \"Pruned (FP16 GPU)\":   {\"latency\": 10.2, \"ppl\": 55.54, \"vram\": 6.0},\n",
    "                            \"Quant (INT8 CPU)\":    {\"latency\": 18.7, \"ppl\": 51.0,  \"ram\": 3.2}\n",
    "                        }\n",
    "\n",
    "    Returns:\n",
    "        None. Displays a horizontal bar chart showing latency across optimization stages.\n",
    "\n",
    "    TODO:\n",
    "        1. Extract stage names from the metrics dictionary.\n",
    "        2. Extract corresponding latency values for each stage.\n",
    "        3. Use `matplotlib.pyplot` to create a horizontal bar chart.\n",
    "        4. Label the x-axis as \"Latency (ms/token)\" and give an appropriate chart title.\n",
    "        5. Annotate each bar with its exact latency value using `plt.text()`.\n",
    "    \"\"\"\n",
    "    # TODO 1: Extract stage names\n",
    "\n",
    "    # TODO 2: Extract latency values\n",
    "\n",
    "    # TODO 3: Create horizontal bar chart\n",
    "\n",
    "    # TODO 4: Label axes and title\n",
    "\n",
    "    # TODO 5: Annotate each bar with its value\n",
    "\n",
    "plot_latency(metrics)"
   ]
  },
  {
   "cell_type": "markdown",
   "metadata": {},
   "source": [
    "### Plot Memory Usage (GPU VRAM vs CPU RAM)"
   ]
  },
  {
   "cell_type": "code",
   "execution_count": null,
   "metadata": {},
   "outputs": [
    {
     "name": "stdout",
     "output_type": "stream",
     "text": [
      "All stages: ['Baseline (FP16 GPU)', 'Pruned (FP16 GPU)', 'Quant (INT8 CPU)']\n",
      " • Baseline (FP16 GPU): keys = ['latency', 'ppl', 'vram']\n",
      " • Pruned (FP16 GPU): keys = ['latency', 'ppl', 'vram']\n",
      " • Quant (INT8 CPU): keys = ['latency', 'ppl', 'ram']\n",
      "GPU stages (with 'vram'): ['Baseline (FP16 GPU)', 'Pruned (FP16 GPU)']\n"
     ]
    },
    {
     "data": {
      "image/png": "[encoded data removed]",
      "text/plain": [
       "<Figure size 800x400 with 1 Axes>"
      ]
     },
     "metadata": {},
     "output_type": "display_data"
    },
    {
     "data": {
      "image/png": "[encoded data removed]",
      "text/plain": [
       "<Figure size 400x300 with 1 Axes>"
      ]
     },
     "metadata": {},
     "output_type": "display_data"
    }
   ],
   "source": [
    "import matplotlib.pyplot as plt\n",
    "\n",
    "def plot_memory_usage(metrics):\n",
    "    \"\"\"\n",
    "    Plots two separate bar charts:\n",
    "      1. GPU VRAM usage for all stages that include a 'vram' key.\n",
    "      2. CPU RAM usage for the stage named 'Quant (INT8 CPU)' which includes a 'ram' key.\n",
    "\n",
    "    Args:\n",
    "        metrics (dict): A dictionary of performance metrics per stage. Each key is a stage name,\n",
    "                        and each value is a dictionary that may include:\n",
    "                            - 'vram': GPU memory in GB\n",
    "                            - 'ram':  CPU memory in GB\n",
    "                            - Other metrics like 'latency', 'ppl', etc.\n",
    "\n",
    "    Returns:\n",
    "        None. Displays memory usage bar charts.\n",
    "\n",
    "    TODO:\n",
    "        1. Extract and print all stages and their keys for debugging.\n",
    "        2. Filter out only those stages that include the 'vram' key.\n",
    "        3. Plot GPU memory (VRAM) usage for those stages.\n",
    "        4. If the stage \"Quant (INT8 CPU)\" has a 'ram' key, plot CPU RAM usage.\n",
    "    \"\"\"\n",
    "    # TODO 1: Debug print\n",
    "\n",
    "    # TODO 2: Filter stages that include 'vram'\n",
    "\n",
    "    # TODO 3: Plot GPU VRAM usage\n",
    "\n",
    "    # TODO 4: Plot CPU RAM usage if available\n",
    "\n",
    "plot_memory_usage(metrics)"
   ]
  },
  {
   "cell_type": "markdown",
   "metadata": {},
   "source": [
    "### Plot Perplexity Comparison"
   ]
  },
  {
   "cell_type": "code",
   "execution_count": null,
   "metadata": {},
   "outputs": [
    {
     "data": {
      "image/png": "[encoded data removed]",
      "text/plain": [
       "<Figure size 800x500 with 1 Axes>"
      ]
     },
     "metadata": {},
     "output_type": "display_data"
    }
   ],
   "source": [
    "import matplotlib.pyplot as plt\n",
    "\n",
    "def plot_perplexity(metrics):\n",
    "    \"\"\"\n",
    "    Plots a bar chart showing perplexity values across different model optimization stages.\n",
    "\n",
    "    Args:\n",
    "        metrics (dict): A dictionary where keys are stage names and values are dictionaries\n",
    "                        containing various performance metrics. Each stage dictionary should\n",
    "                        include a 'ppl' (perplexity) key. For example:\n",
    "\n",
    "                        {\n",
    "                            \"Baseline (FP16 GPU)\": {\"latency\": 12.5, \"ppl\": 40.03, \"vram\": 7.5},\n",
    "                            \"Pruned (FP16 GPU)\":   {\"latency\": 10.2, \"ppl\": 55.54, \"vram\": 6.0},\n",
    "                            \"Quant (INT8 CPU)\":    {\"latency\": 18.7, \"ppl\": 51.0,  \"ram\": 3.2}\n",
    "                        }\n",
    "\n",
    "    Returns:\n",
    "        None. Displays a bar chart of perplexity values.\n",
    "\n",
    "    TODO:\n",
    "        1. Extract stage names from the metrics dictionary.\n",
    "        2. Extract corresponding perplexity values for each stage.\n",
    "        3. Use `matplotlib.pyplot` to plot a vertical bar chart.\n",
    "        4. Annotate each bar with the corresponding perplexity value.\n",
    "    \"\"\"\n",
    "    # TODO 1: Extract stage names\n",
    "\n",
    "    # TODO 2: Extract perplexity values\n",
    "\n",
    "    # TODO 3: Plot bar chart\n",
    "\n",
    "    # TODO 4: Labeling\n",
    "\n",
    "plot_perplexity(metrics)"
   ]
  },
  {
   "cell_type": "markdown",
   "metadata": {},
   "source": [
    "#### Generate FLAME graphs using Tensorboard"
   ]
  },
  {
   "cell_type": "markdown",
   "metadata": {},
   "source": [
    "### Run inference on CPU to predict next word"
   ]
  },
  {
   "cell_type": "code",
   "execution_count": null,
   "metadata": {},
   "outputs": [
    {
     "name": "stdout",
     "output_type": "stream",
     "text": [
      "Prompt: 'Chelsea Football Club will win the Champions League and'\n",
      "\n",
      "Next-word suggestions (token ⟶ probability):\n",
      "  'the' ⟶ 0.4807\n",
      "  'FA' ⟶ 0.1367\n",
      "  'Europa' ⟶ 0.0389\n"
     ]
    }
   ],
   "source": [
    "import torch\n",
    "import torch.nn.functional as F\n",
    "\n",
    "def get_next_token_suggestions(\n",
    "    model,\n",
    "    tokenizer,\n",
    "    prompt: str,\n",
    "    top_k: int = 5\n",
    "):\n",
    "    \"\"\"\n",
    "    Returns the top_k most likely next‐token suggestions for a given prompt,\n",
    "    based on the quantized CPU model’s logits.\n",
    "\n",
    "    Args:\n",
    "      model (INCModelForCausalLM): quantized GPT-2 on CPU\n",
    "      tokenizer (AutoTokenizer): matching tokenizer\n",
    "      prompt (str): the input text so far\n",
    "      top_k (int): how many token suggestions to return\n",
    "\n",
    "    Returns:\n",
    "      List of (token_str, probability) tuples, sorted by descending probability.\n",
    "    \"\"\"\n",
    "    # TODO: Implement the function to get next token suggestions\n",
    "    pass\n",
    "\n",
    "\n",
    "prompt_text = \"Chelsea Football Club will win the Champions League and\"\n",
    "suggestions = get_next_token_suggestions(\n",
    "    quant_model_cpu,\n",
    "    tokenizer,\n",
    "    prompt_text,\n",
    "    top_k=3\n",
    ")\n",
    "\n",
    "print(f\"Prompt: {prompt_text!r}\\n\")\n",
    "print(\"Next-word suggestions (token ⟶ probability):\")\n",
    "for token_str, prob in suggestions:\n",
    "    print(f\"  {token_str!r} ⟶ {prob:.4f}\")"
   ]
  },
  {
   "cell_type": "code",
   "execution_count": null,
   "metadata": {},
   "outputs": [],
   "source": []
  }
 ],
 "metadata": {
  "accelerator": "GPU",
  "availableInstances": [
   {
    "_defaultOrder": 0,
    "_isFastLaunch": true,
    "category": "General purpose",
    "gpuNum": 0,
    "hideHardwareSpecs": false,
    "memoryGiB": 4,
    "name": "ml.t3.medium",
    "vcpuNum": 2
   },
   {
    "_defaultOrder": 1,
    "_isFastLaunch": false,
    "category": "General purpose",
    "gpuNum": 0,
    "hideHardwareSpecs": false,
    "memoryGiB": 8,
    "name": "ml.t3.large",
    "vcpuNum": 2
   },
   {
    "_defaultOrder": 2,
    "_isFastLaunch": false,
    "category": "General purpose",
    "gpuNum": 0,
    "hideHardwareSpecs": false,
    "memoryGiB": 16,
    "name": "ml.t3.xlarge",
    "vcpuNum": 4
   },
   {
    "_defaultOrder": 3,
    "_isFastLaunch": false,
    "category": "General purpose",
    "gpuNum": 0,
    "hideHardwareSpecs": false,
    "memoryGiB": 32,
    "name": "ml.t3.2xlarge",
    "vcpuNum": 8
   },
   {
    "_defaultOrder": 4,
    "_isFastLaunch": true,
    "category": "General purpose",
    "gpuNum": 0,
    "hideHardwareSpecs": false,
    "memoryGiB": 8,
    "name": "ml.m5.large",
    "vcpuNum": 2
   },
   {
    "_defaultOrder": 5,
    "_isFastLaunch": false,
    "category": "General purpose",
    "gpuNum": 0,
    "hideHardwareSpecs": false,
    "memoryGiB": 16,
    "name": "ml.m5.xlarge",
    "vcpuNum": 4
   },
   {
    "_defaultOrder": 6,
    "_isFastLaunch": false,
    "category": "General purpose",
    "gpuNum": 0,
    "hideHardwareSpecs": false,
    "memoryGiB": 32,
    "name": "ml.m5.2xlarge",
    "vcpuNum": 8
   },
   {
    "_defaultOrder": 7,
    "_isFastLaunch": false,
    "category": "General purpose",
    "gpuNum": 0,
    "hideHardwareSpecs": false,
    "memoryGiB": 64,
    "name": "ml.m5.4xlarge",
    "vcpuNum": 16
   },
   {
    "_defaultOrder": 8,
    "_isFastLaunch": false,
    "category": "General purpose",
    "gpuNum": 0,
    "hideHardwareSpecs": false,
    "memoryGiB": 128,
    "name": "ml.m5.8xlarge",
    "vcpuNum": 32
   },
   {
    "_defaultOrder": 9,
    "_isFastLaunch": false,
    "category": "General purpose",
    "gpuNum": 0,
    "hideHardwareSpecs": false,
    "memoryGiB": 192,
    "name": "ml.m5.12xlarge",
    "vcpuNum": 48
   },
   {
    "_defaultOrder": 10,
    "_isFastLaunch": false,
    "category": "General purpose",
    "gpuNum": 0,
    "hideHardwareSpecs": false,
    "memoryGiB": 256,
    "name": "ml.m5.16xlarge",
    "vcpuNum": 64
   },
   {
    "_defaultOrder": 11,
    "_isFastLaunch": false,
    "category": "General purpose",
    "gpuNum": 0,
    "hideHardwareSpecs": false,
    "memoryGiB": 384,
    "name": "ml.m5.24xlarge",
    "vcpuNum": 96
   },
   {
    "_defaultOrder": 12,
    "_isFastLaunch": false,
    "category": "General purpose",
    "gpuNum": 0,
    "hideHardwareSpecs": false,
    "memoryGiB": 8,
    "name": "ml.m5d.large",
    "vcpuNum": 2
   },
   {
    "_defaultOrder": 13,
    "_isFastLaunch": false,
    "category": "General purpose",
    "gpuNum": 0,
    "hideHardwareSpecs": false,
    "memoryGiB": 16,
    "name": "ml.m5d.xlarge",
    "vcpuNum": 4
   },
   {
    "_defaultOrder": 14,
    "_isFastLaunch": false,
    "category": "General purpose",
    "gpuNum": 0,
    "hideHardwareSpecs": false,
    "memoryGiB": 32,
    "name": "ml.m5d.2xlarge",
    "vcpuNum": 8
   },
   {
    "_defaultOrder": 15,
    "_isFastLaunch": false,
    "category": "General purpose",
    "gpuNum": 0,
    "hideHardwareSpecs": false,
    "memoryGiB": 64,
    "name": "ml.m5d.4xlarge",
    "vcpuNum": 16
   },
   {
    "_defaultOrder": 16,
    "_isFastLaunch": false,
    "category": "General purpose",
    "gpuNum": 0,
    "hideHardwareSpecs": false,
    "memoryGiB": 128,
    "name": "ml.m5d.8xlarge",
    "vcpuNum": 32
   },
   {
    "_defaultOrder": 17,
    "_isFastLaunch": false,
    "category": "General purpose",
    "gpuNum": 0,
    "hideHardwareSpecs": false,
    "memoryGiB": 192,
    "name": "ml.m5d.12xlarge",
    "vcpuNum": 48
   },
   {
    "_defaultOrder": 18,
    "_isFastLaunch": false,
    "category": "General purpose",
    "gpuNum": 0,
    "hideHardwareSpecs": false,
    "memoryGiB": 256,
    "name": "ml.m5d.16xlarge",
    "vcpuNum": 64
   },
   {
    "_defaultOrder": 19,
    "_isFastLaunch": false,
    "category": "General purpose",
    "gpuNum": 0,
    "hideHardwareSpecs": false,
    "memoryGiB": 384,
    "name": "ml.m5d.24xlarge",
    "vcpuNum": 96
   },
   {
    "_defaultOrder": 20,
    "_isFastLaunch": false,
    "category": "General purpose",
    "gpuNum": 0,
    "hideHardwareSpecs": true,
    "memoryGiB": 0,
    "name": "ml.geospatial.interactive",
    "supportedImageNames": [
     "sagemaker-geospatial-v1-0"
    ],
    "vcpuNum": 0
   },
   {
    "_defaultOrder": 21,
    "_isFastLaunch": true,
    "category": "Compute optimized",
    "gpuNum": 0,
    "hideHardwareSpecs": false,
    "memoryGiB": 4,
    "name": "ml.c5.large",
    "vcpuNum": 2
   },
   {
    "_defaultOrder": 22,
    "_isFastLaunch": false,
    "category": "Compute optimized",
    "gpuNum": 0,
    "hideHardwareSpecs": false,
    "memoryGiB": 8,
    "name": "ml.c5.xlarge",
    "vcpuNum": 4
   },
   {
    "_defaultOrder": 23,
    "_isFastLaunch": false,
    "category": "Compute optimized",
    "gpuNum": 0,
    "hideHardwareSpecs": false,
    "memoryGiB": 16,
    "name": "ml.c5.2xlarge",
    "vcpuNum": 8
   },
   {
    "_defaultOrder": 24,
    "_isFastLaunch": false,
    "category": "Compute optimized",
    "gpuNum": 0,
    "hideHardwareSpecs": false,
    "memoryGiB": 32,
    "name": "ml.c5.4xlarge",
    "vcpuNum": 16
   },
   {
    "_defaultOrder": 25,
    "_isFastLaunch": false,
    "category": "Compute optimized",
    "gpuNum": 0,
    "hideHardwareSpecs": false,
    "memoryGiB": 72,
    "name": "ml.c5.9xlarge",
    "vcpuNum": 36
   },
   {
    "_defaultOrder": 26,
    "_isFastLaunch": false,
    "category": "Compute optimized",
    "gpuNum": 0,
    "hideHardwareSpecs": false,
    "memoryGiB": 96,
    "name": "ml.c5.12xlarge",
    "vcpuNum": 48
   },
   {
    "_defaultOrder": 27,
    "_isFastLaunch": false,
    "category": "Compute optimized",
    "gpuNum": 0,
    "hideHardwareSpecs": false,
    "memoryGiB": 144,
    "name": "ml.c5.18xlarge",
    "vcpuNum": 72
   },
   {
    "_defaultOrder": 28,
    "_isFastLaunch": false,
    "category": "Compute optimized",
    "gpuNum": 0,
    "hideHardwareSpecs": false,
    "memoryGiB": 192,
    "name": "ml.c5.24xlarge",
    "vcpuNum": 96
   },
   {
    "_defaultOrder": 29,
    "_isFastLaunch": true,
    "category": "Accelerated computing",
    "gpuNum": 1,
    "hideHardwareSpecs": false,
    "memoryGiB": 16,
    "name": "ml.g4dn.xlarge",
    "vcpuNum": 4
   },
   {
    "_defaultOrder": 30,
    "_isFastLaunch": false,
    "category": "Accelerated computing",
    "gpuNum": 1,
    "hideHardwareSpecs": false,
    "memoryGiB": 32,
    "name": "ml.g4dn.2xlarge",
    "vcpuNum": 8
   },
   {
    "_defaultOrder": 31,
    "_isFastLaunch": false,
    "category": "Accelerated computing",
    "gpuNum": 1,
    "hideHardwareSpecs": false,
    "memoryGiB": 64,
    "name": "ml.g4dn.4xlarge",
    "vcpuNum": 16
   },
   {
    "_defaultOrder": 32,
    "_isFastLaunch": false,
    "category": "Accelerated computing",
    "gpuNum": 1,
    "hideHardwareSpecs": false,
    "memoryGiB": 128,
    "name": "ml.g4dn.8xlarge",
    "vcpuNum": 32
   },
   {
    "_defaultOrder": 33,
    "_isFastLaunch": false,
    "category": "Accelerated computing",
    "gpuNum": 4,
    "hideHardwareSpecs": false,
    "memoryGiB": 192,
    "name": "ml.g4dn.12xlarge",
    "vcpuNum": 48
   },
   {
    "_defaultOrder": 34,
    "_isFastLaunch": false,
    "category": "Accelerated computing",
    "gpuNum": 1,
    "hideHardwareSpecs": false,
    "memoryGiB": 256,
    "name": "ml.g4dn.16xlarge",
    "vcpuNum": 64
   },
   {
    "_defaultOrder": 35,
    "_isFastLaunch": false,
    "category": "Accelerated computing",
    "gpuNum": 1,
    "hideHardwareSpecs": false,
    "memoryGiB": 61,
    "name": "ml.p3.2xlarge",
    "vcpuNum": 8
   },
   {
    "_defaultOrder": 36,
    "_isFastLaunch": false,
    "category": "Accelerated computing",
    "gpuNum": 4,
    "hideHardwareSpecs": false,
    "memoryGiB": 244,
    "name": "ml.p3.8xlarge",
    "vcpuNum": 32
   },
   {
    "_defaultOrder": 37,
    "_isFastLaunch": false,
    "category": "Accelerated computing",
    "gpuNum": 8,
    "hideHardwareSpecs": false,
    "memoryGiB": 488,
    "name": "ml.p3.16xlarge",
    "vcpuNum": 64
   },
   {
    "_defaultOrder": 38,
    "_isFastLaunch": false,
    "category": "Accelerated computing",
    "gpuNum": 8,
    "hideHardwareSpecs": false,
    "memoryGiB": 768,
    "name": "ml.p3dn.24xlarge",
    "vcpuNum": 96
   },
   {
    "_defaultOrder": 39,
    "_isFastLaunch": false,
    "category": "Memory Optimized",
    "gpuNum": 0,
    "hideHardwareSpecs": false,
    "memoryGiB": 16,
    "name": "ml.r5.large",
    "vcpuNum": 2
   },
   {
    "_defaultOrder": 40,
    "_isFastLaunch": false,
    "category": "Memory Optimized",
    "gpuNum": 0,
    "hideHardwareSpecs": false,
    "memoryGiB": 32,
    "name": "ml.r5.xlarge",
    "vcpuNum": 4
   },
   {
    "_defaultOrder": 41,
    "_isFastLaunch": false,
    "category": "Memory Optimized",
    "gpuNum": 0,
    "hideHardwareSpecs": false,
    "memoryGiB": 64,
    "name": "ml.r5.2xlarge",
    "vcpuNum": 8
   },
   {
    "_defaultOrder": 42,
    "_isFastLaunch": false,
    "category": "Memory Optimized",
    "gpuNum": 0,
    "hideHardwareSpecs": false,
    "memoryGiB": 128,
    "name": "ml.r5.4xlarge",
    "vcpuNum": 16
   },
   {
    "_defaultOrder": 43,
    "_isFastLaunch": false,
    "category": "Memory Optimized",
    "gpuNum": 0,
    "hideHardwareSpecs": false,
    "memoryGiB": 256,
    "name": "ml.r5.8xlarge",
    "vcpuNum": 32
   },
   {
    "_defaultOrder": 44,
    "_isFastLaunch": false,
    "category": "Memory Optimized",
    "gpuNum": 0,
    "hideHardwareSpecs": false,
    "memoryGiB": 384,
    "name": "ml.r5.12xlarge",
    "vcpuNum": 48
   },
   {
    "_defaultOrder": 45,
    "_isFastLaunch": false,
    "category": "Memory Optimized",
    "gpuNum": 0,
    "hideHardwareSpecs": false,
    "memoryGiB": 512,
    "name": "ml.r5.16xlarge",
    "vcpuNum": 64
   },
   {
    "_defaultOrder": 46,
    "_isFastLaunch": false,
    "category": "Memory Optimized",
    "gpuNum": 0,
    "hideHardwareSpecs": false,
    "memoryGiB": 768,
    "name": "ml.r5.24xlarge",
    "vcpuNum": 96
   },
   {
    "_defaultOrder": 47,
    "_isFastLaunch": false,
    "category": "Accelerated computing",
    "gpuNum": 1,
    "hideHardwareSpecs": false,
    "memoryGiB": 16,
    "name": "ml.g5.xlarge",
    "vcpuNum": 4
   },
   {
    "_defaultOrder": 48,
    "_isFastLaunch": false,
    "category": "Accelerated computing",
    "gpuNum": 1,
    "hideHardwareSpecs": false,
    "memoryGiB": 32,
    "name": "ml.g5.2xlarge",
    "vcpuNum": 8
   },
   {
    "_defaultOrder": 49,
    "_isFastLaunch": false,
    "category": "Accelerated computing",
    "gpuNum": 1,
    "hideHardwareSpecs": false,
    "memoryGiB": 64,
    "name": "ml.g5.4xlarge",
    "vcpuNum": 16
   },
   {
    "_defaultOrder": 50,
    "_isFastLaunch": false,
    "category": "Accelerated computing",
    "gpuNum": 1,
    "hideHardwareSpecs": false,
    "memoryGiB": 128,
    "name": "ml.g5.8xlarge",
    "vcpuNum": 32
   },
   {
    "_defaultOrder": 51,
    "_isFastLaunch": false,
    "category": "Accelerated computing",
    "gpuNum": 1,
    "hideHardwareSpecs": false,
    "memoryGiB": 256,
    "name": "ml.g5.16xlarge",
    "vcpuNum": 64
   },
   {
    "_defaultOrder": 52,
    "_isFastLaunch": false,
    "category": "Accelerated computing",
    "gpuNum": 4,
    "hideHardwareSpecs": false,
    "memoryGiB": 192,
    "name": "ml.g5.12xlarge",
    "vcpuNum": 48
   },
   {
    "_defaultOrder": 53,
    "_isFastLaunch": false,
    "category": "Accelerated computing",
    "gpuNum": 4,
    "hideHardwareSpecs": false,
    "memoryGiB": 384,
    "name": "ml.g5.24xlarge",
    "vcpuNum": 96
   },
   {
    "_defaultOrder": 54,
    "_isFastLaunch": false,
    "category": "Accelerated computing",
    "gpuNum": 8,
    "hideHardwareSpecs": false,
    "memoryGiB": 768,
    "name": "ml.g5.48xlarge",
    "vcpuNum": 192
   },
   {
    "_defaultOrder": 55,
    "_isFastLaunch": false,
    "category": "Accelerated computing",
    "gpuNum": 8,
    "hideHardwareSpecs": false,
    "memoryGiB": 1152,
    "name": "ml.p4d.24xlarge",
    "vcpuNum": 96
   },
   {
    "_defaultOrder": 56,
    "_isFastLaunch": false,
    "category": "Accelerated computing",
    "gpuNum": 8,
    "hideHardwareSpecs": false,
    "memoryGiB": 1152,
    "name": "ml.p4de.24xlarge",
    "vcpuNum": 96
   },
   {
    "_defaultOrder": 57,
    "_isFastLaunch": false,
    "category": "Accelerated computing",
    "gpuNum": 0,
    "hideHardwareSpecs": false,
    "memoryGiB": 32,
    "name": "ml.trn1.2xlarge",
    "vcpuNum": 8
   },
   {
    "_defaultOrder": 58,
    "_isFastLaunch": false,
    "category": "Accelerated computing",
    "gpuNum": 0,
    "hideHardwareSpecs": false,
    "memoryGiB": 512,
    "name": "ml.trn1.32xlarge",
    "vcpuNum": 128
   },
   {
    "_defaultOrder": 59,
    "_isFastLaunch": false,
    "category": "Accelerated computing",
    "gpuNum": 0,
    "hideHardwareSpecs": false,
    "memoryGiB": 512,
    "name": "ml.trn1n.32xlarge",
    "vcpuNum": 128
   }
  ],
  "colab": {
   "gpuType": "T4",
   "provenance": []
  },
  "instance_type": "ml.t3.medium",
  "kernelspec": {
   "display_name": "Python 3 (ipykernel)",
   "language": "python",
   "name": "python3"
  },
  "language_info": {
   "codemirror_mode": {
    "name": "ipython",
    "version": 3
   },
   "file_extension": ".py",
   "mimetype": "text/x-python",
   "name": "python",
   "nbconvert_exporter": "python",
   "pygments_lexer": "ipython3",
   "version": "3.11.11"
  },
  "widgets": {
   "application/vnd.jupyter.widget-state+json": {
    "0340a6352ece4d57a64f15a0444816c7": {
     "model_module": "@jupyter-widgets/controls",
     "model_module_version": "1.5.0",
     "model_name": "HTMLModel",
     "state": {
      "_dom_classes": [],
      "_model_module": "@jupyter-widgets/controls",
      "_model_module_version": "1.5.0",
      "_model_name": "HTMLModel",
      "_view_count": null,
      "_view_module": "@jupyter-widgets/controls",
      "_view_module_version": "1.5.0",
      "_view_name": "HTMLView",
      "description": "",
      "description_tooltip": null,
      "layout": "IPY_MODEL_a96989d7f8d747a59198266c43b7aed9",
      "placeholder": "​",
      "style": "IPY_MODEL_40eb861b98e243edb91d01066628cac8",
      "value": "Generating: 100%"
     }
    },
    "21c21f9c16594677b961ab188f04a86d": {
     "model_module": "@jupyter-widgets/controls",
     "model_module_version": "1.5.0",
     "model_name": "FloatProgressModel",
     "state": {
      "_dom_classes": [],
      "_model_module": "@jupyter-widgets/controls",
      "_model_module_version": "1.5.0",
      "_model_name": "FloatProgressModel",
      "_view_count": null,
      "_view_module": "@jupyter-widgets/controls",
      "_view_module_version": "1.5.0",
      "_view_name": "ProgressView",
      "bar_style": "success",
      "description": "",
      "description_tooltip": null,
      "layout": "IPY_MODEL_7b64c6c8248c44b9a0a3d9beef9c3a28",
      "max": 10,
      "min": 0,
      "orientation": "horizontal",
      "style": "IPY_MODEL_22fb4eefe3b34a009363aae2eb17c9d1",
      "value": 10
     }
    },
    "22fb4eefe3b34a009363aae2eb17c9d1": {
     "model_module": "@jupyter-widgets/controls",
     "model_module_version": "1.5.0",
     "model_name": "ProgressStyleModel",
     "state": {
      "_model_module": "@jupyter-widgets/controls",
      "_model_module_version": "1.5.0",
      "_model_name": "ProgressStyleModel",
      "_view_count": null,
      "_view_module": "@jupyter-widgets/base",
      "_view_module_version": "1.2.0",
      "_view_name": "StyleView",
      "bar_color": null,
      "description_width": ""
     }
    },
    "253725d015e14cc2b1f78ccf53e8673e": {
     "model_module": "@jupyter-widgets/controls",
     "model_module_version": "1.5.0",
     "model_name": "HTMLModel",
     "state": {
      "_dom_classes": [],
      "_model_module": "@jupyter-widgets/controls",
      "_model_module_version": "1.5.0",
      "_model_name": "HTMLModel",
      "_view_count": null,
      "_view_module": "@jupyter-widgets/controls",
      "_view_module_version": "1.5.0",
      "_view_name": "HTMLView",
      "description": "",
      "description_tooltip": null,
      "layout": "IPY_MODEL_4235b494c702431f9c6aff6bf7f9f40c",
      "placeholder": "​",
      "style": "IPY_MODEL_347a6731d4604045ae5f5090e5ccf530",
      "value": " 50/50 [00:00&lt;00:00, 104.72token/s]"
     }
    },
    "347a6731d4604045ae5f5090e5ccf530": {
     "model_module": "@jupyter-widgets/controls",
     "model_module_version": "1.5.0",
     "model_name": "DescriptionStyleModel",
     "state": {
      "_model_module": "@jupyter-widgets/controls",
      "_model_module_version": "1.5.0",
      "_model_name": "DescriptionStyleModel",
      "_view_count": null,
      "_view_module": "@jupyter-widgets/base",
      "_view_module_version": "1.2.0",
      "_view_name": "StyleView",
      "description_width": ""
     }
    },
    "36dd702117e547a2af2b68f322f26580": {
     "model_module": "@jupyter-widgets/controls",
     "model_module_version": "1.5.0",
     "model_name": "DescriptionStyleModel",
     "state": {
      "_model_module": "@jupyter-widgets/controls",
      "_model_module_version": "1.5.0",
      "_model_name": "DescriptionStyleModel",
      "_view_count": null,
      "_view_module": "@jupyter-widgets/base",
      "_view_module_version": "1.2.0",
      "_view_name": "StyleView",
      "description_width": ""
     }
    },
    "383355ef48ce401b91fb7f00848b17f4": {
     "model_module": "@jupyter-widgets/controls",
     "model_module_version": "1.5.0",
     "model_name": "DescriptionStyleModel",
     "state": {
      "_model_module": "@jupyter-widgets/controls",
      "_model_module_version": "1.5.0",
      "_model_name": "DescriptionStyleModel",
      "_view_count": null,
      "_view_module": "@jupyter-widgets/base",
      "_view_module_version": "1.2.0",
      "_view_name": "StyleView",
      "description_width": ""
     }
    },
    "3f894a8f2a7e4c5cb48ee11e34b98485": {
     "model_module": "@jupyter-widgets/controls",
     "model_module_version": "1.5.0",
     "model_name": "HTMLModel",
     "state": {
      "_dom_classes": [],
      "_model_module": "@jupyter-widgets/controls",
      "_model_module_version": "1.5.0",
      "_model_name": "HTMLModel",
      "_view_count": null,
      "_view_module": "@jupyter-widgets/controls",
      "_view_module_version": "1.5.0",
      "_view_name": "HTMLView",
      "description": "",
      "description_tooltip": null,
      "layout": "IPY_MODEL_fb5a946f89c3486e90c9ed9b503b2904",
      "placeholder": "​",
      "style": "IPY_MODEL_383355ef48ce401b91fb7f00848b17f4",
      "value": "Generating: 100%"
     }
    },
    "3fc62e2d21f24d21b22620302698507f": {
     "model_module": "@jupyter-widgets/base",
     "model_module_version": "1.2.0",
     "model_name": "LayoutModel",
     "state": {
      "_model_module": "@jupyter-widgets/base",
      "_model_module_version": "1.2.0",
      "_model_name": "LayoutModel",
      "_view_count": null,
      "_view_module": "@jupyter-widgets/base",
      "_view_module_version": "1.2.0",
      "_view_name": "LayoutView",
      "align_content": null,
      "align_items": null,
      "align_self": null,
      "border": null,
      "bottom": null,
      "display": null,
      "flex": null,
      "flex_flow": null,
      "grid_area": null,
      "grid_auto_columns": null,
      "grid_auto_flow": null,
      "grid_auto_rows": null,
      "grid_column": null,
      "grid_gap": null,
      "grid_row": null,
      "grid_template_areas": null,
      "grid_template_columns": null,
      "grid_template_rows": null,
      "height": null,
      "justify_content": null,
      "justify_items": null,
      "left": null,
      "margin": null,
      "max_height": null,
      "max_width": null,
      "min_height": null,
      "min_width": null,
      "object_fit": null,
      "object_position": null,
      "order": null,
      "overflow": null,
      "overflow_x": null,
      "overflow_y": null,
      "padding": null,
      "right": null,
      "top": null,
      "visibility": null,
      "width": null
     }
    },
    "3fe20f63240643ea8b24191b36f0621d": {
     "model_module": "@jupyter-widgets/controls",
     "model_module_version": "1.5.0",
     "model_name": "HTMLModel",
     "state": {
      "_dom_classes": [],
      "_model_module": "@jupyter-widgets/controls",
      "_model_module_version": "1.5.0",
      "_model_name": "HTMLModel",
      "_view_count": null,
      "_view_module": "@jupyter-widgets/controls",
      "_view_module_version": "1.5.0",
      "_view_name": "HTMLView",
      "description": "",
      "description_tooltip": null,
      "layout": "IPY_MODEL_dac99c6a9b09492a994a4a4b386d6fd0",
      "placeholder": "​",
      "style": "IPY_MODEL_36dd702117e547a2af2b68f322f26580",
      "value": " 10/10 [00:00&lt;00:00,  4.14token/s]"
     }
    },
    "40d2d689d5b04b26ba7edc276868d988": {
     "model_module": "@jupyter-widgets/controls",
     "model_module_version": "1.5.0",
     "model_name": "HBoxModel",
     "state": {
      "_dom_classes": [],
      "_model_module": "@jupyter-widgets/controls",
      "_model_module_version": "1.5.0",
      "_model_name": "HBoxModel",
      "_view_count": null,
      "_view_module": "@jupyter-widgets/controls",
      "_view_module_version": "1.5.0",
      "_view_name": "HBoxView",
      "box_style": "",
      "children": [
       "IPY_MODEL_0340a6352ece4d57a64f15a0444816c7",
       "IPY_MODEL_7185e966e86e44888d92b265b1eb9e0d",
       "IPY_MODEL_253725d015e14cc2b1f78ccf53e8673e"
      ],
      "layout": "IPY_MODEL_3fc62e2d21f24d21b22620302698507f"
     }
    },
    "40eb861b98e243edb91d01066628cac8": {
     "model_module": "@jupyter-widgets/controls",
     "model_module_version": "1.5.0",
     "model_name": "DescriptionStyleModel",
     "state": {
      "_model_module": "@jupyter-widgets/controls",
      "_model_module_version": "1.5.0",
      "_model_name": "DescriptionStyleModel",
      "_view_count": null,
      "_view_module": "@jupyter-widgets/base",
      "_view_module_version": "1.2.0",
      "_view_name": "StyleView",
      "description_width": ""
     }
    },
    "4235b494c702431f9c6aff6bf7f9f40c": {
     "model_module": "@jupyter-widgets/base",
     "model_module_version": "1.2.0",
     "model_name": "LayoutModel",
     "state": {
      "_model_module": "@jupyter-widgets/base",
      "_model_module_version": "1.2.0",
      "_model_name": "LayoutModel",
      "_view_count": null,
      "_view_module": "@jupyter-widgets/base",
      "_view_module_version": "1.2.0",
      "_view_name": "LayoutView",
      "align_content": null,
      "align_items": null,
      "align_self": null,
      "border": null,
      "bottom": null,
      "display": null,
      "flex": null,
      "flex_flow": null,
      "grid_area": null,
      "grid_auto_columns": null,
      "grid_auto_flow": null,
      "grid_auto_rows": null,
      "grid_column": null,
      "grid_gap": null,
      "grid_row": null,
      "grid_template_areas": null,
      "grid_template_columns": null,
      "grid_template_rows": null,
      "height": null,
      "justify_content": null,
      "justify_items": null,
      "left": null,
      "margin": null,
      "max_height": null,
      "max_width": null,
      "min_height": null,
      "min_width": null,
      "object_fit": null,
      "object_position": null,
      "order": null,
      "overflow": null,
      "overflow_x": null,
      "overflow_y": null,
      "padding": null,
      "right": null,
      "top": null,
      "visibility": null,
      "width": null
     }
    },
    "5f252d7fa2bb403880e5229406bae0e1": {
     "model_module": "@jupyter-widgets/base",
     "model_module_version": "1.2.0",
     "model_name": "LayoutModel",
     "state": {
      "_model_module": "@jupyter-widgets/base",
      "_model_module_version": "1.2.0",
      "_model_name": "LayoutModel",
      "_view_count": null,
      "_view_module": "@jupyter-widgets/base",
      "_view_module_version": "1.2.0",
      "_view_name": "LayoutView",
      "align_content": null,
      "align_items": null,
      "align_self": null,
      "border": null,
      "bottom": null,
      "display": null,
      "flex": null,
      "flex_flow": null,
      "grid_area": null,
      "grid_auto_columns": null,
      "grid_auto_flow": null,
      "grid_auto_rows": null,
      "grid_column": null,
      "grid_gap": null,
      "grid_row": null,
      "grid_template_areas": null,
      "grid_template_columns": null,
      "grid_template_rows": null,
      "height": null,
      "justify_content": null,
      "justify_items": null,
      "left": null,
      "margin": null,
      "max_height": null,
      "max_width": null,
      "min_height": null,
      "min_width": null,
      "object_fit": null,
      "object_position": null,
      "order": null,
      "overflow": null,
      "overflow_x": null,
      "overflow_y": null,
      "padding": null,
      "right": null,
      "top": null,
      "visibility": null,
      "width": null
     }
    },
    "7185e966e86e44888d92b265b1eb9e0d": {
     "model_module": "@jupyter-widgets/controls",
     "model_module_version": "1.5.0",
     "model_name": "FloatProgressModel",
     "state": {
      "_dom_classes": [],
      "_model_module": "@jupyter-widgets/controls",
      "_model_module_version": "1.5.0",
      "_model_name": "FloatProgressModel",
      "_view_count": null,
      "_view_module": "@jupyter-widgets/controls",
      "_view_module_version": "1.5.0",
      "_view_name": "ProgressView",
      "bar_style": "success",
      "description": "",
      "description_tooltip": null,
      "layout": "IPY_MODEL_c40f9b39565045c78aea18880d55139a",
      "max": 50,
      "min": 0,
      "orientation": "horizontal",
      "style": "IPY_MODEL_8f4139472f57439f8da3ce3bfa956bbe",
      "value": 50
     }
    },
    "7b64c6c8248c44b9a0a3d9beef9c3a28": {
     "model_module": "@jupyter-widgets/base",
     "model_module_version": "1.2.0",
     "model_name": "LayoutModel",
     "state": {
      "_model_module": "@jupyter-widgets/base",
      "_model_module_version": "1.2.0",
      "_model_name": "LayoutModel",
      "_view_count": null,
      "_view_module": "@jupyter-widgets/base",
      "_view_module_version": "1.2.0",
      "_view_name": "LayoutView",
      "align_content": null,
      "align_items": null,
      "align_self": null,
      "border": null,
      "bottom": null,
      "display": null,
      "flex": null,
      "flex_flow": null,
      "grid_area": null,
      "grid_auto_columns": null,
      "grid_auto_flow": null,
      "grid_auto_rows": null,
      "grid_column": null,
      "grid_gap": null,
      "grid_row": null,
      "grid_template_areas": null,
      "grid_template_columns": null,
      "grid_template_rows": null,
      "height": null,
      "justify_content": null,
      "justify_items": null,
      "left": null,
      "margin": null,
      "max_height": null,
      "max_width": null,
      "min_height": null,
      "min_width": null,
      "object_fit": null,
      "object_position": null,
      "order": null,
      "overflow": null,
      "overflow_x": null,
      "overflow_y": null,
      "padding": null,
      "right": null,
      "top": null,
      "visibility": null,
      "width": null
     }
    },
    "8f4139472f57439f8da3ce3bfa956bbe": {
     "model_module": "@jupyter-widgets/controls",
     "model_module_version": "1.5.0",
     "model_name": "ProgressStyleModel",
     "state": {
      "_model_module": "@jupyter-widgets/controls",
      "_model_module_version": "1.5.0",
      "_model_name": "ProgressStyleModel",
      "_view_count": null,
      "_view_module": "@jupyter-widgets/base",
      "_view_module_version": "1.2.0",
      "_view_name": "StyleView",
      "bar_color": null,
      "description_width": ""
     }
    },
    "a96989d7f8d747a59198266c43b7aed9": {
     "model_module": "@jupyter-widgets/base",
     "model_module_version": "1.2.0",
     "model_name": "LayoutModel",
     "state": {
      "_model_module": "@jupyter-widgets/base",
      "_model_module_version": "1.2.0",
      "_model_name": "LayoutModel",
      "_view_count": null,
      "_view_module": "@jupyter-widgets/base",
      "_view_module_version": "1.2.0",
      "_view_name": "LayoutView",
      "align_content": null,
      "align_items": null,
      "align_self": null,
      "border": null,
      "bottom": null,
      "display": null,
      "flex": null,
      "flex_flow": null,
      "grid_area": null,
      "grid_auto_columns": null,
      "grid_auto_flow": null,
      "grid_auto_rows": null,
      "grid_column": null,
      "grid_gap": null,
      "grid_row": null,
      "grid_template_areas": null,
      "grid_template_columns": null,
      "grid_template_rows": null,
      "height": null,
      "justify_content": null,
      "justify_items": null,
      "left": null,
      "margin": null,
      "max_height": null,
      "max_width": null,
      "min_height": null,
      "min_width": null,
      "object_fit": null,
      "object_position": null,
      "order": null,
      "overflow": null,
      "overflow_x": null,
      "overflow_y": null,
      "padding": null,
      "right": null,
      "top": null,
      "visibility": null,
      "width": null
     }
    },
    "bf9f492bd7e94cb99eb668b15a9bec37": {
     "model_module": "@jupyter-widgets/controls",
     "model_module_version": "1.5.0",
     "model_name": "HBoxModel",
     "state": {
      "_dom_classes": [],
      "_model_module": "@jupyter-widgets/controls",
      "_model_module_version": "1.5.0",
      "_model_name": "HBoxModel",
      "_view_count": null,
      "_view_module": "@jupyter-widgets/controls",
      "_view_module_version": "1.5.0",
      "_view_name": "HBoxView",
      "box_style": "",
      "children": [
       "IPY_MODEL_3f894a8f2a7e4c5cb48ee11e34b98485",
       "IPY_MODEL_21c21f9c16594677b961ab188f04a86d",
       "IPY_MODEL_3fe20f63240643ea8b24191b36f0621d"
      ],
      "layout": "IPY_MODEL_5f252d7fa2bb403880e5229406bae0e1"
     }
    },
    "c40f9b39565045c78aea18880d55139a": {
     "model_module": "@jupyter-widgets/base",
     "model_module_version": "1.2.0",
     "model_name": "LayoutModel",
     "state": {
      "_model_module": "@jupyter-widgets/base",
      "_model_module_version": "1.2.0",
      "_model_name": "LayoutModel",
      "_view_count": null,
      "_view_module": "@jupyter-widgets/base",
      "_view_module_version": "1.2.0",
      "_view_name": "LayoutView",
      "align_content": null,
      "align_items": null,
      "align_self": null,
      "border": null,
      "bottom": null,
      "display": null,
      "flex": null,
      "flex_flow": null,
      "grid_area": null,
      "grid_auto_columns": null,
      "grid_auto_flow": null,
      "grid_auto_rows": null,
      "grid_column": null,
      "grid_gap": null,
      "grid_row": null,
      "grid_template_areas": null,
      "grid_template_columns": null,
      "grid_template_rows": null,
      "height": null,
      "justify_content": null,
      "justify_items": null,
      "left": null,
      "margin": null,
      "max_height": null,
      "max_width": null,
      "min_height": null,
      "min_width": null,
      "object_fit": null,
      "object_position": null,
      "order": null,
      "overflow": null,
      "overflow_x": null,
      "overflow_y": null,
      "padding": null,
      "right": null,
      "top": null,
      "visibility": null,
      "width": null
     }
    },
    "dac99c6a9b09492a994a4a4b386d6fd0": {
     "model_module": "@jupyter-widgets/base",
     "model_module_version": "1.2.0",
     "model_name": "LayoutModel",
     "state": {
      "_model_module": "@jupyter-widgets/base",
      "_model_module_version": "1.2.0",
      "_model_name": "LayoutModel",
      "_view_count": null,
      "_view_module": "@jupyter-widgets/base",
      "_view_module_version": "1.2.0",
      "_view_name": "LayoutView",
      "align_content": null,
      "align_items": null,
      "align_self": null,
      "border": null,
      "bottom": null,
      "display": null,
      "flex": null,
      "flex_flow": null,
      "grid_area": null,
      "grid_auto_columns": null,
      "grid_auto_flow": null,
      "grid_auto_rows": null,
      "grid_column": null,
      "grid_gap": null,
      "grid_row": null,
      "grid_template_areas": null,
      "grid_template_columns": null,
      "grid_template_rows": null,
      "height": null,
      "justify_content": null,
      "justify_items": null,
      "left": null,
      "margin": null,
      "max_height": null,
      "max_width": null,
      "min_height": null,
      "min_width": null,
      "object_fit": null,
      "object_position": null,
      "order": null,
      "overflow": null,
      "overflow_x": null,
      "overflow_y": null,
      "padding": null,
      "right": null,
      "top": null,
      "visibility": null,
      "width": null
     }
    },
    "fb5a946f89c3486e90c9ed9b503b2904": {
     "model_module": "@jupyter-widgets/base",
     "model_module_version": "1.2.0",
     "model_name": "LayoutModel",
     "state": {
      "_model_module": "@jupyter-widgets/base",
      "_model_module_version": "1.2.0",
      "_model_name": "LayoutModel",
      "_view_count": null,
      "_view_module": "@jupyter-widgets/base",
      "_view_module_version": "1.2.0",
      "_view_name": "LayoutView",
      "align_content": null,
      "align_items": null,
      "align_self": null,
      "border": null,
      "bottom": null,
      "display": null,
      "flex": null,
      "flex_flow": null,
      "grid_area": null,
      "grid_auto_columns": null,
      "grid_auto_flow": null,
      "grid_auto_rows": null,
      "grid_column": null,
      "grid_gap": null,
      "grid_row": null,
      "grid_template_areas": null,
      "grid_template_columns": null,
      "grid_template_rows": null,
      "height": null,
      "justify_content": null,
      "justify_items": null,
      "left": null,
      "margin": null,
      "max_height": null,
      "max_width": null,
      "min_height": null,
      "min_width": null,
      "object_fit": null,
      "object_position": null,
      "order": null,
      "overflow": null,
      "overflow_x": null,
      "overflow_y": null,
      "padding": null,
      "right": null,
      "top": null,
      "visibility": null,
      "width": null
     }
    }
   }
  }
 },
 "nbformat": 4,
 "nbformat_minor": 4
}
