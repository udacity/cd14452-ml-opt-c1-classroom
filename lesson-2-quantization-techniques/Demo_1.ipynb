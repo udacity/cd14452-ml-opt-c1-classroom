{
 "cells": [
  {
   "cell_type": "markdown",
   "id": "953202e5-05ab-41f3-bc8d-66d15b626a78",
   "metadata": {},
   "source": [
    "# Part 1"
   ]
  },
  {
   "cell_type": "code",
   "execution_count": 1,
   "id": "4ec4f653-dc32-46e1-b3a2-6e3c3496f30b",
   "metadata": {},
   "outputs": [
    {
     "name": "stderr",
     "output_type": "stream",
     "text": [
      "2025-08-31 19:49:33.114781: I tensorflow/core/util/port.cc:153] oneDNN custom operations are on. You may see slightly different numerical results due to floating-point round-off errors from different computation orders. To turn them off, set the environment variable `TF_ENABLE_ONEDNN_OPTS=0`.\n",
      "2025-08-31 19:49:33.128764: E external/local_xla/xla/stream_executor/cuda/cuda_fft.cc:485] Unable to register cuFFT factory: Attempting to register factory for plugin cuFFT when one has already been registered\n",
      "2025-08-31 19:49:33.146588: E external/local_xla/xla/stream_executor/cuda/cuda_dnn.cc:8454] Unable to register cuDNN factory: Attempting to register factory for plugin cuDNN when one has already been registered\n",
      "2025-08-31 19:49:33.151886: E external/local_xla/xla/stream_executor/cuda/cuda_blas.cc:1452] Unable to register cuBLAS factory: Attempting to register factory for plugin cuBLAS when one has already been registered\n",
      "2025-08-31 19:49:33.164321: I tensorflow/core/platform/cpu_feature_guard.cc:210] This TensorFlow binary is optimized to use available CPU instructions in performance-critical operations.\n",
      "To enable the following instructions: SSE4.1 SSE4.2 AVX AVX2 AVX512F AVX512_VNNI FMA, in other operations, rebuild TensorFlow with the appropriate compiler flags.\n"
     ]
    }
   ],
   "source": [
    "import os, shutil, time, math, gc, tempfile, json, contextlib\n",
    "from dataclasses import dataclass\n",
    "\n",
    "import torch\n",
    "from transformers import AutoTokenizer, AutoModelForCausalLM\n",
    "from datasets import load_dataset\n",
    "\n",
    "# Optimum (Quanto) for post-training quantization (static, weight-only int8)\n",
    "from optimum.quanto import quantize, freeze, qint8\n",
    "\n",
    "MODEL_ID = \"TinyLlama/TinyLlama-1.1B-Chat-v1.0\"\n",
    "DEVICE   = \"cuda\" if torch.cuda.is_available() else \"cpu\"\n",
    "SEED     = 42\n",
    "\n",
    "torch.manual_seed(SEED)\n",
    "if DEVICE == \"cuda\":\n",
    "    torch.cuda.manual_seed_all(SEED)\n"
   ]
  },
  {
   "cell_type": "code",
   "execution_count": 2,
   "id": "8f7f7c8a-7645-44b8-9146-e25bdc62fd11",
   "metadata": {},
   "outputs": [],
   "source": [
    "# --- 1) Utilities -------------------------------------------------------------\n",
    "def dir_size_mb(path: str) -> float:\n",
    "    total = 0\n",
    "    for root, _, files in os.walk(path):\n",
    "        for f in files:\n",
    "            total += os.path.getsize(os.path.join(root, f))\n",
    "    return total / (1024**2)"
   ]
  },
  {
   "cell_type": "code",
   "execution_count": 3,
   "id": "e5f3f6f4-ab44-41af-916c-a4ad5481a270",
   "metadata": {},
   "outputs": [],
   "source": [
    "@contextlib.contextmanager\n",
    "def torch_cuda_monitor():\n",
    "    \"\"\"Context manager to measure peak GPU memory in MB.\"\"\"\n",
    "    if DEVICE == \"cuda\":\n",
    "        torch.cuda.reset_peak_memory_stats()\n",
    "        torch.cuda.synchronize()\n",
    "        start_alloc = torch.cuda.memory_allocated()\n",
    "        try:\n",
    "            yield\n",
    "        finally:\n",
    "            torch.cuda.synchronize()\n",
    "            peak = torch.cuda.max_memory_allocated()\n",
    "            torch.cuda.empty_cache()\n",
    "            # return values indirectly by storing on the function object\n",
    "            torch_cuda_monitor.peak_mb = peak / (1024**2)\n",
    "            torch_cuda_monitor.start_mb = start_alloc / (1024**2)\n",
    "    else:\n",
    "        try:\n",
    "            yield\n",
    "        finally:\n",
    "            torch_cuda_monitor.peak_mb = 0.0\n",
    "            torch_cuda_monitor.start_mb = 0.0\n"
   ]
  },
  {
   "cell_type": "code",
   "execution_count": 4,
   "id": "09cf124e-9e5d-4f87-8aa3-3a3254f3e3e3",
   "metadata": {},
   "outputs": [],
   "source": [
    "@dataclass\n",
    "class GenMetrics:\n",
    "    latency_s: float\n",
    "    tokens_per_sec: float\n",
    "    peak_gpu_mem_mb: float"
   ]
  },
  {
   "cell_type": "code",
   "execution_count": 5,
   "id": "cc104801-a488-487d-8f5d-d2d1229c320a",
   "metadata": {},
   "outputs": [],
   "source": [
    "def measure_generate(model, tokenizer, prompt: str, max_new_tokens=64, runs=3) -> GenMetrics:\n",
    "    \"\"\"Measure latency, throughput, and peak GPU memory for text generation.\"\"\"\n",
    "    model.eval()\n",
    "    inputs = tokenizer(prompt, return_tensors=\"pt\")\n",
    "    inputs = {k: v.to(DEVICE) for k, v in inputs.items()}\n",
    "    input_len = inputs[\"input_ids\"].shape[1]\n",
    "\n",
    "    # Warmup\n",
    "    with torch.inference_mode():\n",
    "        _ = model.generate(**inputs, max_new_tokens=8, do_sample=False, use_cache=True)\n",
    "\n",
    "    latencies, tps = [], []\n",
    "    with torch_cuda_monitor():\n",
    "        for _ in range(runs):\n",
    "            if DEVICE == \"cuda\":\n",
    "                torch.cuda.synchronize()\n",
    "            t0 = time.perf_counter()\n",
    "            with torch.inference_mode():\n",
    "                out = model.generate(**inputs, max_new_tokens=max_new_tokens, do_sample=False, use_cache=True)\n",
    "            if DEVICE == \"cuda\":\n",
    "                torch.cuda.synchronize()\n",
    "            t1 = time.perf_counter()\n",
    "\n",
    "            gen_len = out.shape[1] - input_len\n",
    "            lat = t1 - t0\n",
    "            latencies.append(lat)\n",
    "            tps.append(gen_len / lat if lat > 0 else float(\"nan\"))\n",
    "\n",
    "    return GenMetrics(\n",
    "        latency_s=sum(latencies)/len(latencies),\n",
    "        tokens_per_sec=sum(tps)/len(tps),\n",
    "        peak_gpu_mem_mb=getattr(torch_cuda_monitor, \"peak_mb\", 0.0),\n",
    "    )"
   ]
  },
  {
   "cell_type": "code",
   "execution_count": 6,
   "id": "8100b7cb-8fc1-4608-abc5-c04aa4c63a33",
   "metadata": {},
   "outputs": [],
   "source": [
    "@torch.no_grad()\n",
    "def compute_perplexity(model, tokenizer, seq_len=128) -> float:\n",
    "    \"\"\"\n",
    "    Self-contained perplexity estimate using a small built-in eval text.\n",
    "    Keeps evaluation light but still allows FP32 vs INT8 comparison.\n",
    "    \"\"\"\n",
    "    eval_text = (\n",
    "        \"Quantization reduces the precision of neural network weights and activations. \"\n",
    "        \"This process shrinks model size, lowers memory use, and can speed up inference. \"\n",
    "        \"The tradeoff is a small drop in accuracy. \"\n",
    "        \"Perplexity measures how well a language model predicts text: \"\n",
    "        \"a lower perplexity means the model is more confident in its predictions. \"\n",
    "        \"Large language models like LLaMA or TinyLlama are evaluated on benchmarks such as WikiText, \"\n",
    "        \"where perplexity is calculated over thousands of tokens. \"\n",
    "        \"In practice, we only need a small text sample to compare relative changes. \"\n",
    "        \"By quantizing a model to 8-bit, we can observe whether perplexity increases significantly. \"\n",
    "        \"If the rise is modest while speed and memory improve, quantization is usually a good trade-off. \"\n",
    "        \"This evaluation text is deliberately extended to ensure enough tokens for testing.\"\n",
    "    )\n",
    "\n",
    "    enc = tokenizer(eval_text, return_tensors=\"pt\")\n",
    "    input_ids = enc[\"input_ids\"][0]\n",
    "\n",
    "    usable = (len(input_ids) // seq_len) * seq_len\n",
    "    input_ids = input_ids[:usable + 1]\n",
    "    if len(input_ids) <= seq_len:\n",
    "        raise ValueError(\"Not enough tokens for perplexity calculation. Try reducing seq_len.\")\n",
    "\n",
    "    nll_sum, tok_count = 0.0, 0\n",
    "    model.eval()\n",
    "\n",
    "    for start in range(0, len(input_ids) - 1 - seq_len, seq_len):\n",
    "        chunk = input_ids[start:start+seq_len+1]\n",
    "        inp = chunk[:-1].unsqueeze(0).to(DEVICE)\n",
    "        labels = chunk[1:].unsqueeze(0).to(DEVICE)\n",
    "\n",
    "        out = model(input_ids=inp, labels=labels)\n",
    "        nll_sum += float(out.loss) * labels.numel()\n",
    "        tok_count += labels.numel()\n",
    "\n",
    "    return math.exp(nll_sum / max(1, tok_count))"
   ]
  },
  {
   "cell_type": "code",
   "execution_count": 7,
   "id": "ed8600e2-772c-4fd3-a35e-10b51d247f4c",
   "metadata": {},
   "outputs": [],
   "source": [
    "def save_and_size(model, tokenizer, out_dir: str) -> float:\n",
    "    if os.path.exists(out_dir):\n",
    "        shutil.rmtree(out_dir)\n",
    "    os.makedirs(out_dir, exist_ok=True)\n",
    "    tokenizer.save_pretrained(out_dir)\n",
    "    model.save_pretrained(out_dir, safe_serialization=True)\n",
    "    return dir_size_mb(out_dir)"
   ]
  },
  {
   "cell_type": "code",
   "execution_count": 8,
   "id": "ea589669-30ec-4f20-809a-67981d4e01b7",
   "metadata": {},
   "outputs": [],
   "source": [
    "def print_row(title, size_mb, lat_s, tps, gpu_mb, ppl):\n",
    "    print(\n",
    "        f\"{title:18s} | Size: {size_mb:8.1f} MB | Latency: {lat_s:7.3f} s | \"\n",
    "        f\"Throughput: {tps:7.2f} tok/s | Peak VRAM: {gpu_mb:7.1f} MB | PPL: {ppl:7.2f}\"\n",
    "    )"
   ]
  },
  {
   "cell_type": "code",
   "execution_count": 9,
   "id": "eb783181-a538-4435-b5d9-bd4a7020a092",
   "metadata": {},
   "outputs": [],
   "source": [
    "# --- 2) Load tokenizer --------------------------------------------------------\n",
    "tokenizer = AutoTokenizer.from_pretrained(MODEL_ID, use_fast=True)\n",
    "# Some chat models have no pad token; make generation/perplexity robust:\n",
    "if tokenizer.pad_token_id is None:\n",
    "    tokenizer.pad_token_id = tokenizer.eos_token_id"
   ]
  },
  {
   "cell_type": "code",
   "execution_count": 10,
   "id": "ca49638d-435b-4537-a677-86261d780471",
   "metadata": {},
   "outputs": [
    {
     "name": "stdout",
     "output_type": "stream",
     "text": [
      "\n",
      "== Baseline FP32 ==\n",
      "FP32 (baseline)    | Size:   4200.3 MB | Latency:   2.644 s | Throughput:   48.42 tok/s | Peak VRAM:  4212.9 MB | PPL:    1.00\n"
     ]
    }
   ],
   "source": [
    "# --- 3) Baseline: FP32 --------------------------------------------------------\n",
    "print(\"\\n== Baseline FP32 ==\")\n",
    "baseline_model = AutoModelForCausalLM.from_pretrained(\n",
    "    MODEL_ID,\n",
    "    torch_dtype=torch.float32,\n",
    "    low_cpu_mem_usage=True,\n",
    ")\n",
    "baseline_model.to(DEVICE)\n",
    "\n",
    "baseline_size_mb = save_and_size(baseline_model, tokenizer, out_dir=\"tinyllama_fp32\")\n",
    "baseline_gen = measure_generate(\n",
    "    baseline_model,\n",
    "    tokenizer,\n",
    "    prompt=\"Explain quantization in one paragraph for ML engineers.\",\n",
    "    max_new_tokens=128,\n",
    "    runs=3,\n",
    ")\n",
    "baseline_ppl = compute_perplexity(baseline_model, tokenizer, seq_len=128)\n",
    "\n",
    "print_row(\"FP32 (baseline)\", baseline_size_mb, baseline_gen.latency_s, baseline_gen.tokens_per_sec,\n",
    "          baseline_gen.peak_gpu_mem_mb, baseline_ppl)"
   ]
  },
  {
   "cell_type": "code",
   "execution_count": 11,
   "id": "41bd6114-154f-4ea8-896c-b6f28d278ac2",
   "metadata": {},
   "outputs": [
    {
     "name": "stdout",
     "output_type": "stream",
     "text": [
      "\n",
      "== PTQ INT8 (Optimum-Quanto, weight-only) ==\n",
      "INT8 (Quanto)      | Size:   1242.5 MB | Latency:   6.658 s | Throughput:   19.23 tok/s | Peak VRAM:  5765.4 MB | PPL:    1.00\n"
     ]
    }
   ],
   "source": [
    "# --- 4) Post-Training Quantization: 8-bit (static, weight-only) --------------\n",
    "# Fresh load in FP32, then quantize weights to int8 via Optimum-Quanto.\n",
    "print(\"\\n== PTQ INT8 (Optimum-Quanto, weight-only) ==\")\n",
    "q_model = AutoModelForCausalLM.from_pretrained(\n",
    "    MODEL_ID,\n",
    "    torch_dtype=torch.float32,\n",
    "    low_cpu_mem_usage=True,\n",
    ")\n",
    "\n",
    "# Static PTQ (weight-only): no calibration set required.\n",
    "# This converts Linear weights to int8-packed format and wires quant/dequant where needed.\n",
    "quantize(q_model, weights=qint8)\n",
    "freeze(q_model)               # finalize quantization graphs / params\n",
    "q_model.to(DEVICE)\n",
    "\n",
    "q_size_mb = save_and_size(q_model, tokenizer, out_dir=\"tinyllama_int8_quanto\")\n",
    "\n",
    "q_gen = measure_generate(\n",
    "    q_model,\n",
    "    tokenizer,\n",
    "    prompt=\"Explain quantization in one paragraph for ML engineers.\",\n",
    "    max_new_tokens=128,\n",
    "    runs=3,\n",
    ")\n",
    "q_ppl = compute_perplexity(q_model, tokenizer, seq_len=128)\n",
    "\n",
    "print_row(\"INT8 (Quanto)\", q_size_mb, q_gen.latency_s, q_gen.tokens_per_sec, q_gen.peak_gpu_mem_mb, q_ppl)\n"
   ]
  },
  {
   "cell_type": "code",
   "execution_count": 12,
   "id": "bcd0af01-42ac-42f6-a745-69f5669f918b",
   "metadata": {},
   "outputs": [
    {
     "name": "stdout",
     "output_type": "stream",
     "text": [
      "\n",
      "Saved summary -> ptq_tinyllama_summary.json\n"
     ]
    }
   ],
   "source": [
    "# --- 5) Summary JSON (optional) ----------------------------------------------\n",
    "summary = {\n",
    "    \"device\": DEVICE,\n",
    "    \"model\": MODEL_ID,\n",
    "    \"seed\": SEED,\n",
    "    \"baseline_fp32\": {\n",
    "        \"size_mb\": baseline_size_mb,\n",
    "        \"latency_s\": baseline_gen.latency_s,\n",
    "        \"tokens_per_sec\": baseline_gen.tokens_per_sec,\n",
    "        \"peak_gpu_mem_mb\": baseline_gen.peak_gpu_mem_mb,\n",
    "        \"perplexity\": baseline_ppl,\n",
    "    },\n",
    "    \"int8_quanto\": {\n",
    "        \"size_mb\": q_size_mb,\n",
    "        \"latency_s\": q_gen.latency_s,\n",
    "        \"tokens_per_sec\": q_gen.tokens_per_sec,\n",
    "        \"peak_gpu_mem_mb\": q_gen.peak_gpu_mem_mb,\n",
    "        \"perplexity\": q_ppl,\n",
    "    },\n",
    "}\n",
    "with open(\"ptq_tinyllama_summary.json\", \"w\") as f:\n",
    "    json.dump(summary, f, indent=2)\n",
    "\n",
    "print(\"\\nSaved summary -> ptq_tinyllama_summary.json\")\n"
   ]
  },
  {
   "cell_type": "code",
   "execution_count": null,
   "id": "4c945bd5-a1be-44c3-a869-73bd852985c7",
   "metadata": {},
   "outputs": [],
   "source": [
    "summary"
   ]
  },
  {
   "cell_type": "markdown",
   "id": "1a739eff-c363-43d0-8b42-9dc81b1caf25",
   "metadata": {},
   "source": [
    "# Part 2"
   ]
  },
  {
   "cell_type": "code",
   "execution_count": 13,
   "id": "72e5aca4-569f-4749-bac1-ee30703eae2d",
   "metadata": {},
   "outputs": [],
   "source": [
    "import os, time\n",
    "import torch\n",
    "from transformers import AutoTokenizer, AutoModelForCausalLM\n",
    "from torch.ao.quantization import quantize_dynamic"
   ]
  },
  {
   "cell_type": "code",
   "execution_count": 14,
   "id": "20f98e74-4215-4169-ae85-c362bf4d0794",
   "metadata": {},
   "outputs": [],
   "source": [
    "# -----------------------------\n",
    "# Config (CPU-only demo)\n",
    "# -----------------------------\n",
    "MODEL_ID = \"TinyLlama/TinyLlama-1.1B-Chat-v1.0\"  # swap to \"sshleifer/tiny-gpt2\" if CPU is tight\n",
    "DEVICE = \"cpu\"\n",
    "MAX_NEW_TOKENS = 128\n",
    "RUNS = 3\n",
    "PROMPT = \"Quantization test: explain why int8 dynamic quantization can be faster on CPU.\"\n",
    "\n",
    "torch.set_grad_enabled(False)\n",
    "torch.set_num_threads(max(1, os.cpu_count() or 1))  # let PyTorch use available cores"
   ]
  },
  {
   "cell_type": "code",
   "execution_count": 15,
   "id": "a9cca988-f1cf-42a2-82dc-d748b8d68732",
   "metadata": {},
   "outputs": [],
   "source": [
    "def measure_generate(model, tokenizer, prompt=PROMPT, max_new_tokens=MAX_NEW_TOKENS, runs=RUNS):\n",
    "    model.eval()\n",
    "    tokenizer.padding_side = \"left\"\n",
    "    enc = tokenizer(prompt, return_tensors=\"pt\").to(DEVICE)\n",
    "\n",
    "    # Warmup\n",
    "    with torch.inference_mode():\n",
    "        _ = model.generate(**enc, max_new_tokens=8, use_cache=True)\n",
    "\n",
    "    latencies, throughputs = [], []\n",
    "    for _ in range(runs):\n",
    "        t0 = time.perf_counter()\n",
    "        with torch.inference_mode():\n",
    "            out = model.generate(**enc, max_new_tokens=max_new_tokens, use_cache=True)\n",
    "        t1 = time.perf_counter()\n",
    "        gen_len = out.shape[1] - enc[\"input_ids\"].shape[1]\n",
    "        lat = t1 - t0\n",
    "        latencies.append(lat)\n",
    "        throughputs.append(gen_len / lat)\n",
    "\n",
    "    return sum(latencies)/len(latencies), sum(throughputs)/len(throughputs)"
   ]
  },
  {
   "cell_type": "code",
   "execution_count": 16,
   "id": "95fafbda-0c09-4064-b6d7-2728690d787c",
   "metadata": {},
   "outputs": [],
   "source": [
    "# -----------------------------\n",
    "# Tokenizer (shared)\n",
    "# -----------------------------\n",
    "tok = AutoTokenizer.from_pretrained(MODEL_ID, use_fast=True)\n",
    "if tok.pad_token_id is None:\n",
    "    tok.pad_token_id = tok.eos_token_id\n"
   ]
  },
  {
   "cell_type": "code",
   "execution_count": 17,
   "id": "924f702c-4cbe-4a64-b890-a3175af2f75d",
   "metadata": {},
   "outputs": [
    {
     "name": "stdout",
     "output_type": "stream",
     "text": [
      "== CPU FP32 Baseline ==\n",
      "FP32 (CPU) | Latency 0.611s | Throughput 1.66 tok/s\n"
     ]
    }
   ],
   "source": [
    "# -----------------------------\n",
    "# Baseline: FP32 on CPU\n",
    "# -----------------------------\n",
    "print(\"== CPU FP32 Baseline ==\")\n",
    "model_fp32 = AutoModelForCausalLM.from_pretrained(MODEL_ID, torch_dtype=torch.float32).to(DEVICE).eval()\n",
    "model_fp32.config.use_cache = True\n",
    "\n",
    "lat_fp32, tps_fp32 = measure_generate(model_fp32, tok)\n",
    "print(f\"FP32 (CPU) | Latency {lat_fp32:.3f}s | Throughput {tps_fp32:.2f} tok/s\")"
   ]
  },
  {
   "cell_type": "code",
   "execution_count": 18,
   "id": "8b3c98f8-c8e7-43be-bb4f-e6149602ffe2",
   "metadata": {},
   "outputs": [],
   "source": [
    "# -----------------------------\n",
    "# Quantized: INT8 dynamic (CPU)\n",
    "# -----------------------------\n",
    "# Quantize only Linear layers to int8 (native PyTorch). This is weight-only int8 + dynamic activation quant.\n",
    "model_int8 = quantize_dynamic(\n",
    "    model_fp32.cpu(),\n",
    "    {torch.nn.Linear},\n",
    "    dtype=torch.qint8\n",
    ").eval()\n",
    "# (Optional) free original object to reduce memory\n",
    "del model_fp32\n"
   ]
  },
  {
   "cell_type": "code",
   "execution_count": 19,
   "id": "2c0ced22-a4a4-4678-a05a-9894682ea773",
   "metadata": {},
   "outputs": [
    {
     "name": "stdout",
     "output_type": "stream",
     "text": [
      "\n",
      "== Summary ==\n",
      "CPU FP32 latency: 0.611s | CPU INT8 latency: 0.220s | Speedup: 2.78x\n",
      "CPU FP32 tput:   1.66 tok/s | CPU INT8 tput:   4.55 tok/s\n"
     ]
    }
   ],
   "source": [
    "# -----------------------------\n",
    "# Summary\n",
    "# -----------------------------\n",
    "lat_int8, tps_int8 = measure_generate(model_int8, tok)\n",
    "speedup = lat_fp32 / lat_int8 if lat_int8 > 0 else float(\"inf\")\n",
    "\n",
    "\n",
    "print(\"\\n== Summary ==\")\n",
    "print(f\"CPU FP32 latency: {lat_fp32:.3f}s | CPU INT8 latency: {lat_int8:.3f}s | Speedup: {speedup:.2f}x\")\n",
    "print(f\"CPU FP32 tput:   {tps_fp32:.2f} tok/s | CPU INT8 tput:   {tps_int8:.2f} tok/s\")\n"
   ]
  },
  {
   "cell_type": "code",
   "execution_count": null,
   "id": "ef8df066-22a2-4194-9ecf-895cc60a112d",
   "metadata": {},
   "outputs": [],
   "source": []
  },
  {
   "cell_type": "code",
   "execution_count": null,
   "id": "280de51d-067e-4755-8c2f-4640c1adf542",
   "metadata": {},
   "outputs": [],
   "source": []
  },
  {
   "cell_type": "code",
   "execution_count": null,
   "id": "5895b706-8118-4307-9fa6-bfc17f5492a9",
   "metadata": {},
   "outputs": [],
   "source": []
  }
 ],
 "metadata": {
  "kernelspec": {
   "display_name": "Python 3 (ipykernel)",
   "language": "python",
   "name": "python3"
  },
  "language_info": {
   "codemirror_mode": {
    "name": "ipython",
    "version": 3
   },
   "file_extension": ".py",
   "mimetype": "text/x-python",
   "name": "python",
   "nbconvert_exporter": "python",
   "pygments_lexer": "ipython3",
   "version": "3.11.11"
  }
 },
 "nbformat": 4,
 "nbformat_minor": 5
}
