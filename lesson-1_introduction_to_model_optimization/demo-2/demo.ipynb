{
 "cells": [
  {
   "cell_type": "markdown",
   "id": "82f91b76",
   "metadata": {},
   "source": [
    "# Exercise: Measure Latency & Throughput\n",
    "**Objective:** Get hands‑on loading Llama 3.2-Text-1B and timing a simple generation so you understand raw latency and throughput.\n",
    "\n",
    "**Tasks:**\n",
    "1. Load the model & tokenizer  \n",
    "2. Prepare a prompt: Pick or write ~30–50 words; tokenize with tokenizer(...)\n",
    "3. Time your generation\n",
    "4. Record\n",
    "   - Latency (s)\n",
    "   - Throughput (tokens/s)\n",
    "\n",
    "**Requirements:**\n",
    "- `transformers`\n",
    "- `torch`\n"
   ]
  },
  {
   "cell_type": "code",
   "execution_count": null,
   "id": "df7d1ff5",
   "metadata": {},
   "outputs": [],
   "source": [
    "import time\n",
    "import torch\n",
    "from transformers import AutoTokenizer, AutoModelForCausalLM"
   ]
  },
  {
   "cell_type": "code",
   "execution_count": null,
   "id": "b56ac623",
   "metadata": {},
   "outputs": [],
   "source": [
    "# Settings\n",
    "MODEL_NAME = \"TinyLlama/TinyLlama-1.1B-Chat-v1.0\"  \n",
    "DEVICE = torch.device(\"cuda\" if torch.cuda.is_available() else \"cpu\")\n",
    "MAX_NEW_TOKENS = 50"
   ]
  },
  {
   "cell_type": "code",
   "execution_count": null,
   "id": "440d60aa",
   "metadata": {},
   "outputs": [],
   "source": [
    "# Load tokenizer & model\n",
    "tokenizer = AutoTokenizer.from_pretrained(MODEL_NAME, use_fast=True)\n",
    "model = AutoModelForCausalLM.from_pretrained(\n",
    "    MODEL_NAME,\n",
    "    torch_dtype=torch.float16,\n",
    "    device_map=\"auto\"\n",
    ")\n",
    "model.eval()"
   ]
  },
  {
   "cell_type": "code",
   "execution_count": null,
   "id": "18de0437",
   "metadata": {},
   "outputs": [],
   "source": [
    "# Prepare prompt (~40 words)\n",
    "prompt = (\n",
    "    \"Over the next decade, sustainable energy solutions will revolutionize \"\n",
    "    \"global power grids, reducing carbon footprints and fostering resilient \"\n",
    "    \"communities through innovative storage and distribution technologies.\"\n",
    ")\n",
    "inputs = tokenizer(prompt, return_tensors=\"pt\").to(DEVICE)\n",
    "input_len = inputs.input_ids.size(1)\n",
    "print(f\"Input tokens: {input_len}\")"
   ]
  },
  {
   "cell_type": "code",
   "execution_count": null,
   "id": "ca07e538",
   "metadata": {},
   "outputs": [],
   "source": [
    "# Warm-up pass\n",
    "_ = model.generate(**inputs, max_new_tokens=5)\n",
    "if DEVICE.type == \"cuda\":\n",
    "    torch.cuda.synchronize()\n",
    "print(\"Warm-up done.\")"
   ]
  },
  {
   "cell_type": "code",
   "execution_count": null,
   "id": "e1e045f4",
   "metadata": {},
   "outputs": [],
   "source": [
    "# Time generation\n",
    "start_time = time.time()\n",
    "outputs = model.generate(**inputs, max_new_tokens=MAX_NEW_TOKENS)\n",
    "if DEVICE.type == \"cuda\":\n",
    "    torch.cuda.synchronize()\n",
    "end_time = time.time()\n",
    "\n",
    "# Compute metrics\n",
    "latency_s = end_time - start_time\n",
    "generated_tokens = outputs.shape[1] - input_len\n",
    "throughput_tps = generated_tokens / latency_s\n",
    "\n",
    "# Report\n",
    "print(f\"Generated tokens: {generated_tokens}\")\n",
    "print(f\"Latency: {latency_s:.3f} s\")\n",
    "print(f\"Throughput: {throughput_tps:.1f} tokens/s\")"
   ]
  }
 ],
 "metadata": {
  "kernelspec": {
   "display_name": "Python 3 (ipykernel)",
   "language": "python",
   "name": "python3"
  },
  "language_info": {
   "codemirror_mode": {
    "name": "ipython",
    "version": 3
   },
   "file_extension": ".py",
   "mimetype": "text/x-python",
   "name": "python",
   "nbconvert_exporter": "python",
   "pygments_lexer": "ipython3",
   "version": "3.11.11"
  }
 },
 "nbformat": 4,
 "nbformat_minor": 5
}
