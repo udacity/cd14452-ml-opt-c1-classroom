{
 "cells": [
  {
   "cell_type": "markdown",
   "id": "8513c4b7",
   "metadata": {},
   "source": [
    "> **Environment Setup:**\n",
    "\n",
    "Set environment variables to disable TensorFlow and Flax in Hugging Face Transformers to avoid compatibility issues."
   ]
  },
  {
   "cell_type": "markdown",
   "id": "49d2bfa5",
   "metadata": {},
   "source": [
    "> **Environment Setup: Disabling TensorFlow and Flax in Transformers**\n",
    "\n",
    "This cell sets environment variables to prevent Hugging Face Transformers from attempting to use TensorFlow or Flax backends. This is important to avoid compatibility issues, especially with NumPy 2.x and to ensure that only PyTorch is used for model loading and inference."
   ]
  },
  {
   "cell_type": "code",
   "execution_count": 1,
   "id": "a896e748",
   "metadata": {},
   "outputs": [
    {
     "name": "stdout",
     "output_type": "stream",
     "text": [
      "TF/Flax disabled for Transformers imports.\n"
     ]
    }
   ],
   "source": [
    "import os\n",
    "os.environ['TRANSFORMERS_NO_TF'] = '1'\n",
    "os.environ['TRANSFORMERS_NO_FLAX'] = '1'\n",
    "print('TF/Flax disabled for Transformers imports.')"
   ]
  },
  {
   "cell_type": "markdown",
   "id": "7e7a11f2",
   "metadata": {},
   "source": [
    "> **Importing Core Libraries for Model Evaluation**\n",
    "\n",
    "This cell imports essential Python libraries and modules required for the experiments. It includes math for calculations, torch for deep learning operations, time for performance measurement, typing for type hints, and Hugging Face Transformers for model and tokenizer loading."
   ]
  },
  {
   "cell_type": "code",
   "execution_count": 2,
   "id": "55aa6817-5cb7-40fb-ae31-522ac073db1b",
   "metadata": {},
   "outputs": [],
   "source": [
    "import math\n",
    "import torch\n",
    "import time\n",
    "from typing import Dict\n",
    "from transformers import AutoTokenizer, AutoModelForCausalLM"
   ]
  },
  {
   "cell_type": "markdown",
   "id": "c575901d",
   "metadata": {},
   "source": [
    "> **Model Selection: Choosing the LLM for Experiments**\n",
    "\n",
    "This cell defines the model name to be used throughout the notebook. The selected model (TinyLlama-1.1B-Chat-v1.0) is a compact, chat-optimized language model suitable for running on limited hardware and for demonstrating scaling experiments."
   ]
  },
  {
   "cell_type": "code",
   "execution_count": 3,
   "id": "1190abf7-932f-4bb4-9620-1a0081689deb",
   "metadata": {},
   "outputs": [],
   "source": [
    "# ─── SETTINGS ────────────────────────────────────────────────────────────────\n",
    "MODEL_NAME = \"TinyLlama/TinyLlama-1.1B-Chat-v1.0\""
   ]
  },
  {
   "cell_type": "markdown",
   "id": "8f3991ca",
   "metadata": {},
   "source": [
    "> **Model and Tokenizer Loader: Device and Precision Handling**\n",
    "\n",
    "This function loads the specified model and tokenizer from Hugging Face, automatically moves the model to GPU (if available) or CPU, and selects the appropriate numerical precision (float16 for CUDA, float32 otherwise). The model is set to evaluation mode to disable training-specific behaviors."
   ]
  },
  {
   "cell_type": "code",
   "execution_count": 4,
   "id": "d8d52c11-a328-496c-9bfc-d90ec45323c6",
   "metadata": {},
   "outputs": [],
   "source": [
    "def load_model_and_tokenizer(model_name: str):\n",
    "    \"\"\"\n",
    "    TODO:\n",
    "      - Load tokenizer & model from `model_name`\n",
    "      - Move model to GPU if available, choose float16 for CUDA else float32\n",
    "      - Set model to eval mode\n",
    "      - Return (tokenizer, model, device)\n",
    "    \"\"\"\n",
    "    device = torch.device(\"cuda\" if torch.cuda.is_available() else \"cpu\")\n",
    "    dtype  = torch.float16 if device.type == \"cuda\" else torch.float32\n",
    "\n",
    "    tokenizer = AutoTokenizer.from_pretrained(model_name, use_fast=True)\n",
    "    model = AutoModelForCausalLM.from_pretrained(\n",
    "        model_name,\n",
    "        torch_dtype=dtype\n",
    "    )\n",
    "    model.to(device)\n",
    "    model.eval()\n",
    "    return tokenizer, model, device\n"
   ]
  },
  {
   "cell_type": "markdown",
   "id": "e141fae5",
   "metadata": {},
   "source": [
    "> **Text Selection: Providing a Sample Passage**\n",
    "\n",
    "This function returns a sample passage of approximately 100 tokens, typically from Wikipedia or a similar source. The passage is used as the input prompt for all subsequent tokenization and evaluation steps, ensuring consistency across experiments."
   ]
  },
  {
   "cell_type": "code",
   "execution_count": 5,
   "id": "89e5c389-d355-45f4-a42f-ba3549c07529",
   "metadata": {},
   "outputs": [],
   "source": [
    "def select_text():\n",
    "    \"\"\"\n",
    "    TODO:\n",
    "      - Pick or paste a ~100-token passage (e.g. a Wiki snippet)\n",
    "      - Return (text_str)\n",
    "    \"\"\"\n",
    "    return (\n",
    "        \"Artificial intelligence (AI) is intelligence demonstrated by machines, in contrast to the natural \"\n",
    "        \"intelligence displayed by humans and animals. Leading AI textbooks define the field as the study \"\n",
    "        \"of intelligent agents: any system that perceives its environment and takes actions that maximize \"\n",
    "        \"its chance of achieving its goals. Colloquially, the term \\\"artificial intelligence\\\" is often \"\n",
    "        \"used to describe machines that mimic cognitive functions that humans associate with the human mind, \"\n",
    "        \"such as learning and problem-solving.\"\n",
    "    )"
   ]
  },
  {
   "cell_type": "markdown",
   "id": "9aa1fdec",
   "metadata": {},
   "source": [
    "> **Tokenization with Labels: Preparing Model Inputs**\n",
    "\n",
    "This function tokenizes the selected text using the model's tokenizer, converts the text into input tensors, and sets up the labels for language modeling. The output is a dictionary of tensors ready for model input, along with the input length in tokens."
   ]
  },
  {
   "cell_type": "code",
   "execution_count": 6,
   "id": "5b052ce0-7926-49ca-bd28-0fd626883169",
   "metadata": {},
   "outputs": [],
   "source": [
    "def tokenize_with_labels(tokenizer, text: str):\n",
    "    \"\"\"\n",
    "    TODO:\n",
    "      - Tokenize `text` with return_tensors=\"pt\"\n",
    "      - Prepare inputs and set labels = input_ids\n",
    "      - Return (inputs_dict, input_len)\n",
    "    \"\"\"\n",
    "    inputs = tokenizer(text, return_tensors=\"pt\")\n",
    "    inputs[\"labels\"] = inputs[\"input_ids\"].clone()\n",
    "    input_len = inputs[\"input_ids\"].size(1)\n",
    "    return inputs, input_len"
   ]
  },
  {
   "cell_type": "markdown",
   "id": "4bf2ec43",
   "metadata": {},
   "source": [
    "> **Peak Memory and Loss Calculation: Measuring Resource Usage**\n",
    "\n",
    "This function runs a forward pass of the model on the provided inputs, measuring the peak GPU memory usage (if CUDA is available) and the loss value. It ensures accurate memory measurement by resetting and synchronizing CUDA memory stats."
   ]
  },
  {
   "cell_type": "code",
   "execution_count": 7,
   "id": "4bbd671f-4844-4e4c-9c7d-e2c3cc31ebd3",
   "metadata": {},
   "outputs": [],
   "source": [
    "def compute_peak_memory_and_loss(model, inputs, device):\n",
    "    \"\"\"\n",
    "    TODO:\n",
    "      - Reset peak memory stats if CUDA\n",
    "      - Run model(**inputs) under torch.no_grad()\n",
    "      - Sync CUDA if needed\n",
    "      - Retrieve peak memory via torch.cuda.max_memory_allocated (in MiB)\n",
    "      - Return (peak_mem_mib, loss_value)\n",
    "    \"\"\"\n",
    "    if device.type == \"cuda\":\n",
    "        torch.cuda.reset_peak_memory_stats(device)\n",
    "\n",
    "    with torch.no_grad():\n",
    "        outputs = model(\n",
    "            input_ids=inputs[\"input_ids\"].to(device),\n",
    "            attention_mask=inputs.get(\"attention_mask\", None).to(device) if inputs.get(\"attention_mask\") is not None else None,\n",
    "            labels=inputs[\"labels\"].to(device)\n",
    "        )\n",
    "\n",
    "    if device.type == \"cuda\":\n",
    "        torch.cuda.synchronize()\n",
    "        peak_bytes = torch.cuda.max_memory_allocated(device)\n",
    "        peak_mib = peak_bytes / 1024**2\n",
    "    else:\n",
    "        peak_mib = float(\"nan\")\n",
    "\n",
    "    return peak_mib, outputs.loss.item()"
   ]
  },
  {
   "cell_type": "markdown",
   "id": "d6a25008",
   "metadata": {},
   "source": [
    "> **Perplexity Computation: Interpreting Model Loss**\n",
    "\n",
    "This function converts the model's loss value into perplexity, a standard metric for evaluating language models. Lower perplexity indicates better model performance on the given text."
   ]
  },
  {
   "cell_type": "code",
   "execution_count": 8,
   "id": "0d1968fb-257c-43fe-8ec8-dad0f99389b9",
   "metadata": {},
   "outputs": [],
   "source": [
    "def compute_perplexity(loss: float):\n",
    "    \"\"\"\n",
    "    TODO:\n",
    "      - Compute and return math.exp(loss)\n",
    "    \"\"\"\n",
    "    return math.exp(loss)"
   ]
  },
  {
   "cell_type": "markdown",
   "id": "59c502d0",
   "metadata": {},
   "source": [
    "> **Forward Pass Timing: Measuring Inference Latency**\n",
    "\n",
    "This function measures the average time taken for the model to perform a forward pass (inference) on the input data. It includes warmup runs to stabilize performance and reports the mean latency over several timed runs."
   ]
  },
  {
   "cell_type": "code",
   "execution_count": 9,
   "id": "058070f4",
   "metadata": {},
   "outputs": [],
   "source": [
    "def time_forward(model, inputs: Dict[str, torch.Tensor], device, num_warmup: int = 1, num_runs: int = 3):\n",
    "    \"\"\"\n",
    "    TODO:\n",
    "      1) Move all tensors in `inputs` to `device`.\n",
    "      2) Warmup (no timing): under torch.no_grad(), run a small number of forward passes\n",
    "         (num_warmup times) to stabilize kernels/clocks:\n",
    "             _ = model(**inputs_on_device)\n",
    "         If CUDA, call torch.cuda.synchronize() after warmup.\n",
    "      3) Timed runs: create an empty list `latencies = []`.\n",
    "         For _ in range(num_runs):\n",
    "           - Record start time with time.perf_counter()\n",
    "           - Under torch.no_grad(), run a forward pass:\n",
    "                 _ = model(**inputs_on_device)\n",
    "           - If CUDA, call torch.cuda.synchronize()\n",
    "           - Record end time with time.perf_counter()\n",
    "           - Append (end - start) to `latencies`.\n",
    "      4) Return the average latency in seconds:\n",
    "             return sum(latencies) / max(len(latencies), 1)\n",
    "    \"\"\"\n",
    "    # warmup\n",
    "    with torch.no_grad():\n",
    "        for _ in range(num_warmup):\n",
    "            _ = model(**{k: v.to(device) for k, v in inputs.items()})\n",
    "    # timed\n",
    "    latencies = []\n",
    "    with torch.no_grad():\n",
    "        for _ in range(num_runs):\n",
    "            t0 = time.perf_counter()\n",
    "            _ = model(**{k: v.to(device) for k, v in inputs.items()})\n",
    "            if device.type == 'cuda':\n",
    "                torch.cuda.synchronize()\n",
    "            t1 = time.perf_counter()\n",
    "            latencies.append(t1 - t0)\n",
    "    return sum(latencies) / max(len(latencies), 1)"
   ]
  },
  {
   "cell_type": "markdown",
   "id": "020268a8",
   "metadata": {},
   "source": [
    "> **Context Length Sweep: Scaling Analysis with Input Size**\n",
    "\n",
    "This function systematically increases the input (context) length and measures how peak memory usage and inference latency scale. It builds longer input texts, runs the model, and visualizes the results, helping to understand the model's resource requirements as context grows."
   ]
  },
  {
   "cell_type": "code",
   "execution_count": 10,
   "id": "c16a81c9",
   "metadata": {},
   "outputs": [],
   "source": [
    "import matplotlib.pyplot as plt\n",
    "\n",
    "def sweep_context_length(\n",
    "    tokenizer,\n",
    "    model,\n",
    "    device,\n",
    "    targets=(64, 256, 1024),\n",
    "    base_text=None,\n",
    "    build_text_fn=None,\n",
    "    warmup=1,\n",
    "    runs=3,\n",
    "    plot=True,\n",
    "):\n",
    "    \"\"\"\n",
    "    TODO:\n",
    "      1) Determine the model's maximum context length:\n",
    "         - Read `max_position_embeddings` from `model.config` (fallback to 2048).\n",
    "         - Filter `targets` to those <= `max_len - 2` (leave room for special tokens).\n",
    "         - If no valid targets remain, raise a ValueError.\n",
    "\n",
    "      2) Choose a base paragraph:\n",
    "         - If `base_text` is None, call `select_text()`; if unavailable, raise with a helpful message.\n",
    "\n",
    "      3) Build texts of desired token lengths:\n",
    "         - Implement a builder that repeats `base_text` until the tokenized length >= `target_tokens`.\n",
    "         - Allow overriding via `build_text_fn(tokenizer, base_text, target_tokens)`.\n",
    "\n",
    "      4) For each target length:\n",
    "         - Build the text and tokenize with `tokenize_with_labels(tokenizer, text)` to get `(inputs, input_len)`.\n",
    "         - Move all tensors in `inputs` to `device`.\n",
    "         - Compute peak memory (MiB) and loss using `compute_peak_memory_and_loss(model, inputs, device)`.\n",
    "         - Measure forward (prefill) latency using `time_forward(model, inputs, device, num_warmup=warmup, num_runs=runs)`.\n",
    "         - Append `input_len`, `peak_mib`, and `latency_s` to running lists.\n",
    "         - Print a concise summary line for each target.\n",
    "\n",
    "      5) If `plot` is True, create two matplotlib plots (one per figure):\n",
    "         - Peak memory (MiB) vs input tokens.\n",
    "         - Forward latency (s) vs input tokens.\n",
    "         - Use simple line plots with markers and grid; do not specify custom colors.\n",
    "\n",
    "      6) Return a results dictionary with:\n",
    "         - 'lengths': list of actual input token counts\n",
    "         - 'peak_mib': list of peak memory values (MiB)\n",
    "         - 'latency_s': list of forward latencies (s)\n",
    "         - 'max_ctx': the model’s max context length\n",
    "         - 'targets_used': the filtered list of targets\n",
    "    \"\"\"\n",
    "    # 1) Determine max sequence length the model supports\n",
    "    max_len = getattr(model.config, \"max_position_embeddings\", 2048)\n",
    "    targets = [t for t in targets if t <= max_len - 2]  # leave headroom for specials\n",
    "    if not targets:\n",
    "        raise ValueError(\"No targets fit within the model's context window.\")\n",
    "\n",
    "    # 2) Choose base text\n",
    "    if base_text is None:\n",
    "        try:\n",
    "            base_text = select_text()\n",
    "        except NameError as e:\n",
    "            raise ValueError(\"Provide base_text or define select_text().\") from e\n",
    "\n",
    "    # 3) Default builder: repeat base_text until tokenized length >= target\n",
    "    def _default_build(tokenizer, base_text, target_tokens):\n",
    "        pieces = []\n",
    "        while True:\n",
    "            pieces.append(base_text)\n",
    "            toks = tokenizer(\" \".join(pieces), return_tensors=\"pt\")\n",
    "            if toks[\"input_ids\"].size(1) >= target_tokens:\n",
    "                return \" \".join(pieces)\n",
    "\n",
    "    build = build_text_fn or _default_build\n",
    "\n",
    "    len_list, mem_list, lat_list = [], [], []\n",
    "    for T in targets:\n",
    "        text_T = build(tokenizer, base_text, T)\n",
    "        inputs_T, input_len_T = tokenize_with_labels(tokenizer, text_T)\n",
    "        inputs_T = {k: v.to(device) for k, v in inputs_T.items()}\n",
    "        # Peak memory & loss (loss unused here)\n",
    "        peak_mib, _ = compute_peak_memory_and_loss(model, inputs_T, device)\n",
    "        # Forward latency (prefill)\n",
    "        lat_s = time_forward(model, inputs_T, device, num_warmup=warmup, num_runs=runs)\n",
    "\n",
    "        len_list.append(input_len_T)\n",
    "        mem_list.append(peak_mib)\n",
    "        lat_list.append(lat_s)\n",
    "        print(f\"Tokens={input_len_T:4d} | Peak MiB={peak_mib:8.1f} | fwd latency={lat_s:.3f}s\")\n",
    "\n",
    "    if plot:\n",
    "        plt.figure()\n",
    "        plt.plot(len_list, mem_list, marker=\"o\")\n",
    "        plt.xlabel(\"input tokens\")\n",
    "        plt.ylabel(\"peak MiB\")\n",
    "        plt.title(\"Peak memory vs input length\")\n",
    "        plt.grid(True)\n",
    "        plt.show()\n",
    "\n",
    "        plt.figure()\n",
    "        plt.plot(len_list, lat_list, marker=\"o\")\n",
    "        plt.xlabel(\"input tokens\")\n",
    "        plt.ylabel(\"forward latency (s)\")\n",
    "        plt.title(\"Latency vs input length\")\n",
    "        plt.grid(True)\n",
    "        plt.show()\n",
    "\n",
    "    return {\n",
    "        \"lengths\": len_list,\n",
    "        \"peak_mib\": mem_list,\n",
    "        \"latency_s\": lat_list,\n",
    "        \"max_ctx\": max_len,\n",
    "        \"targets_used\": targets,\n",
    "    }\n"
   ]
  },
  {
   "cell_type": "markdown",
   "id": "e485f7b5",
   "metadata": {},
   "source": [
    "> **Precision Comparison: Memory and Perplexity Across dtypes**\n",
    "\n",
    "This function compares the model's memory usage and perplexity when run with different numerical precisions (float16 and float32). It reloads the model for each precision, runs evaluation, and summarizes the trade-offs between memory efficiency and model accuracy."
   ]
  },
  {
   "cell_type": "code",
   "execution_count": 11,
   "id": "960bc2df",
   "metadata": {},
   "outputs": [],
   "source": [
    "from typing import Dict, Iterable, Callable, Tuple\n",
    "\n",
    "def compare_precision_memory_perplexity(\n",
    "    model_name: str,\n",
    "    tokenizer,\n",
    "    load_with_dtype_fn: Callable[[str], Tuple],  # expected to return (tokenizer, model, device)\n",
    "    precisions: Iterable[str] = (\"float16\", \"float32\"),\n",
    "    base_text: str = None,\n",
    ") -> Dict[str, Dict[str, float]]:\n",
    "    \"\"\"\n",
    "    TODO:\n",
    "      1) Prepare a short evaluation paragraph:\n",
    "         - If `base_text` is None, call `select_text()` to get a default paragraph.\n",
    "\n",
    "      2) Tokenize once with the provided `tokenizer`:\n",
    "         - Use `tokenize_with_labels(tokenizer, text)` to get `(inputs_s, Ls)`.\n",
    "\n",
    "      3) For each precision in `precisions`:\n",
    "         - Reload the model with that dtype via: tok_p, mod_p, dev_p = load_with_dtype_fn(precision)\n",
    "           (Assume this function *honors* dtype; on CPU it may force float32.)\n",
    "         - Move pre-tokenized inputs to the appropriate device:\n",
    "               inp = {k: v.to(dev_p) for k, v in inputs_s.items()}\n",
    "         - Measure peak memory (MiB) and loss:\n",
    "               peak_mib, loss_val = compute_peak_memory_and_loss(mod_p, inp, dev_p)\n",
    "         - Convert loss to perplexity:\n",
    "               ppl = compute_perplexity(loss_val)\n",
    "         - Save into a results dict keyed by precision:\n",
    "               results[precision] = {\"peak_mib\": peak_mib, \"ppl\": ppl}\n",
    "\n",
    "      4) Return the results dict.\n",
    "\n",
    "    Returns:\n",
    "      Dict[str, Dict[str, float]] like:\n",
    "        {\"float16\": {\"peak_mib\": 123.4, \"ppl\": 15.2}, \"float32\": {...}}\n",
    "    \"\"\"\n",
    "    # 1) Text\n",
    "    if base_text is None:\n",
    "        base_text = select_text()\n",
    "\n",
    "    # 2) Tokenize once\n",
    "    inputs_s, Ls = tokenize_with_labels(tokenizer, base_text)\n",
    "\n",
    "    # 3) Loop precisions\n",
    "    results: Dict[str, Dict[str, float]] = {}\n",
    "    for prec in precisions:\n",
    "        tok_p, mod_p, dev_p = load_with_dtype_fn(prec)  # should respect dtype internally\n",
    "        inp = {k: v.to(dev_p) for k, v in inputs_s.items()}\n",
    "        peak_mib, loss_val = compute_peak_memory_and_loss(mod_p, inp, dev_p)\n",
    "        ppl = compute_perplexity(loss_val)\n",
    "        results[prec] = {\"peak_mib\": float(peak_mib), \"ppl\": float(ppl)}\n",
    "    return results\n"
   ]
  },
  {
   "cell_type": "markdown",
   "id": "8b41c92a",
   "metadata": {},
   "source": [
    "> **Batch Size Sweep: Analyzing Memory Scaling with Batch Size**\n",
    "\n",
    "This function evaluates how peak memory usage changes as the batch size increases. It creates batches of repeated input text, runs the model, and plots the relationship between batch size and memory consumption, providing insight into hardware requirements for larger batch processing."
   ]
  },
  {
   "cell_type": "code",
   "execution_count": 12,
   "id": "e1f14185",
   "metadata": {},
   "outputs": [],
   "source": [
    "def sweep_batch_memory(\n",
    "    tokenizer,\n",
    "    model,\n",
    "    device,\n",
    "    batch_sizes=(1, 2, 4),\n",
    "    base_text=None,\n",
    "    target_len=128,\n",
    "    plot=True,\n",
    "):\n",
    "    \"\"\"\n",
    "    TODO:\n",
    "      1) Choose a base paragraph:\n",
    "         - If `base_text` is None, call `select_text()` to get a default paragraph.\n",
    "\n",
    "      2) Implement a helper to build batched inputs:\n",
    "         - Given (tokenizer, text, bs, max_len), tokenize a list of the same `text`\n",
    "           repeated `bs` times with:\n",
    "               return_tensors='pt', padding='longest', truncation=True, max_length=target_len\n",
    "         - Set enc['labels'] = enc['input_ids'].clone()\n",
    "\n",
    "      3) For each batch size in `batch_sizes`:\n",
    "         - Build the batch with the helper.\n",
    "         - Move all tensors to `device`.\n",
    "         - Measure peak memory (MiB) using `compute_peak_memory_and_loss(model, enc, device)`.\n",
    "         - Record (bs, peak_mib) and print a concise summary line.\n",
    "\n",
    "      4) If `plot` is True, produce a single matplotlib figure of:\n",
    "         - x = batch size\n",
    "         - y = peak MiB\n",
    "         - Use a simple line plot with markers and grid; do not set custom colors.\n",
    "\n",
    "      5) Return a results dictionary:\n",
    "         {\n",
    "           \"batch_sizes\": [...],\n",
    "           \"peak_mib\": [...],\n",
    "           \"target_len\": target_len,\n",
    "         }\n",
    "    \"\"\"\n",
    "    # 1) Base paragraph\n",
    "    if base_text is None:\n",
    "        base_text = select_text()\n",
    "\n",
    "    # 2) Helper to create a batch\n",
    "    def make_batched_inputs(tokenizer, text: str, bs: int, max_len: int):\n",
    "        texts = [text] * bs\n",
    "        enc = tokenizer(\n",
    "            texts,\n",
    "            return_tensors=\"pt\",\n",
    "            padding=\"longest\",\n",
    "            truncation=True,\n",
    "            max_length=max_len,\n",
    "        )\n",
    "        enc[\"labels\"] = enc[\"input_ids\"].clone()\n",
    "        return enc\n",
    "\n",
    "    # 3) Sweep batch sizes\n",
    "    sizes, peaks = [], []\n",
    "    for bs in batch_sizes:\n",
    "        enc = make_batched_inputs(tokenizer, base_text, bs, target_len)\n",
    "        enc = {k: v.to(device) for k, v in enc.items()}\n",
    "        peak_mib, _ = compute_peak_memory_and_loss(model, enc, device)\n",
    "        sizes.append(bs)\n",
    "        peaks.append(peak_mib)\n",
    "        print(f\"batch={bs} | peak={peak_mib:.1f} MiB\")\n",
    "\n",
    "    # 4) Plot (optional)\n",
    "    if plot:\n",
    "        import matplotlib.pyplot as plt\n",
    "        plt.figure()\n",
    "        plt.plot(sizes, peaks, marker=\"o\")\n",
    "        plt.xlabel(\"batch size\")\n",
    "        plt.ylabel(\"peak MiB\")\n",
    "        plt.title(\"Peak memory vs batch size\")\n",
    "        plt.grid(True)\n",
    "        plt.show()\n",
    "\n",
    "    # 5) Results\n",
    "    return {\n",
    "        \"batch_sizes\": sizes,\n",
    "        \"peak_mib\": peaks,\n",
    "        \"target_len\": target_len,\n",
    "    }\n"
   ]
  },
  {
   "cell_type": "markdown",
   "id": "528a8281",
   "metadata": {},
   "source": [
    "> **Experiment Runner: Orchestrating All Analyses**\n",
    "\n",
    "This function coordinates the entire experiment workflow. It loads the model and tokenizer, prepares the input, runs baseline measurements, and then executes the context length sweep, precision comparison, and batch size sweep. The results are returned in a structured dictionary for further analysis or reporting."
   ]
  },
  {
   "cell_type": "code",
   "execution_count": 13,
   "id": "232ad78b-2ef9-450e-9dde-314ae0fcecb7",
   "metadata": {},
   "outputs": [],
   "source": [
    "def start():\n",
    "    if \"load_with_dtype\" not in globals():\n",
    "        def load_with_dtype(dtype_str: str):\n",
    "            tok_p, mod_p, dev_p = load_model_and_tokenizer(MODEL_NAME)\n",
    "            return tok_p, mod_p, dev_p\n",
    "\n",
    "\n",
    "    # --- 1) Load model/tokenizer ---\n",
    "    tokenizer, model, device = load_model_and_tokenizer(MODEL_NAME)\n",
    "    print(f\"[load] device={device}\")\n",
    "\n",
    "    # --- 2) Select & tokenize a baseline paragraph ---\n",
    "    text = select_text()\n",
    "    inputs, input_len = tokenize_with_labels(tokenizer, text)\n",
    "    inputs = {k: v.to(device) for k, v in inputs.items()}\n",
    "    print(f\"[tokenize] tokens={input_len}\")\n",
    "\n",
    "    # --- 3) Baseline: peak memory & loss ---\n",
    "    peak_mib, loss = compute_peak_memory_and_loss(model, inputs, device)\n",
    "    ppl = compute_perplexity(loss)\n",
    "    fwd_lat = time_forward(model, inputs, device)\n",
    "    print(f\"[baseline] peak={peak_mib:.1f} MiB | loss={loss:.3f} | ppl={ppl:.3f} | fwd={fwd_lat:.3f}s\")\n",
    "\n",
    "    # --- A) Context-length sweep ---\n",
    "    ctx_results = sweep_context_length(\n",
    "        tokenizer=tokenizer,\n",
    "        model=model,\n",
    "        device=device,\n",
    "    )\n",
    "\n",
    "    # --- B) Precision comparison ---\n",
    "    prec_results = compare_precision_memory_perplexity(\n",
    "        model_name=MODEL_NAME,\n",
    "        tokenizer=tokenizer,\n",
    "        load_with_dtype_fn=load_with_dtype,\n",
    "        precisions=(\"float16\", \"float32\"),\n",
    "        base_text=text,\n",
    "    )\n",
    "\n",
    "    # --- C) Batch-size sweep ---\n",
    "    batch_results = sweep_batch_memory(\n",
    "        tokenizer=tokenizer,\n",
    "        model=model,\n",
    "        device=device,\n",
    "    )\n",
    "\n",
    "    return {\n",
    "        \"baseline\": {\n",
    "            \"tokens\": int(input_len),\n",
    "            \"peak_mib\": float(peak_mib),\n",
    "            \"loss\": float(loss),\n",
    "            \"ppl\": float(ppl),\n",
    "            \"forward_latency_s\": float(fwd_lat),\n",
    "        },\n",
    "        \"context_sweep\": ctx_results,\n",
    "        \"precision_compare\": prec_results,\n",
    "        \"batch_sweep\": batch_results,\n",
    "    }\n"
   ]
  },
  {
   "cell_type": "markdown",
   "id": "88fce4bb",
   "metadata": {},
   "source": [
    "> **Run All Experiments: Execute and Display Results**\n",
    "\n",
    "This cell calls the main experiment runner function, which executes all analyses and prints or visualizes the results. It serves as the entry point for running the notebook's full suite of model scaling experiments."
   ]
  },
  {
   "cell_type": "code",
   "execution_count": 14,
   "id": "23a34155-3fb2-431f-ae24-5326387b874b",
   "metadata": {},
   "outputs": [
    {
     "name": "stderr",
     "output_type": "stream",
     "text": [
      "2025-08-21 23:57:14.057237: I tensorflow/core/util/port.cc:153] oneDNN custom operations are on. You may see slightly different numerical results due to floating-point round-off errors from different computation orders. To turn them off, set the environment variable `TF_ENABLE_ONEDNN_OPTS=0`.\n",
      "2025-08-21 23:57:14.071408: E external/local_xla/xla/stream_executor/cuda/cuda_fft.cc:485] Unable to register cuFFT factory: Attempting to register factory for plugin cuFFT when one has already been registered\n",
      "2025-08-21 23:57:14.089818: E external/local_xla/xla/stream_executor/cuda/cuda_dnn.cc:8454] Unable to register cuDNN factory: Attempting to register factory for plugin cuDNN when one has already been registered\n",
      "2025-08-21 23:57:14.095417: E external/local_xla/xla/stream_executor/cuda/cuda_blas.cc:1452] Unable to register cuBLAS factory: Attempting to register factory for plugin cuBLAS when one has already been registered\n",
      "2025-08-21 23:57:14.108726: I tensorflow/core/platform/cpu_feature_guard.cc:210] This TensorFlow binary is optimized to use available CPU instructions in performance-critical operations.\n",
      "To enable the following instructions: SSE4.1 SSE4.2 AVX AVX2 AVX512F AVX512_VNNI FMA, in other operations, rebuild TensorFlow with the appropriate compiler flags.\n"
     ]
    },
    {
     "name": "stdout",
     "output_type": "stream",
     "text": [
      "[load] device=cuda\n",
      "[tokenize] tokens=108\n",
      "[baseline] peak=2145.6 MiB | loss=1.420 | ppl=4.138 | fwd=0.021s\n",
      "Tokens= 108 | Peak MiB=  2145.6 | fwd latency=0.021s\n",
      "Tokens= 322 | Peak MiB=  2216.7 | fwd latency=0.049s\n",
      "Tokens=1071 | Peak MiB=  2463.0 | fwd latency=0.163s\n"
     ]
    },
    {
     "data": {
      "image/png": "[encoded data removed]",
      "text/plain": [
       "<Figure size 640x480 with 1 Axes>"
      ]
     },
     "metadata": {},
     "output_type": "display_data"
    },
    {
     "data": {
      "image/png": "[encoded data removed]",
      "text/plain": [
       "<Figure size 640x480 with 1 Axes>"
      ]
     },
     "metadata": {},
     "output_type": "display_data"
    },
    {
     "name": "stdout",
     "output_type": "stream",
     "text": [
      "batch=1 | peak=2145.6 MiB\n",
      "batch=2 | peak=2180.5 MiB\n",
      "batch=4 | peak=2251.8 MiB\n"
     ]
    },
    {
     "data": {
      "image/png": "[encoded data removed]",
      "text/plain": [
       "<Figure size 640x480 with 1 Axes>"
      ]
     },
     "metadata": {},
     "output_type": "display_data"
    },
    {
     "data": {
      "text/plain": [
       "{'baseline': {'tokens': 108,\n",
       "  'peak_mib': 2145.64013671875,\n",
       "  'loss': 1.4202059507369995,\n",
       "  'ppl': 4.137972571000584,\n",
       "  'forward_latency_s': 0.021317296001749735},\n",
       " 'context_sweep': {'lengths': [108, 322, 1071],\n",
       "  'peak_mib': [2145.64306640625, 2216.71923828125, 2463.00634765625],\n",
       "  'latency_s': [0.0212624739894333, 0.048879599334516875, 0.1626805056584999],\n",
       "  'max_ctx': 2048,\n",
       "  'targets_used': [64, 256, 1024]},\n",
       " 'precision_compare': {'float16': {'peak_mib': 4245.2275390625,\n",
       "   'ppl': 4.137972571000584},\n",
       "  'float32': {'peak_mib': 4245.8193359375, 'ppl': 4.137972571000584}},\n",
       " 'batch_sweep': {'batch_sizes': [1, 2, 4],\n",
       "  'peak_mib': [2145.64306640625, 2180.53369140625, 2251.751953125],\n",
       "  'target_len': 128}}"
      ]
     },
     "execution_count": 14,
     "metadata": {},
     "output_type": "execute_result"
    }
   ],
   "source": [
    "start()"
   ]
  },
  {
   "cell_type": "code",
   "execution_count": null,
   "id": "ff97f717-724d-4139-8178-f165baaaf386",
   "metadata": {},
   "outputs": [],
   "source": []
  }
 ],
 "metadata": {
  "kernelspec": {
   "display_name": "Python 3 (ipykernel)",
   "language": "python",
   "name": "python3"
  },
  "language_info": {
   "codemirror_mode": {
    "name": "ipython",
    "version": 3
   },
   "file_extension": ".py",
   "mimetype": "text/x-python",
   "name": "python",
   "nbconvert_exporter": "python",
   "pygments_lexer": "ipython3",
   "version": "3.11.11"
  }
 },
 "nbformat": 4,
 "nbformat_minor": 5
}
