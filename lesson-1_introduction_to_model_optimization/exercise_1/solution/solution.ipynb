{
 "cells": [
  {
   "cell_type": "markdown",
   "id": "bf2e3b77",
   "metadata": {},
   "source": [
    "# Exercise 1 — Solution\n",
    "\n",
    "Build on the **demo** by exploring: (A) generation length, (B) numerical precision, and (C) KV cache. "
   ]
  },
  {
   "cell_type": "markdown",
   "id": "b760f2f5",
   "metadata": {},
   "source": [
    "## 0) Environment guard\n",
    "Avoid NumPy 2.x + TensorFlow wheel conflicts by disabling optional TF/Flax imports in `transformers`."
   ]
  },
  {
   "cell_type": "code",
   "execution_count": 1,
   "id": "5e5c1574",
   "metadata": {},
   "outputs": [],
   "source": [
    "import os\n",
    "os.environ[\"TRANSFORMERS_NO_TF\"] = \"1\"\n",
    "os.environ[\"TRANSFORMERS_NO_FLAX\"] = \"1\""
   ]
  },
  {
   "cell_type": "markdown",
   "id": "74c5335a",
   "metadata": {},
   "source": [
    "## 1) Imports & globals\n",
    "If the preferred model isn't available, we fall back to a tiny model to keep the notebook runnable everywhere."
   ]
  },
  {
   "cell_type": "code",
   "execution_count": 2,
   "id": "57ba73ce",
   "metadata": {},
   "outputs": [
    {
     "name": "stdout",
     "output_type": "stream",
     "text": [
      "Device=cuda; NumPy=1.26.4; Torch=2.3.1.post300\n"
     ]
    }
   ],
   "source": [
    "import time\n",
    "from typing import Dict, Any, List\n",
    "import numpy as np\n",
    "import torch\n",
    "from transformers import AutoTokenizer, AutoModelForCausalLM\n",
    "import matplotlib.pyplot as plt\n",
    "\n",
    "device = torch.device(\"cuda\" if torch.cuda.is_available() else \"cpu\")\n",
    "print(f\"Device={device}; NumPy={np.__version__}; Torch={torch.__version__}\")\n",
    "\n",
    "PREFERRED_MODEL = \"TinyLlama/TinyLlama-1.1B-Chat-v1.0\"\n",
    "\n",
    "DEFAULT_PROMPT = (\n",
    "        \"Artificial intelligence (AI) is intelligence demonstrated by machines, in contrast to the natural \"\n",
    "        \"intelligence displayed by humans and animals. Leading AI textbooks define the field as the study \"\n",
    "        \"of intelligent agents: any system that perceives its environment and takes actions that maximize \"\n",
    "        \"its chance of achieving its goals. Colloquially, the term \\\"artificial intelligence\\\" is often \"\n",
    "        \"used to describe machines that mimic cognitive functions that humans associate with the human mind, \"\n",
    "        \"such as learning and problem-solving.\"\n",
    ")\n"
   ]
  },
  {
   "cell_type": "markdown",
   "id": "447515ab",
   "metadata": {},
   "source": [
    "## 2) Helpers "
   ]
  },
  {
   "cell_type": "code",
   "execution_count": null,
   "id": "658362dd-8ba3-4625-8d06-f8b035c08536",
   "metadata": {},
   "outputs": [],
   "source": [
    "def _resolve_dtype(dtype_str: str, device: torch.device):\n",
    "    if device.type == 'cpu' and dtype_str == 'float16':\n",
    "        return torch.float32, 'float32 (forced on CPU)'\n",
    "    return (torch.float16 if dtype_str == 'float16' else torch.float32), dtype_str"
   ]
  },
  {
   "cell_type": "code",
   "execution_count": null,
   "id": "a4c4f3d1-0859-4b10-9a08-d7348da5c35c",
   "metadata": {},
   "outputs": [],
   "source": [
    "def load_model_and_tokenizer(model_name: str, dtype_str: str = 'float16'):\n",
    "    \"\"\"Load tokenizer/model with chosen precision; return (tokenizer, model, model_used, dtype_used_label).\"\"\"\n",
    "    dtype, label = _resolve_dtype(dtype_str, device)\n",
    "    for name in [model_name]:\n",
    "        try:\n",
    "            tok = AutoTokenizer.from_pretrained(name, use_fast=True)\n",
    "            mdl = AutoModelForCausalLM.from_pretrained(name, torch_dtype=dtype)\n",
    "            mdl.to(device)\n",
    "            mdl.eval()\n",
    "            if tok.pad_token_id is None and tok.eos_token_id is not None:\n",
    "                tok.pad_token = tok.eos_token\n",
    "            return tok, mdl, name, label\n",
    "        except Exception:\n",
    "            continue\n",
    "    raise RuntimeError('Could not load any model from preferred/fallback list.')"
   ]
  },
  {
   "cell_type": "code",
   "execution_count": null,
   "id": "d4a658f8-ffd8-4718-ac0b-2a3e698f2b19",
   "metadata": {},
   "outputs": [],
   "source": [
    "def time_generate(model, tokenizer, prompt: str, max_new_tokens: int = 50, use_cache: bool = True,\n",
    "                  num_warmup: int = 1, num_runs: int = 3) -> Dict[str, Any]:\n",
    "    \"\"\"Time model.generate and return metrics: total_latency_s, tokens_generated, tokens_per_sec, avg_latency_per_token_ms.\"\"\"\n",
    "    input_ids = tokenizer(prompt, return_tensors='pt').input_ids.to(model.device)\n",
    "    with torch.no_grad():\n",
    "        for _ in range(num_warmup):\n",
    "            _ = model.generate(input_ids, max_new_tokens=8, use_cache=use_cache)\n",
    "    latencies, tokens_out = [], []\n",
    "    with torch.no_grad():\n",
    "        for _ in range(num_runs):\n",
    "            t0 = time.perf_counter()\n",
    "            out = model.generate(input_ids, max_new_tokens=max_new_tokens, use_cache=use_cache)\n",
    "            t1 = time.perf_counter()\n",
    "            latencies.append(t1 - t0)\n",
    "            tokens_out.append(out.shape[-1] - input_ids.shape[-1])\n",
    "    L = sum(latencies) / max(len(latencies), 1)\n",
    "    TG = sum(tokens_out) / max(len(tokens_out), 1)\n",
    "    TPS = (TG / L) if L > 0 else float('nan')\n",
    "    LPT = (L / max(TG, 1e-9)) * 1000.0\n",
    "    return {'total_latency_s': L, 'tokens_generated': TG, 'tokens_per_sec': TPS, 'avg_latency_per_token_ms': LPT}"
   ]
  },
  {
   "cell_type": "code",
   "execution_count": 3,
   "id": "dbb22eef",
   "metadata": {},
   "outputs": [],
   "source": [
    "def plot_xy(xs: List[float], ys: List[float], xlabel: str, ylabel: str, title: str):\n",
    "    plt.figure()\n",
    "    plt.plot(xs, ys, marker='o')\n",
    "    plt.xlabel(xlabel)\n",
    "    plt.ylabel(ylabel)\n",
    "    plt.title(title)\n",
    "    plt.grid(True)\n",
    "    plt.show()"
   ]
  },
  {
   "cell_type": "markdown",
   "id": "cdf2b066",
   "metadata": {},
   "source": [
    "## 3) Baseline (same as demo)\n",
    "Run one fixed setup as baseline: `max_new_tokens=50`, `float16`, `use_cache=True`."
   ]
  },
  {
   "cell_type": "code",
   "execution_count": 4,
   "id": "013825a2",
   "metadata": {},
   "outputs": [
    {
     "name": "stderr",
     "output_type": "stream",
     "text": [
      "2025-08-21 23:20:18.266772: I tensorflow/core/util/port.cc:153] oneDNN custom operations are on. You may see slightly different numerical results due to floating-point round-off errors from different computation orders. To turn them off, set the environment variable `TF_ENABLE_ONEDNN_OPTS=0`.\n",
      "2025-08-21 23:20:18.280971: E external/local_xla/xla/stream_executor/cuda/cuda_fft.cc:485] Unable to register cuFFT factory: Attempting to register factory for plugin cuFFT when one has already been registered\n",
      "2025-08-21 23:20:18.299221: E external/local_xla/xla/stream_executor/cuda/cuda_dnn.cc:8454] Unable to register cuDNN factory: Attempting to register factory for plugin cuDNN when one has already been registered\n",
      "2025-08-21 23:20:18.304805: E external/local_xla/xla/stream_executor/cuda/cuda_blas.cc:1452] Unable to register cuBLAS factory: Attempting to register factory for plugin cuBLAS when one has already been registered\n",
      "2025-08-21 23:20:18.317687: I tensorflow/core/platform/cpu_feature_guard.cc:210] This TensorFlow binary is optimized to use available CPU instructions in performance-critical operations.\n",
      "To enable the following instructions: SSE4.1 SSE4.2 AVX AVX2 AVX512F AVX512_VNNI FMA, in other operations, rebuild TensorFlow with the appropriate compiler flags.\n"
     ]
    },
    {
     "name": "stdout",
     "output_type": "stream",
     "text": [
      "Loaded: TinyLlama/TinyLlama-1.1B-Chat-v1.0 | dtype=float16\n"
     ]
    },
    {
     "data": {
      "text/plain": [
       "{'total_latency_s': 0.9820365196598383,\n",
       " 'tokens_generated': 50.0,\n",
       " 'tokens_per_sec': 50.914603478615234,\n",
       " 'avg_latency_per_token_ms': 19.640730393196765}"
      ]
     },
     "execution_count": 4,
     "metadata": {},
     "output_type": "execute_result"
    }
   ],
   "source": [
    "tokenizer, model, MODEL_USED, DTYPE_USED = load_model_and_tokenizer(PREFERRED_MODEL, dtype_str='float16')\n",
    "print(f\"Loaded: {MODEL_USED} | dtype={DTYPE_USED}\")\n",
    "baseline = time_generate(model, tokenizer, DEFAULT_PROMPT, max_new_tokens=50, use_cache=True)\n",
    "assert all(k in baseline for k in ['total_latency_s','tokens_generated','tokens_per_sec','avg_latency_per_token_ms'])\n",
    "baseline"
   ]
  },
  {
   "cell_type": "markdown",
   "id": "fc54275b",
   "metadata": {},
   "source": [
    "## 4) Exercise A — Generation Length vs Cost\n",
    "Vary `max_new_tokens` and plot latency/throughput."
   ]
  },
  {
   "cell_type": "code",
   "execution_count": 5,
   "id": "48e6ad25",
   "metadata": {},
   "outputs": [
    {
     "data": {
      "image/png": "[encoded data removed]",
      "text/plain": [
       "<Figure size 640x480 with 1 Axes>"
      ]
     },
     "metadata": {},
     "output_type": "display_data"
    },
    {
     "data": {
      "image/png": "[encoded data removed]",
      "text/plain": [
       "<Figure size 640x480 with 1 Axes>"
      ]
     },
     "metadata": {},
     "output_type": "display_data"
    }
   ],
   "source": [
    "def run_for_varied_lengths():\n",
    "    lengths = [10, 50, 100, 250]\n",
    "    results_len = []\n",
    "    for L in lengths:\n",
    "        m = time_generate(model, tokenizer, DEFAULT_PROMPT, max_new_tokens=L, use_cache=True)\n",
    "        results_len.append(m)\n",
    "    latencies = [r['total_latency_s'] for r in results_len]\n",
    "    throughputs = [r['tokens_per_sec'] for r in results_len]\n",
    "    plot_xy(lengths, latencies, xlabel='max_new_tokens', ylabel='total latency (s)', title='Latency vs Generation Length')\n",
    "    plot_xy(lengths, throughputs, xlabel='max_new_tokens', ylabel='tokens/sec', title='Throughput vs Generation Length')\n",
    "\n",
    "\n",
    "run_for_varied_lengths()"
   ]
  },
  {
   "cell_type": "markdown",
   "id": "ff940e7e",
   "metadata": {},
   "source": [
    "## 5) Exercise B — Numerical Precision (float16 vs float32)\n",
    "Reload for each precision with identical settings and compare."
   ]
  },
  {
   "cell_type": "code",
   "execution_count": 6,
   "id": "bcd61102",
   "metadata": {},
   "outputs": [],
   "source": [
    "def run_varied_precision():\n",
    "    precisions = ['float16','float32']\n",
    "    compare_precision = {}\n",
    "    for p in precisions:\n",
    "        tok, mod, used, dlab = load_model_and_tokenizer(PREFERRED_MODEL, dtype_str=p)\n",
    "        compare_precision[p] = time_generate(mod, tok, DEFAULT_PROMPT, max_new_tokens=50, use_cache=True)\n",
    "    return compare_precision\n",
    "\n",
    "\n",
    "compare_precision = run_varied_precision()"
   ]
  },
  {
   "cell_type": "markdown",
   "id": "8787471f",
   "metadata": {},
   "source": [
    "## 6) Exercise C — KV Cache On vs Off\n",
    "Use the same model and toggle `use_cache`."
   ]
  },
  {
   "cell_type": "code",
   "execution_count": 7,
   "id": "68e8679a",
   "metadata": {},
   "outputs": [
    {
     "data": {
      "text/plain": [
       "{'use_cache=True': {'total_latency_s': 0.997685762316299,\n",
       "  'tokens_generated': 50.0,\n",
       "  'tokens_per_sec': 50.115980290143064,\n",
       "  'avg_latency_per_token_ms': 19.95371524632598},\n",
       " 'use_cache=False': {'total_latency_s': 1.167668834348054,\n",
       "  'tokens_generated': 50.0,\n",
       "  'tokens_per_sec': 42.82036013054726,\n",
       "  'avg_latency_per_token_ms': 23.353376686961077}}"
      ]
     },
     "execution_count": 7,
     "metadata": {},
     "output_type": "execute_result"
    }
   ],
   "source": [
    "kv_results = {}\n",
    "kv_results['use_cache=True'] = time_generate(model, tokenizer, DEFAULT_PROMPT, max_new_tokens=50, use_cache=True)\n",
    "kv_results['use_cache=False'] = time_generate(model, tokenizer, DEFAULT_PROMPT, max_new_tokens=50, use_cache=False)\n",
    "kv_results"
   ]
  },
  {
   "cell_type": "markdown",
   "id": "03eb5214",
   "metadata": {},
   "source": [
    "## 7) (Optional) Compact summary table\n",
    "Summarize the three ideas in a small table."
   ]
  },
  {
   "cell_type": "code",
   "execution_count": 8,
   "id": "4f1b986f",
   "metadata": {},
   "outputs": [
    {
     "data": {
      "text/html": [
       "<div>\n",
       "<style scoped>\n",
       "    .dataframe tbody tr th:only-of-type {\n",
       "        vertical-align: middle;\n",
       "    }\n",
       "\n",
       "    .dataframe tbody tr th {\n",
       "        vertical-align: top;\n",
       "    }\n",
       "\n",
       "    .dataframe thead th {\n",
       "        text-align: right;\n",
       "    }\n",
       "</style>\n",
       "<table border=\"1\" class=\"dataframe\">\n",
       "  <thead>\n",
       "    <tr style=\"text-align: right;\">\n",
       "      <th></th>\n",
       "      <th>label</th>\n",
       "      <th>dtype</th>\n",
       "      <th>use_cache</th>\n",
       "      <th>max_new_tokens</th>\n",
       "      <th>total_latency_s</th>\n",
       "      <th>tokens_generated</th>\n",
       "      <th>tokens_per_sec</th>\n",
       "      <th>avg_latency_per_token_ms</th>\n",
       "    </tr>\n",
       "  </thead>\n",
       "  <tbody>\n",
       "    <tr>\n",
       "      <th>0</th>\n",
       "      <td>baseline (fp16, cache on)</td>\n",
       "      <td>float16</td>\n",
       "      <td>True</td>\n",
       "      <td>50</td>\n",
       "      <td>0.982037</td>\n",
       "      <td>50.0</td>\n",
       "      <td>50.914603</td>\n",
       "      <td>19.640730</td>\n",
       "    </tr>\n",
       "    <tr>\n",
       "      <th>1</th>\n",
       "      <td>fp32, cache on</td>\n",
       "      <td>float32</td>\n",
       "      <td>True</td>\n",
       "      <td>50</td>\n",
       "      <td>1.129661</td>\n",
       "      <td>50.0</td>\n",
       "      <td>44.261063</td>\n",
       "      <td>22.593222</td>\n",
       "    </tr>\n",
       "    <tr>\n",
       "      <th>2</th>\n",
       "      <td>fp16, cache off</td>\n",
       "      <td>float16</td>\n",
       "      <td>False</td>\n",
       "      <td>50</td>\n",
       "      <td>1.167669</td>\n",
       "      <td>50.0</td>\n",
       "      <td>42.820360</td>\n",
       "      <td>23.353377</td>\n",
       "    </tr>\n",
       "  </tbody>\n",
       "</table>\n",
       "</div>"
      ],
      "text/plain": [
       "                       label    dtype  use_cache  max_new_tokens  \\\n",
       "0  baseline (fp16, cache on)  float16       True              50   \n",
       "1             fp32, cache on  float32       True              50   \n",
       "2            fp16, cache off  float16      False              50   \n",
       "\n",
       "   total_latency_s  tokens_generated  tokens_per_sec  avg_latency_per_token_ms  \n",
       "0         0.982037              50.0       50.914603                 19.640730  \n",
       "1         1.129661              50.0       44.261063                 22.593222  \n",
       "2         1.167669              50.0       42.820360                 23.353377  "
      ]
     },
     "execution_count": 8,
     "metadata": {},
     "output_type": "execute_result"
    }
   ],
   "source": [
    "import pandas as pd\n",
    "rows = []\n",
    "rows.append({'label':'baseline (fp16, cache on)','dtype':'float16','use_cache':True,'max_new_tokens':50, **baseline})\n",
    "rows.append({'label':'fp32, cache on','dtype':'float32','use_cache':True,'max_new_tokens':50, **compare_precision['float32']})\n",
    "rows.append({'label':'fp16, cache off','dtype':'float16','use_cache':False,'max_new_tokens':50, **kv_results['use_cache=False']})\n",
    "df = pd.DataFrame(rows)\n",
    "df"
   ]
  },
  {
   "cell_type": "code",
   "execution_count": null,
   "id": "cb63bcdf-49db-4347-87f9-cdb08f7618e6",
   "metadata": {},
   "outputs": [],
   "source": []
  },
  {
   "cell_type": "code",
   "execution_count": null,
   "id": "df340fba-1fbf-4b74-8d84-c5320e773276",
   "metadata": {},
   "outputs": [],
   "source": []
  }
 ],
 "metadata": {
  "kernelspec": {
   "display_name": "Python 3 (ipykernel)",
   "language": "python",
   "name": "python3"
  },
  "language_info": {
   "codemirror_mode": {
    "name": "ipython",
    "version": 3
   },
   "file_extension": ".py",
   "mimetype": "text/x-python",
   "name": "python",
   "nbconvert_exporter": "python",
   "pygments_lexer": "ipython3",
   "version": "3.11.11"
  }
 },
 "nbformat": 4,
 "nbformat_minor": 5
}
